{
  "nbformat": 4,
  "nbformat_minor": 0,
  "metadata": {
    "colab": {
      "name": "Eleven_Hackathon.ipynb",
      "provenance": []
    },
    "kernelspec": {
      "name": "python3",
      "display_name": "Python 3"
    }
  },
  "cells": [
    {
      "cell_type": "code",
      "metadata": {
        "id": "PP25KxmF3zN6"
      },
      "source": [
        "import numpy as np\r\n",
        "import pandas as pd\r\n",
        "import matplotlib.pyplot as plt\r\n",
        "import seaborn as sns\r\n",
        "import math\r\n",
        "import time\r\n",
        "\r\n",
        "from sklearn.preprocessing import MinMaxScaler\r\n",
        "from sklearn.feature_selection import VarianceThreshold\r\n",
        "from sklearn.model_selection import train_test_split\r\n",
        "from sklearn.linear_model import LogisticRegression\r\n",
        "from sklearn.metrics import mean_squared_error, r2_score\r\n",
        "from datetime import datetime, timedelta"
      ],
      "execution_count": 1,
      "outputs": []
    },
    {
      "cell_type": "markdown",
      "metadata": {
        "id": "WDDdnsRzTOmK"
      },
      "source": [
        "# Train Data"
      ]
    },
    {
      "cell_type": "code",
      "metadata": {
        "colab": {
          "base_uri": "https://localhost:8080/"
        },
        "id": "JLULzNbETzPL",
        "outputId": "98662ca0-55f4-484f-862d-3864b941f42f"
      },
      "source": [
        "geographic_df = pd.read_csv('geographic_data.csv')\r\n",
        "airport_df = pd.read_csv('training_set_airport_data.csv')\r\n",
        "weather_df = pd.read_csv('Weather_data.csv')\r\n",
        "# Converted the ACchar.xlsx to a csv file\r\n",
        "AC_df = pd.read_csv('ACchar.csv')"
      ],
      "execution_count": 2,
      "outputs": [
        {
          "output_type": "stream",
          "text": [
            "/usr/local/lib/python3.6/dist-packages/IPython/core/interactiveshell.py:2718: DtypeWarning: Columns (1,2) have mixed types.Specify dtype option on import or set low_memory=False.\n",
            "  interactivity=interactivity, compiler=compiler, result=result)\n"
          ],
          "name": "stderr"
        }
      ]
    },
    {
      "cell_type": "markdown",
      "metadata": {
        "id": "GtyO_zerSnad"
      },
      "source": [
        "## Merging Datasets"
      ]
    },
    {
      "cell_type": "markdown",
      "metadata": {
        "id": "Jy6j7lhSSidl"
      },
      "source": [
        "### Airport Dataset"
      ]
    },
    {
      "cell_type": "code",
      "metadata": {
        "colab": {
          "base_uri": "https://localhost:8080/",
          "height": 0
        },
        "id": "XRqp78-gPQN4",
        "outputId": "1928be7a-577a-488d-d3b8-93406520e6fa"
      },
      "source": [
        "airport_df.head()"
      ],
      "execution_count": 3,
      "outputs": [
        {
          "output_type": "execute_result",
          "data": {
            "text/html": [
              "<div>\n",
              "<style scoped>\n",
              "    .dataframe tbody tr th:only-of-type {\n",
              "        vertical-align: middle;\n",
              "    }\n",
              "\n",
              "    .dataframe tbody tr th {\n",
              "        vertical-align: top;\n",
              "    }\n",
              "\n",
              "    .dataframe thead th {\n",
              "        text-align: right;\n",
              "    }\n",
              "</style>\n",
              "<table border=\"1\" class=\"dataframe\">\n",
              "  <thead>\n",
              "    <tr style=\"text-align: right;\">\n",
              "      <th></th>\n",
              "      <th>Flight Datetime</th>\n",
              "      <th>Aircraft Model</th>\n",
              "      <th>AOBT</th>\n",
              "      <th>ATOT</th>\n",
              "      <th>Stand</th>\n",
              "      <th>Runway</th>\n",
              "    </tr>\n",
              "  </thead>\n",
              "  <tbody>\n",
              "    <tr>\n",
              "      <th>0</th>\n",
              "      <td>1/1/2015 6:00</td>\n",
              "      <td>B737-800 WINGLETS</td>\n",
              "      <td>1/1/2015 5:56</td>\n",
              "      <td>1/1/2015 6:05</td>\n",
              "      <td>STAND_62</td>\n",
              "      <td>RUNWAY_4</td>\n",
              "    </tr>\n",
              "    <tr>\n",
              "      <th>1</th>\n",
              "      <td>1/1/2015 6:10</td>\n",
              "      <td>A320-100/200</td>\n",
              "      <td>1/1/2015 6:08</td>\n",
              "      <td>1/1/2015 6:18</td>\n",
              "      <td>STAND_153</td>\n",
              "      <td>RUNWAY_4</td>\n",
              "    </tr>\n",
              "    <tr>\n",
              "      <th>2</th>\n",
              "      <td>1/1/2015 6:15</td>\n",
              "      <td>A320-100/200</td>\n",
              "      <td>1/1/2015 6:08</td>\n",
              "      <td>1/1/2015 6:19</td>\n",
              "      <td>STAND_44</td>\n",
              "      <td>RUNWAY_2</td>\n",
              "    </tr>\n",
              "    <tr>\n",
              "      <th>3</th>\n",
              "      <td>1/1/2015 6:20</td>\n",
              "      <td>A320-100/200</td>\n",
              "      <td>1/1/2015 6:24</td>\n",
              "      <td>1/1/2015 6:36</td>\n",
              "      <td>STAND_7</td>\n",
              "      <td>RUNWAY_3</td>\n",
              "    </tr>\n",
              "    <tr>\n",
              "      <th>4</th>\n",
              "      <td>1/1/2015 6:20</td>\n",
              "      <td>A319</td>\n",
              "      <td>1/1/2015 6:14</td>\n",
              "      <td>1/1/2015 6:27</td>\n",
              "      <td>STAND_17</td>\n",
              "      <td>RUNWAY_2</td>\n",
              "    </tr>\n",
              "  </tbody>\n",
              "</table>\n",
              "</div>"
            ],
            "text/plain": [
              "  Flight Datetime     Aircraft Model  ...      Stand    Runway\n",
              "0   1/1/2015 6:00  B737-800 WINGLETS  ...   STAND_62  RUNWAY_4\n",
              "1   1/1/2015 6:10       A320-100/200  ...  STAND_153  RUNWAY_4\n",
              "2   1/1/2015 6:15       A320-100/200  ...   STAND_44  RUNWAY_2\n",
              "3   1/1/2015 6:20       A320-100/200  ...    STAND_7  RUNWAY_3\n",
              "4   1/1/2015 6:20               A319  ...   STAND_17  RUNWAY_2\n",
              "\n",
              "[5 rows x 6 columns]"
            ]
          },
          "metadata": {
            "tags": []
          },
          "execution_count": 3
        }
      ]
    },
    {
      "cell_type": "code",
      "metadata": {
        "colab": {
          "base_uri": "https://localhost:8080/",
          "height": 0
        },
        "id": "0e_mTR_GSs2e",
        "outputId": "2281366e-9290-470d-9697-906cf46a3b62"
      },
      "source": [
        "airport_df.describe()"
      ],
      "execution_count": 4,
      "outputs": [
        {
          "output_type": "execute_result",
          "data": {
            "text/html": [
              "<div>\n",
              "<style scoped>\n",
              "    .dataframe tbody tr th:only-of-type {\n",
              "        vertical-align: middle;\n",
              "    }\n",
              "\n",
              "    .dataframe tbody tr th {\n",
              "        vertical-align: top;\n",
              "    }\n",
              "\n",
              "    .dataframe thead th {\n",
              "        text-align: right;\n",
              "    }\n",
              "</style>\n",
              "<table border=\"1\" class=\"dataframe\">\n",
              "  <thead>\n",
              "    <tr style=\"text-align: right;\">\n",
              "      <th></th>\n",
              "      <th>Flight Datetime</th>\n",
              "      <th>Aircraft Model</th>\n",
              "      <th>AOBT</th>\n",
              "      <th>ATOT</th>\n",
              "      <th>Stand</th>\n",
              "      <th>Runway</th>\n",
              "    </tr>\n",
              "  </thead>\n",
              "  <tbody>\n",
              "    <tr>\n",
              "      <th>count</th>\n",
              "      <td>543813</td>\n",
              "      <td>543813</td>\n",
              "      <td>543813</td>\n",
              "      <td>543813</td>\n",
              "      <td>543813</td>\n",
              "      <td>543813</td>\n",
              "    </tr>\n",
              "    <tr>\n",
              "      <th>unique</th>\n",
              "      <td>244764</td>\n",
              "      <td>143</td>\n",
              "      <td>461674</td>\n",
              "      <td>538720</td>\n",
              "      <td>166</td>\n",
              "      <td>4</td>\n",
              "    </tr>\n",
              "    <tr>\n",
              "      <th>top</th>\n",
              "      <td>5/2/2015 6:10</td>\n",
              "      <td>A319</td>\n",
              "      <td>5/12/2016 17:34</td>\n",
              "      <td>3/22/2016 8:48</td>\n",
              "      <td>STAND_61</td>\n",
              "      <td>RUNWAY_2</td>\n",
              "    </tr>\n",
              "    <tr>\n",
              "      <th>freq</th>\n",
              "      <td>9</td>\n",
              "      <td>178048</td>\n",
              "      <td>5</td>\n",
              "      <td>3</td>\n",
              "      <td>3453</td>\n",
              "      <td>136375</td>\n",
              "    </tr>\n",
              "  </tbody>\n",
              "</table>\n",
              "</div>"
            ],
            "text/plain": [
              "       Flight Datetime Aircraft Model  ...     Stand    Runway\n",
              "count           543813         543813  ...    543813    543813\n",
              "unique          244764            143  ...       166         4\n",
              "top      5/2/2015 6:10           A319  ...  STAND_61  RUNWAY_2\n",
              "freq                 9         178048  ...      3453    136375\n",
              "\n",
              "[4 rows x 6 columns]"
            ]
          },
          "metadata": {
            "tags": []
          },
          "execution_count": 4
        }
      ]
    },
    {
      "cell_type": "code",
      "metadata": {
        "id": "bi9t05nfS0M0"
      },
      "source": [
        "airport_df['Flight Datetime'] = pd.to_datetime(airport_df['Flight Datetime'], format = '%m/%d/%Y %H:%M')\r\n",
        "airport_df['AOBT'] =  pd.to_datetime(airport_df['AOBT'], format='%m/%d/%Y %H:%M')\r\n",
        "airport_df['ATOT'] =  pd.to_datetime(airport_df['ATOT'], format='%m/%d/%Y %H:%M')"
      ],
      "execution_count": 5,
      "outputs": []
    },
    {
      "cell_type": "markdown",
      "metadata": {
        "id": "0QrnlCPxTI7z"
      },
      "source": [
        "### Geographic Dataset"
      ]
    },
    {
      "cell_type": "code",
      "metadata": {
        "colab": {
          "base_uri": "https://localhost:8080/",
          "height": 0
        },
        "id": "iNkwD5MnPNB6",
        "outputId": "e8d4d73e-83f8-4f5a-df0e-03c91d405d26"
      },
      "source": [
        "geographic_df.describe()"
      ],
      "execution_count": 6,
      "outputs": [
        {
          "output_type": "execute_result",
          "data": {
            "text/html": [
              "<div>\n",
              "<style scoped>\n",
              "    .dataframe tbody tr th:only-of-type {\n",
              "        vertical-align: middle;\n",
              "    }\n",
              "\n",
              "    .dataframe tbody tr th {\n",
              "        vertical-align: top;\n",
              "    }\n",
              "\n",
              "    .dataframe thead th {\n",
              "        text-align: right;\n",
              "    }\n",
              "</style>\n",
              "<table border=\"1\" class=\"dataframe\">\n",
              "  <thead>\n",
              "    <tr style=\"text-align: right;\">\n",
              "      <th></th>\n",
              "      <th>Lat_runway</th>\n",
              "      <th>Lng_runway</th>\n",
              "      <th>Lat_stand</th>\n",
              "      <th>Lng_stand</th>\n",
              "    </tr>\n",
              "  </thead>\n",
              "  <tbody>\n",
              "    <tr>\n",
              "      <th>count</th>\n",
              "      <td>19545.000000</td>\n",
              "      <td>19545.000000</td>\n",
              "      <td>19545.000000</td>\n",
              "      <td>19545.000000</td>\n",
              "    </tr>\n",
              "    <tr>\n",
              "      <th>mean</th>\n",
              "      <td>54.757430</td>\n",
              "      <td>-0.007600</td>\n",
              "      <td>54.767112</td>\n",
              "      <td>0.015223</td>\n",
              "    </tr>\n",
              "    <tr>\n",
              "      <th>std</th>\n",
              "      <td>0.002815</td>\n",
              "      <td>0.020570</td>\n",
              "      <td>0.002567</td>\n",
              "      <td>0.006758</td>\n",
              "    </tr>\n",
              "    <tr>\n",
              "      <th>min</th>\n",
              "      <td>54.755307</td>\n",
              "      <td>-0.024107</td>\n",
              "      <td>54.761081</td>\n",
              "      <td>-0.009674</td>\n",
              "    </tr>\n",
              "    <tr>\n",
              "      <th>25%</th>\n",
              "      <td>54.755307</td>\n",
              "      <td>-0.023040</td>\n",
              "      <td>54.765141</td>\n",
              "      <td>0.010050</td>\n",
              "    </tr>\n",
              "    <tr>\n",
              "      <th>50%</th>\n",
              "      <td>54.755307</td>\n",
              "      <td>-0.023040</td>\n",
              "      <td>54.766471</td>\n",
              "      <td>0.016204</td>\n",
              "    </tr>\n",
              "    <tr>\n",
              "      <th>75%</th>\n",
              "      <td>54.761173</td>\n",
              "      <td>0.019840</td>\n",
              "      <td>54.769007</td>\n",
              "      <td>0.020901</td>\n",
              "    </tr>\n",
              "    <tr>\n",
              "      <th>max</th>\n",
              "      <td>54.761493</td>\n",
              "      <td>0.019840</td>\n",
              "      <td>54.773947</td>\n",
              "      <td>0.026379</td>\n",
              "    </tr>\n",
              "  </tbody>\n",
              "</table>\n",
              "</div>"
            ],
            "text/plain": [
              "         Lat_runway    Lng_runway     Lat_stand     Lng_stand\n",
              "count  19545.000000  19545.000000  19545.000000  19545.000000\n",
              "mean      54.757430     -0.007600     54.767112      0.015223\n",
              "std        0.002815      0.020570      0.002567      0.006758\n",
              "min       54.755307     -0.024107     54.761081     -0.009674\n",
              "25%       54.755307     -0.023040     54.765141      0.010050\n",
              "50%       54.755307     -0.023040     54.766471      0.016204\n",
              "75%       54.761173      0.019840     54.769007      0.020901\n",
              "max       54.761493      0.019840     54.773947      0.026379"
            ]
          },
          "metadata": {
            "tags": []
          },
          "execution_count": 6
        }
      ]
    },
    {
      "cell_type": "code",
      "metadata": {
        "id": "YkR4vVTnTSD4"
      },
      "source": [
        "# Merging airport_df with geographic_df on the runway and stand columns\r\n",
        "runway_df = np.hsplit(geographic_df, 2)[0].drop_duplicates()\r\n",
        "stand_df = np.hsplit(geographic_df, 2)[1].drop_duplicates()"
      ],
      "execution_count": 7,
      "outputs": []
    },
    {
      "cell_type": "code",
      "metadata": {
        "colab": {
          "base_uri": "https://localhost:8080/",
          "height": 0
        },
        "id": "Ixdgfg4vTTHB",
        "outputId": "e8d0d97e-189f-4333-82a8-3c7d92eb9cf0"
      },
      "source": [
        "runway_df.describe()"
      ],
      "execution_count": 8,
      "outputs": [
        {
          "output_type": "execute_result",
          "data": {
            "text/html": [
              "<div>\n",
              "<style scoped>\n",
              "    .dataframe tbody tr th:only-of-type {\n",
              "        vertical-align: middle;\n",
              "    }\n",
              "\n",
              "    .dataframe tbody tr th {\n",
              "        vertical-align: top;\n",
              "    }\n",
              "\n",
              "    .dataframe thead th {\n",
              "        text-align: right;\n",
              "    }\n",
              "</style>\n",
              "<table border=\"1\" class=\"dataframe\">\n",
              "  <thead>\n",
              "    <tr style=\"text-align: right;\">\n",
              "      <th></th>\n",
              "      <th>runway</th>\n",
              "      <th>Lat_runway</th>\n",
              "      <th>Lng_runway</th>\n",
              "    </tr>\n",
              "  </thead>\n",
              "  <tbody>\n",
              "    <tr>\n",
              "      <th>count</th>\n",
              "      <td>4</td>\n",
              "      <td>4.000000</td>\n",
              "      <td>4.000000</td>\n",
              "    </tr>\n",
              "    <tr>\n",
              "      <th>unique</th>\n",
              "      <td>4</td>\n",
              "      <td>4.000000</td>\n",
              "      <td>4.000000</td>\n",
              "    </tr>\n",
              "    <tr>\n",
              "      <th>top</th>\n",
              "      <td>Runway_1</td>\n",
              "      <td>54.761173</td>\n",
              "      <td>-0.024107</td>\n",
              "    </tr>\n",
              "    <tr>\n",
              "      <th>freq</th>\n",
              "      <td>1</td>\n",
              "      <td>1.000000</td>\n",
              "      <td>1.000000</td>\n",
              "    </tr>\n",
              "  </tbody>\n",
              "</table>\n",
              "</div>"
            ],
            "text/plain": [
              "          runway  Lat_runway  Lng_runway\n",
              "count          4    4.000000    4.000000\n",
              "unique         4    4.000000    4.000000\n",
              "top     Runway_1   54.761173   -0.024107\n",
              "freq           1    1.000000    1.000000"
            ]
          },
          "metadata": {
            "tags": []
          },
          "execution_count": 8
        }
      ]
    },
    {
      "cell_type": "code",
      "metadata": {
        "colab": {
          "base_uri": "https://localhost:8080/",
          "height": 0
        },
        "id": "6kAuGfVCTWDG",
        "outputId": "849d5758-f04a-4561-fabe-b1b172eb9db2"
      },
      "source": [
        "stand_df.describe()"
      ],
      "execution_count": 9,
      "outputs": [
        {
          "output_type": "execute_result",
          "data": {
            "text/html": [
              "<div>\n",
              "<style scoped>\n",
              "    .dataframe tbody tr th:only-of-type {\n",
              "        vertical-align: middle;\n",
              "    }\n",
              "\n",
              "    .dataframe tbody tr th {\n",
              "        vertical-align: top;\n",
              "    }\n",
              "\n",
              "    .dataframe thead th {\n",
              "        text-align: right;\n",
              "    }\n",
              "</style>\n",
              "<table border=\"1\" class=\"dataframe\">\n",
              "  <thead>\n",
              "    <tr style=\"text-align: right;\">\n",
              "      <th></th>\n",
              "      <th>stand</th>\n",
              "      <th>Lat_stand</th>\n",
              "      <th>Lng_stand</th>\n",
              "    </tr>\n",
              "  </thead>\n",
              "  <tbody>\n",
              "    <tr>\n",
              "      <th>count</th>\n",
              "      <td>167</td>\n",
              "      <td>167.000000</td>\n",
              "      <td>167.000000</td>\n",
              "    </tr>\n",
              "    <tr>\n",
              "      <th>unique</th>\n",
              "      <td>167</td>\n",
              "      <td>159.000000</td>\n",
              "      <td>165.000000</td>\n",
              "    </tr>\n",
              "    <tr>\n",
              "      <th>top</th>\n",
              "      <td>stand_100</td>\n",
              "      <td>54.770717</td>\n",
              "      <td>-0.001061</td>\n",
              "    </tr>\n",
              "    <tr>\n",
              "      <th>freq</th>\n",
              "      <td>1</td>\n",
              "      <td>2.000000</td>\n",
              "      <td>2.000000</td>\n",
              "    </tr>\n",
              "  </tbody>\n",
              "</table>\n",
              "</div>"
            ],
            "text/plain": [
              "            stand   Lat_stand   Lng_stand\n",
              "count         167  167.000000  167.000000\n",
              "unique        167  159.000000  165.000000\n",
              "top     stand_100   54.770717   -0.001061\n",
              "freq            1    2.000000    2.000000"
            ]
          },
          "metadata": {
            "tags": []
          },
          "execution_count": 9
        }
      ]
    },
    {
      "cell_type": "code",
      "metadata": {
        "id": "rfxrfSAJ2JEc"
      },
      "source": [
        "runway_df['runway'] = runway_df['runway'].str.upper()\r\n",
        "stand_df['stand'] = stand_df['stand'].str.upper()\r\n",
        "runway_df['runway'] = np.where(runway_df['runway'] == 'RUNWAY_3', 'RUNWAY_4', runway_df['runway'])\r\n",
        "runway_df['runway'] = np.where(runway_df['runway'] == 'RUNWAY_2', 'RUNWAY_3', runway_df['runway'])\r\n",
        "runway_df['runway'] = np.where(runway_df['runway'] == 'RUNWAY_1', 'RUNWAY_2', runway_df['runway'])\r\n",
        "runway_df['runway'] = np.where(runway_df['runway'] == 'RUNWAY_0', 'RUNWAY_1', runway_df['runway'])\r\n",
        "\r\n",
        "df = pd.merge(airport_df, stand_df, left_on='Stand', right_on='stand', how='left')\r\n",
        "df = pd.merge(df, runway_df, left_on='Runway', right_on='runway', how='left')\r\n",
        "df = df.drop(columns = ['runway','stand'])"
      ],
      "execution_count": 10,
      "outputs": []
    },
    {
      "cell_type": "code",
      "metadata": {
        "id": "rj2PXVeShGQc"
      },
      "source": [
        "df['Taxi_time'] = (df['ATOT'] - df['AOBT'])/(np.timedelta64(1,'m')) * 60"
      ],
      "execution_count": 11,
      "outputs": []
    },
    {
      "cell_type": "markdown",
      "metadata": {
        "id": "0OHYquaIgchZ"
      },
      "source": [
        "### ACchar Dataset"
      ]
    },
    {
      "cell_type": "code",
      "metadata": {
        "id": "ZBSt_VecgjOj"
      },
      "source": [
        "ac_df = AC_df[['A320-100', 'ICAO Code', 'Wake Category']]\r\n",
        "ac_df = ac_df.drop_duplicates()"
      ],
      "execution_count": 12,
      "outputs": []
    },
    {
      "cell_type": "code",
      "metadata": {
        "colab": {
          "base_uri": "https://localhost:8080/",
          "height": 0
        },
        "id": "H0A7FUT05KRc",
        "outputId": "39219099-7f0c-47c2-bb9d-1f0e9480fbce"
      },
      "source": [
        "ac_df"
      ],
      "execution_count": 13,
      "outputs": [
        {
          "output_type": "execute_result",
          "data": {
            "text/html": [
              "<div>\n",
              "<style scoped>\n",
              "    .dataframe tbody tr th:only-of-type {\n",
              "        vertical-align: middle;\n",
              "    }\n",
              "\n",
              "    .dataframe tbody tr th {\n",
              "        vertical-align: top;\n",
              "    }\n",
              "\n",
              "    .dataframe thead th {\n",
              "        text-align: right;\n",
              "    }\n",
              "</style>\n",
              "<table border=\"1\" class=\"dataframe\">\n",
              "  <thead>\n",
              "    <tr style=\"text-align: right;\">\n",
              "      <th></th>\n",
              "      <th>A320-100</th>\n",
              "      <th>ICAO Code</th>\n",
              "      <th>Wake Category</th>\n",
              "    </tr>\n",
              "  </thead>\n",
              "  <tbody>\n",
              "    <tr>\n",
              "      <th>0</th>\n",
              "      <td>Acro Sport</td>\n",
              "      <td>ACRO</td>\n",
              "      <td>L</td>\n",
              "    </tr>\n",
              "    <tr>\n",
              "      <th>1</th>\n",
              "      <td>Acro Sport II</td>\n",
              "      <td>ACR2</td>\n",
              "      <td>L</td>\n",
              "    </tr>\n",
              "    <tr>\n",
              "      <th>2</th>\n",
              "      <td>Cougar</td>\n",
              "      <td>COUG</td>\n",
              "      <td>L</td>\n",
              "    </tr>\n",
              "    <tr>\n",
              "      <th>3</th>\n",
              "      <td>Junior Ace</td>\n",
              "      <td>JACE</td>\n",
              "      <td>L</td>\n",
              "    </tr>\n",
              "    <tr>\n",
              "      <th>4</th>\n",
              "      <td>Super Ace</td>\n",
              "      <td>SACE</td>\n",
              "      <td>L</td>\n",
              "    </tr>\n",
              "    <tr>\n",
              "      <th>...</th>\n",
              "      <td>...</td>\n",
              "      <td>...</td>\n",
              "      <td>...</td>\n",
              "    </tr>\n",
              "    <tr>\n",
              "      <th>2759</th>\n",
              "      <td>Zlin Z-50</td>\n",
              "      <td>BA11</td>\n",
              "      <td>M</td>\n",
              "    </tr>\n",
              "    <tr>\n",
              "      <th>2760</th>\n",
              "      <td>Zlin Z-526 Akrobat</td>\n",
              "      <td>tbd</td>\n",
              "      <td>tbd</td>\n",
              "    </tr>\n",
              "    <tr>\n",
              "      <th>2761</th>\n",
              "      <td>Zlin Z-526 Trener Master</td>\n",
              "      <td>tbd</td>\n",
              "      <td>tbd</td>\n",
              "    </tr>\n",
              "    <tr>\n",
              "      <th>2762</th>\n",
              "      <td>Zlin Z-626</td>\n",
              "      <td>tbd</td>\n",
              "      <td>tbd</td>\n",
              "    </tr>\n",
              "    <tr>\n",
              "      <th>2763</th>\n",
              "      <td>Zlin Z-726 Universal</td>\n",
              "      <td>AC50</td>\n",
              "      <td>tbd</td>\n",
              "    </tr>\n",
              "  </tbody>\n",
              "</table>\n",
              "<p>2655 rows × 3 columns</p>\n",
              "</div>"
            ],
            "text/plain": [
              "                      A320-100 ICAO Code Wake Category\n",
              "0                   Acro Sport      ACRO             L\n",
              "1                Acro Sport II      ACR2             L\n",
              "2                       Cougar      COUG             L\n",
              "3                   Junior Ace      JACE             L\n",
              "4                    Super Ace      SACE             L\n",
              "...                        ...       ...           ...\n",
              "2759                 Zlin Z-50      BA11             M\n",
              "2760        Zlin Z-526 Akrobat       tbd           tbd\n",
              "2761  Zlin Z-526 Trener Master       tbd           tbd\n",
              "2762                Zlin Z-626       tbd           tbd\n",
              "2763      Zlin Z-726 Universal      AC50           tbd\n",
              "\n",
              "[2655 rows x 3 columns]"
            ]
          },
          "metadata": {
            "tags": []
          },
          "execution_count": 13
        }
      ]
    },
    {
      "cell_type": "code",
      "metadata": {
        "id": "oJhXK3QnnbQU"
      },
      "source": [
        "#df = pd.merge(df, ac_df, left_on = 'Aircraft Model', right_on = 'A320-100', how = 'left')"
      ],
      "execution_count": 14,
      "outputs": []
    },
    {
      "cell_type": "code",
      "metadata": {
        "colab": {
          "base_uri": "https://localhost:8080/"
        },
        "id": "17Jzrndh5fwI",
        "outputId": "583fb875-e9dc-4e69-cbb8-680077efcbb2"
      },
      "source": [
        "df['Aircraft Model'].unique()"
      ],
      "execution_count": 15,
      "outputs": [
        {
          "output_type": "execute_result",
          "data": {
            "text/plain": [
              "array(['B737-800 WINGLETS', 'A320-100/200', 'A319', 'A321-100/200',\n",
              "       'B737-400', 'A330-300', 'B787-800 Dreamliner', 'B757-200 WINGLETS',\n",
              "       'A330-200', 'B747-400 Passenger', 'B777-300ER', 'B777-200',\n",
              "       'B737-900ER', 'ERJ-195', 'DASH 8-Q400', 'A380-800',\n",
              "       'L-100 HERCULES(C130) Freighter', 'A318', 'ATR 72-500', 'EMB-135',\n",
              "       'B777-200LR', 'B737-700 WINGLETS', 'EMBRAER E75', 'B737-300',\n",
              "       '100', 'B737-300 Freighter', 'B 95 TRAVEL AIR',\n",
              "       'BD700 1A11 GLOBAL EXPRESS', 'B777-200ER', 'LEARJET 60',\n",
              "       'P.180 AVANTI', 'A340-200', 'RJ100/115', 'EMB-170', 'ERJ-190',\n",
              "       'EMB-500 PHENOM 100', 'CITATION 1 (C500)', 'Jet', 'A310-300',\n",
              "       'B757-200 Passenger', 'FALCON 7X', 'G V', 'B737-500',\n",
              "       'SA 365 DAUPHIN 2', 'PREMIER 1', 'C 550 CITATION II / BRAVO',\n",
              "       'A109', 'C 180 SKYWAGON', 'C 510 MUSTANG',\n",
              "       'BD700 1A10 GLOBAL EXPRESS', 'LEARJET 45', 'G IV / IV-SP',\n",
              "       'EMB-145', 'B737-700', 'CHALLENGER 300', ' ', 'A340-600', '340',\n",
              "       'CITATIONJET (C 525)', '146-100', 'Helicopter', 'Twin Prop',\n",
              "       'B757-300', '146-200', 'G II', 'PA-30 / PA-39 TWIN COMANCHE',\n",
              "       'CITATION 560 XL', 'F 50', 'C 560 CITATION V Ultra', 'AW139',\n",
              "       'FALCON 2000', 'CITATION 680 SOVEREIGN', 'A340-300', 'MD-82',\n",
              "       'C 650 CITATION III/VI/VII', 'PC-12', 'REGIONAL JET 100/200',\n",
              "       'JETSTREAM 41', 'B787-900', 'CL 600/601/604 CHALLENGER', '328',\n",
              "       'B737-600', 'AEROSPATIALE AS355 ECUREUIL 2 (TWIN SQ.)',\n",
              "       'G200 (IAI GALAXY)', 'ATR 42-500', 'B767-300ER',\n",
              "       'REGIONAL JET 900', 'HS 125', '2000', 'B777-200 Freighter',\n",
              "       'SA-227 METRO 23', 'B767-200', 'MD-83', 'B737-800', 'B767-300',\n",
              "       'RJ85', 'CITATION X (C750)', 'A340-500', 'TBM 700',\n",
              "       '200 SUPER KINGAIR', '328JET', 'FALCON 900 & 900EX', 'F406',\n",
              "       'REGIONAL JET', 'BAE125-1000/RAYTHEON 1000', 'HAWKER 850XP/950XP',\n",
              "       'S-76', 'BEECHJET 400', 'LEARJET 55 LONGHORN', '214 ST',\n",
              "       'REGIONAL JET 700', 'EC 120', 'A350-900', 'BN-2A ISLANDER',\n",
              "       'C-17 GLOBEMASTER III', 'C 310', 'LEARJET 35A/36A', 'METRO 23',\n",
              "       'PA-24 COMANCHE', '407', 'SUPERJET100-95B', 'A321-200',\n",
              "       'CITATION V', 'BOMBARDIER CS300', 'PROP', 'A400M', 'EC 135T',\n",
              "       'MERLIN IV A', 'DIAMOND DA 42', 'Hawker 4000', 'IL-76 Freighter',\n",
              "       'BD500 1A10', 'B737-8 MAX', 'SA-227 METRO III', 'AN-124 Ruslan',\n",
              "       'A320 NEO', 'C 401/402/411/421', 'CL-44', 'IL-96-300', 'G III',\n",
              "       'DASH 8 - 300', 'EC 155B', 'A321-251NX'], dtype=object)"
            ]
          },
          "metadata": {
            "tags": []
          },
          "execution_count": 15
        }
      ]
    },
    {
      "cell_type": "code",
      "metadata": {
        "colab": {
          "base_uri": "https://localhost:8080/"
        },
        "id": "YX_6hLKXrqxh",
        "outputId": "342de491-238f-4dda-d790-407fd3dab345"
      },
      "source": [
        "df.isnull().sum()"
      ],
      "execution_count": 16,
      "outputs": [
        {
          "output_type": "execute_result",
          "data": {
            "text/plain": [
              "Flight Datetime    0\n",
              "Aircraft Model     0\n",
              "AOBT               0\n",
              "ATOT               0\n",
              "Stand              0\n",
              "Runway             0\n",
              "Lat_stand          0\n",
              "Lng_stand          0\n",
              "Lat_runway         0\n",
              "Lng_runway         0\n",
              "Taxi_time          0\n",
              "dtype: int64"
            ]
          },
          "metadata": {
            "tags": []
          },
          "execution_count": 16
        }
      ]
    },
    {
      "cell_type": "markdown",
      "metadata": {
        "id": "aRAsQUpVTfXO"
      },
      "source": [
        "### Weather Dataset"
      ]
    },
    {
      "cell_type": "code",
      "metadata": {
        "colab": {
          "base_uri": "https://localhost:8080/",
          "height": 0
        },
        "id": "dqrrDy9bPTtr",
        "outputId": "90d065cd-7009-4184-f9f4-21e280605a23"
      },
      "source": [
        "weather_df.describe()"
      ],
      "execution_count": 17,
      "outputs": [
        {
          "output_type": "execute_result",
          "data": {
            "text/html": [
              "<div>\n",
              "<style scoped>\n",
              "    .dataframe tbody tr th:only-of-type {\n",
              "        vertical-align: middle;\n",
              "    }\n",
              "\n",
              "    .dataframe tbody tr th {\n",
              "        vertical-align: top;\n",
              "    }\n",
              "\n",
              "    .dataframe thead th {\n",
              "        text-align: right;\n",
              "    }\n",
              "</style>\n",
              "<table border=\"1\" class=\"dataframe\">\n",
              "  <thead>\n",
              "    <tr style=\"text-align: right;\">\n",
              "      <th></th>\n",
              "      <th>precipIntensity</th>\n",
              "      <th>precipProbability</th>\n",
              "      <th>temperature</th>\n",
              "      <th>apparentTemperature</th>\n",
              "      <th>dewPoint</th>\n",
              "      <th>humidity</th>\n",
              "      <th>pressure</th>\n",
              "      <th>windSpeed</th>\n",
              "      <th>windGust</th>\n",
              "      <th>windBearing</th>\n",
              "      <th>cloudCover</th>\n",
              "      <th>uvIndex</th>\n",
              "      <th>visibility</th>\n",
              "      <th>precipAccumulation</th>\n",
              "      <th>ozone</th>\n",
              "    </tr>\n",
              "  </thead>\n",
              "  <tbody>\n",
              "    <tr>\n",
              "      <th>count</th>\n",
              "      <td>587880.000000</td>\n",
              "      <td>587880.000000</td>\n",
              "      <td>678035.000000</td>\n",
              "      <td>678035.000000</td>\n",
              "      <td>678060.000000</td>\n",
              "      <td>678035.000000</td>\n",
              "      <td>586405.000000</td>\n",
              "      <td>677724.000000</td>\n",
              "      <td>602743.000000</td>\n",
              "      <td>659256.000000</td>\n",
              "      <td>659076.000000</td>\n",
              "      <td>665516.000000</td>\n",
              "      <td>677610.000000</td>\n",
              "      <td>678060.000000</td>\n",
              "      <td>678060.000000</td>\n",
              "    </tr>\n",
              "    <tr>\n",
              "      <th>mean</th>\n",
              "      <td>0.001371</td>\n",
              "      <td>0.036736</td>\n",
              "      <td>53.987421</td>\n",
              "      <td>52.801968</td>\n",
              "      <td>46.833012</td>\n",
              "      <td>0.787469</td>\n",
              "      <td>1015.613270</td>\n",
              "      <td>7.540695</td>\n",
              "      <td>10.944332</td>\n",
              "      <td>195.828070</td>\n",
              "      <td>0.518889</td>\n",
              "      <td>1.404581</td>\n",
              "      <td>6.089224</td>\n",
              "      <td>0.000004</td>\n",
              "      <td>314.096017</td>\n",
              "    </tr>\n",
              "    <tr>\n",
              "      <th>std</th>\n",
              "      <td>0.008209</td>\n",
              "      <td>0.143193</td>\n",
              "      <td>11.007120</td>\n",
              "      <td>12.481697</td>\n",
              "      <td>8.993392</td>\n",
              "      <td>0.158343</td>\n",
              "      <td>10.407546</td>\n",
              "      <td>4.620054</td>\n",
              "      <td>7.969487</td>\n",
              "      <td>94.979673</td>\n",
              "      <td>0.293749</td>\n",
              "      <td>1.894080</td>\n",
              "      <td>1.490707</td>\n",
              "      <td>0.000361</td>\n",
              "      <td>20.853763</td>\n",
              "    </tr>\n",
              "    <tr>\n",
              "      <th>min</th>\n",
              "      <td>0.000000</td>\n",
              "      <td>0.000000</td>\n",
              "      <td>17.670000</td>\n",
              "      <td>10.380000</td>\n",
              "      <td>12.190000</td>\n",
              "      <td>0.250000</td>\n",
              "      <td>971.700000</td>\n",
              "      <td>0.000000</td>\n",
              "      <td>0.000000</td>\n",
              "      <td>0.000000</td>\n",
              "      <td>0.000000</td>\n",
              "      <td>0.000000</td>\n",
              "      <td>0.031000</td>\n",
              "      <td>0.000000</td>\n",
              "      <td>212.500000</td>\n",
              "    </tr>\n",
              "    <tr>\n",
              "      <th>25%</th>\n",
              "      <td>0.000000</td>\n",
              "      <td>0.000000</td>\n",
              "      <td>46.460000</td>\n",
              "      <td>42.960000</td>\n",
              "      <td>41.000000</td>\n",
              "      <td>0.680000</td>\n",
              "      <td>1009.800000</td>\n",
              "      <td>4.630000</td>\n",
              "      <td>5.650000</td>\n",
              "      <td>122.000000</td>\n",
              "      <td>0.190000</td>\n",
              "      <td>0.000000</td>\n",
              "      <td>6.216000</td>\n",
              "      <td>0.000000</td>\n",
              "      <td>310.400000</td>\n",
              "    </tr>\n",
              "    <tr>\n",
              "      <th>50%</th>\n",
              "      <td>0.000000</td>\n",
              "      <td>0.000000</td>\n",
              "      <td>53.650000</td>\n",
              "      <td>53.650000</td>\n",
              "      <td>48.200000</td>\n",
              "      <td>0.820000</td>\n",
              "      <td>1016.800000</td>\n",
              "      <td>6.930000</td>\n",
              "      <td>9.180000</td>\n",
              "      <td>221.000000</td>\n",
              "      <td>0.480000</td>\n",
              "      <td>0.000000</td>\n",
              "      <td>6.216000</td>\n",
              "      <td>0.000000</td>\n",
              "      <td>310.400000</td>\n",
              "    </tr>\n",
              "    <tr>\n",
              "      <th>75%</th>\n",
              "      <td>0.000000</td>\n",
              "      <td>0.000000</td>\n",
              "      <td>61.190000</td>\n",
              "      <td>61.350000</td>\n",
              "      <td>53.590000</td>\n",
              "      <td>0.930000</td>\n",
              "      <td>1022.500000</td>\n",
              "      <td>10.290000</td>\n",
              "      <td>13.960000</td>\n",
              "      <td>260.000000</td>\n",
              "      <td>0.750000</td>\n",
              "      <td>2.000000</td>\n",
              "      <td>6.216000</td>\n",
              "      <td>0.000000</td>\n",
              "      <td>310.400000</td>\n",
              "    </tr>\n",
              "    <tr>\n",
              "      <th>max</th>\n",
              "      <td>0.332800</td>\n",
              "      <td>1.000000</td>\n",
              "      <td>93.510000</td>\n",
              "      <td>96.700000</td>\n",
              "      <td>69.450000</td>\n",
              "      <td>1.000000</td>\n",
              "      <td>1045.700000</td>\n",
              "      <td>33.120000</td>\n",
              "      <td>51.310000</td>\n",
              "      <td>359.000000</td>\n",
              "      <td>1.000000</td>\n",
              "      <td>9.000000</td>\n",
              "      <td>10.000000</td>\n",
              "      <td>0.137400</td>\n",
              "      <td>480.000000</td>\n",
              "    </tr>\n",
              "  </tbody>\n",
              "</table>\n",
              "</div>"
            ],
            "text/plain": [
              "       precipIntensity  precipProbability  ...  precipAccumulation          ozone\n",
              "count    587880.000000      587880.000000  ...       678060.000000  678060.000000\n",
              "mean          0.001371           0.036736  ...            0.000004     314.096017\n",
              "std           0.008209           0.143193  ...            0.000361      20.853763\n",
              "min           0.000000           0.000000  ...            0.000000     212.500000\n",
              "25%           0.000000           0.000000  ...            0.000000     310.400000\n",
              "50%           0.000000           0.000000  ...            0.000000     310.400000\n",
              "75%           0.000000           0.000000  ...            0.000000     310.400000\n",
              "max           0.332800           1.000000  ...            0.137400     480.000000\n",
              "\n",
              "[8 rows x 15 columns]"
            ]
          },
          "metadata": {
            "tags": []
          },
          "execution_count": 17
        }
      ]
    },
    {
      "cell_type": "code",
      "metadata": {
        "colab": {
          "base_uri": "https://localhost:8080/"
        },
        "id": "lQ3N6Fm9QkUW",
        "outputId": "fd1d8b3e-11e0-4f62-cf37-23bf64aaf823"
      },
      "source": [
        "weather_df.duplicated().sum()"
      ],
      "execution_count": 18,
      "outputs": [
        {
          "output_type": "execute_result",
          "data": {
            "text/plain": [
              "645036"
            ]
          },
          "metadata": {
            "tags": []
          },
          "execution_count": 18
        }
      ]
    },
    {
      "cell_type": "code",
      "metadata": {
        "id": "Z8Uvk81DUF8t"
      },
      "source": [
        "weather_df = weather_df.drop_duplicates(keep = 'first')\r\n",
        "weather_df = weather_df.drop(columns = ['summary', 'icon', 'precipIntensity', 'precipProbability', 'pressure'])"
      ],
      "execution_count": 19,
      "outputs": []
    },
    {
      "cell_type": "code",
      "metadata": {
        "id": "3afKDCGaUO6x"
      },
      "source": [
        "#Create new column rounding flight datetime to nearest hour for mapping\r\n",
        "def hour_rounder(t):\r\n",
        "    # Rounds to nearest hour by adding a timedelta hour if minute >= 30\r\n",
        "    return (t.replace(second=0, microsecond=0, minute=0, hour=t.hour)\r\n",
        "               +timedelta(hours=t.minute//30))\r\n",
        "\r\n",
        "df[\"Flight_Datetime_map\"] = df[\"Flight Datetime\"].map(lambda d: hour_rounder(d))\r\n",
        "\r\n",
        "weather_df['time_hourly'] = pd.to_datetime(weather_df['time_hourly'])\r\n",
        "#Left join train data with weather data on \"Flight_Datetime_map\" & \"time_hourly\"\r\n",
        "df= pd.merge(df, weather_df, left_on=\"Flight_Datetime_map\", right_on= \"time_hourly\", how='left')\r\n",
        "df = df.drop(columns = 'time_hourly')"
      ],
      "execution_count": 20,
      "outputs": []
    },
    {
      "cell_type": "markdown",
      "metadata": {
        "id": "fwPAdApUa1JV"
      },
      "source": [
        "## Preprocessing"
      ]
    },
    {
      "cell_type": "code",
      "metadata": {
        "colab": {
          "base_uri": "https://localhost:8080/"
        },
        "id": "nVIpZKH_a9Fd",
        "outputId": "fd1ae7ad-40cf-4977-e7e7-e5cbede73dce"
      },
      "source": [
        "df.isnull().sum()"
      ],
      "execution_count": 21,
      "outputs": [
        {
          "output_type": "execute_result",
          "data": {
            "text/plain": [
              "Flight Datetime            0\n",
              "Aircraft Model             0\n",
              "AOBT                       0\n",
              "ATOT                       0\n",
              "Stand                      0\n",
              "Runway                     0\n",
              "Lat_stand                  0\n",
              "Lng_stand                  0\n",
              "Lat_runway                 0\n",
              "Lng_runway                 0\n",
              "Taxi_time                  0\n",
              "Flight_Datetime_map        0\n",
              "temperature              924\n",
              "apparentTemperature      924\n",
              "dewPoint                 898\n",
              "humidity                 924\n",
              "windSpeed               1235\n",
              "windGust               73553\n",
              "windBearing            19623\n",
              "cloudCover             19756\n",
              "uvIndex                13412\n",
              "visibility              1347\n",
              "precipType               898\n",
              "precipAccumulation       898\n",
              "ozone                    898\n",
              "dtype: int64"
            ]
          },
          "metadata": {
            "tags": []
          },
          "execution_count": 21
        }
      ]
    },
    {
      "cell_type": "code",
      "metadata": {
        "id": "syZYPvZNfeM6"
      },
      "source": [
        "# filled all NA values with previous known values\r\n",
        "df = df.fillna(method = 'ffill')"
      ],
      "execution_count": 22,
      "outputs": []
    },
    {
      "cell_type": "code",
      "metadata": {
        "colab": {
          "base_uri": "https://localhost:8080/"
        },
        "id": "G2UKTwW4fqQW",
        "outputId": "dc36ee40-5860-4f6f-8a0b-8ff055add9aa"
      },
      "source": [
        "# check that all NA values are filled\r\n",
        "df.isnull().sum()"
      ],
      "execution_count": 23,
      "outputs": [
        {
          "output_type": "execute_result",
          "data": {
            "text/plain": [
              "Flight Datetime        0\n",
              "Aircraft Model         0\n",
              "AOBT                   0\n",
              "ATOT                   0\n",
              "Stand                  0\n",
              "Runway                 0\n",
              "Lat_stand              0\n",
              "Lng_stand              0\n",
              "Lat_runway             0\n",
              "Lng_runway             0\n",
              "Taxi_time              0\n",
              "Flight_Datetime_map    0\n",
              "temperature            0\n",
              "apparentTemperature    0\n",
              "dewPoint               0\n",
              "humidity               0\n",
              "windSpeed              0\n",
              "windGust               0\n",
              "windBearing            0\n",
              "cloudCover             0\n",
              "uvIndex                0\n",
              "visibility             0\n",
              "precipType             0\n",
              "precipAccumulation     0\n",
              "ozone                  0\n",
              "dtype: int64"
            ]
          },
          "metadata": {
            "tags": []
          },
          "execution_count": 23
        }
      ]
    },
    {
      "cell_type": "code",
      "metadata": {
        "colab": {
          "base_uri": "https://localhost:8080/"
        },
        "id": "A3Fn3K6ufnz5",
        "outputId": "524ff9dc-7978-4c6c-90c0-bddd61ed455e"
      },
      "source": [
        "df.duplicated().sum()"
      ],
      "execution_count": 24,
      "outputs": [
        {
          "output_type": "execute_result",
          "data": {
            "text/plain": [
              "0"
            ]
          },
          "metadata": {
            "tags": []
          },
          "execution_count": 24
        }
      ]
    },
    {
      "cell_type": "code",
      "metadata": {
        "colab": {
          "base_uri": "https://localhost:8080/",
          "height": 353
        },
        "id": "8Dt7E_toV-VS",
        "outputId": "2b47439e-ae21-445c-e783-e69d5472b1ff"
      },
      "source": [
        "# Search for outliers\r\n",
        "# remove the negative values and very large outliers\r\n",
        "sns.boxplot(df['Taxi_time'])"
      ],
      "execution_count": 25,
      "outputs": [
        {
          "output_type": "stream",
          "text": [
            "/usr/local/lib/python3.6/dist-packages/seaborn/_decorators.py:43: FutureWarning: Pass the following variable as a keyword arg: x. From version 0.12, the only valid positional argument will be `data`, and passing other arguments without an explicit keyword will result in an error or misinterpretation.\n",
            "  FutureWarning\n"
          ],
          "name": "stderr"
        },
        {
          "output_type": "execute_result",
          "data": {
            "text/plain": [
              "<matplotlib.axes._subplots.AxesSubplot at 0x7f3358164fd0>"
            ]
          },
          "metadata": {
            "tags": []
          },
          "execution_count": 25
        },
        {
          "output_type": "display_data",
          "data": {
            "image/png": "[encoded data removed]",
            "text/plain": [
              "<Figure size 432x288 with 1 Axes>"
            ]
          },
          "metadata": {
            "tags": [],
            "needs_background": "light"
          }
        }
      ]
    },
    {
      "cell_type": "code",
      "metadata": {
        "id": "tCnnVE53hmhy"
      },
      "source": [
        "# Remove 170 rows of taxi_time > 0\r\n",
        "df = df[df['Taxi_time'] > 0]\r\n",
        "# Remove 1 row (outlier) of taxi_time > 20000\r\n",
        "df = df[df['Taxi_time'] < 20000]"
      ],
      "execution_count": 26,
      "outputs": []
    },
    {
      "cell_type": "code",
      "metadata": {
        "colab": {
          "base_uri": "https://localhost:8080/",
          "height": 353
        },
        "id": "2UgKY8xmhySN",
        "outputId": "055ae561-bb3e-4cc8-938e-41ef8b76e757"
      },
      "source": [
        "sns.boxplot(df['Taxi_time'])"
      ],
      "execution_count": 27,
      "outputs": [
        {
          "output_type": "stream",
          "text": [
            "/usr/local/lib/python3.6/dist-packages/seaborn/_decorators.py:43: FutureWarning: Pass the following variable as a keyword arg: x. From version 0.12, the only valid positional argument will be `data`, and passing other arguments without an explicit keyword will result in an error or misinterpretation.\n",
            "  FutureWarning\n"
          ],
          "name": "stderr"
        },
        {
          "output_type": "execute_result",
          "data": {
            "text/plain": [
              "<matplotlib.axes._subplots.AxesSubplot at 0x7f3359050748>"
            ]
          },
          "metadata": {
            "tags": []
          },
          "execution_count": 27
        },
        {
          "output_type": "display_data",
          "data": {
            "image/png": "[encoded data removed]",
            "text/plain": [
              "<Figure size 432x288 with 1 Axes>"
            ]
          },
          "metadata": {
            "tags": [],
            "needs_background": "light"
          }
        }
      ]
    },
    {
      "cell_type": "markdown",
      "metadata": {
        "id": "kXKvBubGf2Wc"
      },
      "source": [
        "## Feature Engineering"
      ]
    },
    {
      "cell_type": "markdown",
      "metadata": {
        "id": "MBEFxD6OXFrF"
      },
      "source": [
        "### Categorical Variables"
      ]
    },
    {
      "cell_type": "code",
      "metadata": {
        "colab": {
          "base_uri": "https://localhost:8080/"
        },
        "id": "lf4gBx1_c5il",
        "outputId": "2289c162-16a1-4b6c-c9fe-8339a1955ced"
      },
      "source": [
        "df['precipType'].unique()"
      ],
      "execution_count": 30,
      "outputs": [
        {
          "output_type": "execute_result",
          "data": {
            "text/plain": [
              "array(['None', 'rain', 'snow'], dtype=object)"
            ]
          },
          "metadata": {
            "tags": []
          },
          "execution_count": 30
        }
      ]
    },
    {
      "cell_type": "code",
      "metadata": {
        "colab": {
          "base_uri": "https://localhost:8080/"
        },
        "id": "QB532v2_c0lD",
        "outputId": "f3c21b29-d18e-4784-b232-deef6038d9cb"
      },
      "source": [
        "df['icon'].unique()"
      ],
      "execution_count": 31,
      "outputs": [
        {
          "output_type": "execute_result",
          "data": {
            "text/plain": [
              "array(['partly-cloudy-night', 'cloudy', 'partly-cloudy-day',\n",
              "       'clear-night', 'clear-day', 'fog', 'rain', 'wind', 'snow'],\n",
              "      dtype=object)"
            ]
          },
          "metadata": {
            "tags": []
          },
          "execution_count": 31
        }
      ]
    },
    {
      "cell_type": "code",
      "metadata": {
        "colab": {
          "base_uri": "https://localhost:8080/"
        },
        "id": "8g2MVPBQcmQn",
        "outputId": "eb91356c-206a-43f6-ea8b-2070286186f3"
      },
      "source": [
        "# the summary attribute is a combination of the precipType and icon attributes\r\n",
        "df['summary'].unique()"
      ],
      "execution_count": 32,
      "outputs": [
        {
          "output_type": "execute_result",
          "data": {
            "text/plain": [
              "array(['Mostly Cloudy', 'Overcast', 'Partly Cloudy', 'Clear', 'Foggy',\n",
              "       'Rain', 'Light Rain', 'Drizzle', 'Possible Drizzle',\n",
              "       'Windy and Partly Cloudy', 'Windy', 'Possible Light Rain',\n",
              "       'Windy and Mostly Cloudy', 'Light Rain and Windy',\n",
              "       'Dangerously Windy and Mostly Cloudy', 'Flurries'], dtype=object)"
            ]
          },
          "metadata": {
            "tags": []
          },
          "execution_count": 32
        }
      ]
    },
    {
      "cell_type": "code",
      "metadata": {
        "id": "HpuTuoakLt6A"
      },
      "source": [
        "# creating new feature: windy\r\n",
        "def windy(df):\r\n",
        "  if df == 'Windy and Partly Cloudy' or df == 'Windy' or df == 'Windy and Mostly Cloudy' or 'Light Rain and Windy':\r\n",
        "    return 'Windy'\r\n",
        "  if df == 'Dangerously Windy and Mostly Cloudy':\r\n",
        "    return 'Dangerously Windy'\r\n",
        "  else:\r\n",
        "    return 'None'\r\n",
        "\r\n",
        "df['Windy'] = df['summary'].apply(lambda x: windy(x))"
      ],
      "execution_count": 33,
      "outputs": []
    },
    {
      "cell_type": "code",
      "metadata": {
        "id": "EYMdMmFXI1pa"
      },
      "source": [
        "# creating new feature: cloudy\r\n",
        "def cloudy(df):\r\n",
        "  if df == 'Overcast':\r\n",
        "    return 'Overcast'\r\n",
        "  elif df == 'Mostly Cloudy' or df == 'Windy and Mostly Cloudy' or df == 'Dangerously Windy and Mostly Cloudy':\r\n",
        "    return 'Mostly Cloudy'\r\n",
        "  elif df == 'Partly Cloudy' or df == 'Windy and Partly Cloudy':\r\n",
        "    return 'Partly Cloudy'\r\n",
        "  else:\r\n",
        "    return 'None'\r\n",
        "\r\n",
        "df['Cloudy'] = df['summary'].apply(lambda x: cloudy(x))"
      ],
      "execution_count": 34,
      "outputs": []
    },
    {
      "cell_type": "code",
      "metadata": {
        "id": "DGtEvru4FWaD"
      },
      "source": [
        "# creating new feature: rain \r\n",
        "def rain(df):\r\n",
        "  if df == 'Rain':\r\n",
        "    return 'Rain'\r\n",
        "  elif df == 'Light Rain' or df == 'Light Rain and Windy':\r\n",
        "    return 'Light Rain'\r\n",
        "  elif df == 'Drizzle':\r\n",
        "    return 'Drizzle'\r\n",
        "  elif df == 'Possible Drizzle':\r\n",
        "    return 'Possible Drizzle'\r\n",
        "  elif df == 'Possible Light Rain':\r\n",
        "    return 'Possible Light Rain'\r\n",
        "  else: \r\n",
        "    return 'None'\r\n",
        "\r\n",
        "df['Rain'] = df['summary'].apply(lambda x: rain(x))"
      ],
      "execution_count": 35,
      "outputs": []
    },
    {
      "cell_type": "code",
      "metadata": {
        "id": "bseqchnPDijb"
      },
      "source": [
        "# creating new feature: snow (1 if there was snow, 0 otherwise)\r\n",
        "def snow(df):\r\n",
        "  if df == 'snow':\r\n",
        "    return 1\r\n",
        "  else:\r\n",
        "    return 0\r\n",
        "df['Snow'] = df['precipType'].apply(lambda x: snow(x))"
      ],
      "execution_count": 36,
      "outputs": []
    },
    {
      "cell_type": "code",
      "metadata": {
        "id": "pbUdBph9Eebg"
      },
      "source": [
        "# creating new feature: fog (1 if there was fog, 0 otherwise)\r\n",
        "def fog(df):\r\n",
        "  if df == 'fog':\r\n",
        "    return 1\r\n",
        "  else:\r\n",
        "    return 0\r\n",
        "df['Fog'] = df['icon'].apply(lambda x: fog(x))"
      ],
      "execution_count": 37,
      "outputs": []
    },
    {
      "cell_type": "code",
      "metadata": {
        "id": "m25lhSyyNIEu"
      },
      "source": [
        "df = df.drop(columns = ['summary', 'icon', 'precipType'])"
      ],
      "execution_count": 38,
      "outputs": []
    },
    {
      "cell_type": "code",
      "metadata": {
        "colab": {
          "base_uri": "https://localhost:8080/",
          "height": 789
        },
        "id": "hXcweVB-Ewg1",
        "outputId": "8901d734-1b5c-4b37-ab77-8c78be324dbe"
      },
      "source": [
        "df"
      ],
      "execution_count": 39,
      "outputs": [
        {
          "output_type": "execute_result",
          "data": {
            "text/html": [
              "<div>\n",
              "<style scoped>\n",
              "    .dataframe tbody tr th:only-of-type {\n",
              "        vertical-align: middle;\n",
              "    }\n",
              "\n",
              "    .dataframe tbody tr th {\n",
              "        vertical-align: top;\n",
              "    }\n",
              "\n",
              "    .dataframe thead th {\n",
              "        text-align: right;\n",
              "    }\n",
              "</style>\n",
              "<table border=\"1\" class=\"dataframe\">\n",
              "  <thead>\n",
              "    <tr style=\"text-align: right;\">\n",
              "      <th></th>\n",
              "      <th>Flight Datetime</th>\n",
              "      <th>Aircraft Model</th>\n",
              "      <th>AOBT</th>\n",
              "      <th>ATOT</th>\n",
              "      <th>Stand</th>\n",
              "      <th>Runway</th>\n",
              "      <th>Lat_stand</th>\n",
              "      <th>Lng_stand</th>\n",
              "      <th>Lat_runway</th>\n",
              "      <th>Lng_runway</th>\n",
              "      <th>Taxi_time</th>\n",
              "      <th>Flight_Datetime_map</th>\n",
              "      <th>precipIntensity</th>\n",
              "      <th>precipProbability</th>\n",
              "      <th>temperature</th>\n",
              "      <th>apparentTemperature</th>\n",
              "      <th>dewPoint</th>\n",
              "      <th>humidity</th>\n",
              "      <th>pressure</th>\n",
              "      <th>windSpeed</th>\n",
              "      <th>windGust</th>\n",
              "      <th>windBearing</th>\n",
              "      <th>cloudCover</th>\n",
              "      <th>uvIndex</th>\n",
              "      <th>visibility</th>\n",
              "      <th>precipAccumulation</th>\n",
              "      <th>ozone</th>\n",
              "      <th>Windy</th>\n",
              "      <th>Cloudy</th>\n",
              "      <th>Rain</th>\n",
              "      <th>Snow</th>\n",
              "      <th>Fog</th>\n",
              "    </tr>\n",
              "  </thead>\n",
              "  <tbody>\n",
              "    <tr>\n",
              "      <th>0</th>\n",
              "      <td>2015-01-01 06:00:00</td>\n",
              "      <td>B737-800 WINGLETS</td>\n",
              "      <td>2015-01-01 05:56:00</td>\n",
              "      <td>2015-01-01 06:05:00</td>\n",
              "      <td>STAND_62</td>\n",
              "      <td>RUNWAY_4</td>\n",
              "      <td>54.764729</td>\n",
              "      <td>0.018501</td>\n",
              "      <td>54.761493</td>\n",
              "      <td>0.008320</td>\n",
              "      <td>540.0</td>\n",
              "      <td>2015-01-01 06:00:00</td>\n",
              "      <td>0.0</td>\n",
              "      <td>0.0</td>\n",
              "      <td>44.65</td>\n",
              "      <td>39.29</td>\n",
              "      <td>42.8</td>\n",
              "      <td>0.93</td>\n",
              "      <td>1031.6</td>\n",
              "      <td>10.29</td>\n",
              "      <td>11.39</td>\n",
              "      <td>210.0</td>\n",
              "      <td>0.75</td>\n",
              "      <td>0.0</td>\n",
              "      <td>5.859</td>\n",
              "      <td>0.0</td>\n",
              "      <td>310.4</td>\n",
              "      <td>Windy</td>\n",
              "      <td>Mostly Cloudy</td>\n",
              "      <td>None</td>\n",
              "      <td>0</td>\n",
              "      <td>0</td>\n",
              "    </tr>\n",
              "    <tr>\n",
              "      <th>1</th>\n",
              "      <td>2015-01-01 06:10:00</td>\n",
              "      <td>A320-100/200</td>\n",
              "      <td>2015-01-01 06:08:00</td>\n",
              "      <td>2015-01-01 06:18:00</td>\n",
              "      <td>STAND_153</td>\n",
              "      <td>RUNWAY_4</td>\n",
              "      <td>54.761481</td>\n",
              "      <td>-0.008222</td>\n",
              "      <td>54.761493</td>\n",
              "      <td>0.008320</td>\n",
              "      <td>600.0</td>\n",
              "      <td>2015-01-01 06:00:00</td>\n",
              "      <td>0.0</td>\n",
              "      <td>0.0</td>\n",
              "      <td>44.65</td>\n",
              "      <td>39.29</td>\n",
              "      <td>42.8</td>\n",
              "      <td>0.93</td>\n",
              "      <td>1031.6</td>\n",
              "      <td>10.29</td>\n",
              "      <td>11.39</td>\n",
              "      <td>210.0</td>\n",
              "      <td>0.75</td>\n",
              "      <td>0.0</td>\n",
              "      <td>5.859</td>\n",
              "      <td>0.0</td>\n",
              "      <td>310.4</td>\n",
              "      <td>Windy</td>\n",
              "      <td>Mostly Cloudy</td>\n",
              "      <td>None</td>\n",
              "      <td>0</td>\n",
              "      <td>0</td>\n",
              "    </tr>\n",
              "    <tr>\n",
              "      <th>2</th>\n",
              "      <td>2015-01-01 06:15:00</td>\n",
              "      <td>A320-100/200</td>\n",
              "      <td>2015-01-01 06:08:00</td>\n",
              "      <td>2015-01-01 06:19:00</td>\n",
              "      <td>STAND_44</td>\n",
              "      <td>RUNWAY_2</td>\n",
              "      <td>54.770015</td>\n",
              "      <td>0.017781</td>\n",
              "      <td>54.757120</td>\n",
              "      <td>-0.024107</td>\n",
              "      <td>660.0</td>\n",
              "      <td>2015-01-01 06:00:00</td>\n",
              "      <td>0.0</td>\n",
              "      <td>0.0</td>\n",
              "      <td>44.65</td>\n",
              "      <td>39.29</td>\n",
              "      <td>42.8</td>\n",
              "      <td>0.93</td>\n",
              "      <td>1031.6</td>\n",
              "      <td>10.29</td>\n",
              "      <td>11.39</td>\n",
              "      <td>210.0</td>\n",
              "      <td>0.75</td>\n",
              "      <td>0.0</td>\n",
              "      <td>5.859</td>\n",
              "      <td>0.0</td>\n",
              "      <td>310.4</td>\n",
              "      <td>Windy</td>\n",
              "      <td>Mostly Cloudy</td>\n",
              "      <td>None</td>\n",
              "      <td>0</td>\n",
              "      <td>0</td>\n",
              "    </tr>\n",
              "    <tr>\n",
              "      <th>3</th>\n",
              "      <td>2015-01-01 06:20:00</td>\n",
              "      <td>A320-100/200</td>\n",
              "      <td>2015-01-01 06:24:00</td>\n",
              "      <td>2015-01-01 06:36:00</td>\n",
              "      <td>STAND_7</td>\n",
              "      <td>RUNWAY_3</td>\n",
              "      <td>54.765016</td>\n",
              "      <td>0.011064</td>\n",
              "      <td>54.761173</td>\n",
              "      <td>0.019840</td>\n",
              "      <td>720.0</td>\n",
              "      <td>2015-01-01 06:00:00</td>\n",
              "      <td>0.0</td>\n",
              "      <td>0.0</td>\n",
              "      <td>44.65</td>\n",
              "      <td>39.29</td>\n",
              "      <td>42.8</td>\n",
              "      <td>0.93</td>\n",
              "      <td>1031.6</td>\n",
              "      <td>10.29</td>\n",
              "      <td>11.39</td>\n",
              "      <td>210.0</td>\n",
              "      <td>0.75</td>\n",
              "      <td>0.0</td>\n",
              "      <td>5.859</td>\n",
              "      <td>0.0</td>\n",
              "      <td>310.4</td>\n",
              "      <td>Windy</td>\n",
              "      <td>Mostly Cloudy</td>\n",
              "      <td>None</td>\n",
              "      <td>0</td>\n",
              "      <td>0</td>\n",
              "    </tr>\n",
              "    <tr>\n",
              "      <th>4</th>\n",
              "      <td>2015-01-01 06:20:00</td>\n",
              "      <td>A319</td>\n",
              "      <td>2015-01-01 06:14:00</td>\n",
              "      <td>2015-01-01 06:27:00</td>\n",
              "      <td>STAND_17</td>\n",
              "      <td>RUNWAY_2</td>\n",
              "      <td>54.767481</td>\n",
              "      <td>0.012036</td>\n",
              "      <td>54.757120</td>\n",
              "      <td>-0.024107</td>\n",
              "      <td>780.0</td>\n",
              "      <td>2015-01-01 06:00:00</td>\n",
              "      <td>0.0</td>\n",
              "      <td>0.0</td>\n",
              "      <td>44.65</td>\n",
              "      <td>39.29</td>\n",
              "      <td>42.8</td>\n",
              "      <td>0.93</td>\n",
              "      <td>1031.6</td>\n",
              "      <td>10.29</td>\n",
              "      <td>11.39</td>\n",
              "      <td>210.0</td>\n",
              "      <td>0.75</td>\n",
              "      <td>0.0</td>\n",
              "      <td>5.859</td>\n",
              "      <td>0.0</td>\n",
              "      <td>310.4</td>\n",
              "      <td>Windy</td>\n",
              "      <td>Mostly Cloudy</td>\n",
              "      <td>None</td>\n",
              "      <td>0</td>\n",
              "      <td>0</td>\n",
              "    </tr>\n",
              "    <tr>\n",
              "      <th>...</th>\n",
              "      <td>...</td>\n",
              "      <td>...</td>\n",
              "      <td>...</td>\n",
              "      <td>...</td>\n",
              "      <td>...</td>\n",
              "      <td>...</td>\n",
              "      <td>...</td>\n",
              "      <td>...</td>\n",
              "      <td>...</td>\n",
              "      <td>...</td>\n",
              "      <td>...</td>\n",
              "      <td>...</td>\n",
              "      <td>...</td>\n",
              "      <td>...</td>\n",
              "      <td>...</td>\n",
              "      <td>...</td>\n",
              "      <td>...</td>\n",
              "      <td>...</td>\n",
              "      <td>...</td>\n",
              "      <td>...</td>\n",
              "      <td>...</td>\n",
              "      <td>...</td>\n",
              "      <td>...</td>\n",
              "      <td>...</td>\n",
              "      <td>...</td>\n",
              "      <td>...</td>\n",
              "      <td>...</td>\n",
              "      <td>...</td>\n",
              "      <td>...</td>\n",
              "      <td>...</td>\n",
              "      <td>...</td>\n",
              "      <td>...</td>\n",
              "    </tr>\n",
              "    <tr>\n",
              "      <th>543808</th>\n",
              "      <td>2018-12-31 21:15:00</td>\n",
              "      <td>A350-900</td>\n",
              "      <td>2018-12-31 21:02:00</td>\n",
              "      <td>2018-12-31 21:20:00</td>\n",
              "      <td>STAND_150</td>\n",
              "      <td>RUNWAY_3</td>\n",
              "      <td>54.765185</td>\n",
              "      <td>-0.001339</td>\n",
              "      <td>54.761173</td>\n",
              "      <td>0.019840</td>\n",
              "      <td>1080.0</td>\n",
              "      <td>2018-12-31 21:00:00</td>\n",
              "      <td>0.0</td>\n",
              "      <td>0.0</td>\n",
              "      <td>47.88</td>\n",
              "      <td>44.35</td>\n",
              "      <td>41.0</td>\n",
              "      <td>0.77</td>\n",
              "      <td>1017.3</td>\n",
              "      <td>7.62</td>\n",
              "      <td>27.73</td>\n",
              "      <td>262.0</td>\n",
              "      <td>1.00</td>\n",
              "      <td>0.0</td>\n",
              "      <td>6.216</td>\n",
              "      <td>0.0</td>\n",
              "      <td>310.4</td>\n",
              "      <td>Windy</td>\n",
              "      <td>None</td>\n",
              "      <td>None</td>\n",
              "      <td>0</td>\n",
              "      <td>0</td>\n",
              "    </tr>\n",
              "    <tr>\n",
              "      <th>543809</th>\n",
              "      <td>2018-12-31 21:30:00</td>\n",
              "      <td>B787-900</td>\n",
              "      <td>2018-12-31 21:24:00</td>\n",
              "      <td>2018-12-31 21:38:00</td>\n",
              "      <td>STAND_77</td>\n",
              "      <td>RUNWAY_1</td>\n",
              "      <td>54.767081</td>\n",
              "      <td>0.022987</td>\n",
              "      <td>54.755307</td>\n",
              "      <td>-0.023040</td>\n",
              "      <td>840.0</td>\n",
              "      <td>2018-12-31 22:00:00</td>\n",
              "      <td>0.0</td>\n",
              "      <td>0.0</td>\n",
              "      <td>48.26</td>\n",
              "      <td>44.18</td>\n",
              "      <td>41.0</td>\n",
              "      <td>0.76</td>\n",
              "      <td>1017.3</td>\n",
              "      <td>9.18</td>\n",
              "      <td>27.73</td>\n",
              "      <td>281.0</td>\n",
              "      <td>1.00</td>\n",
              "      <td>0.0</td>\n",
              "      <td>6.216</td>\n",
              "      <td>0.0</td>\n",
              "      <td>310.4</td>\n",
              "      <td>Windy</td>\n",
              "      <td>None</td>\n",
              "      <td>None</td>\n",
              "      <td>0</td>\n",
              "      <td>0</td>\n",
              "    </tr>\n",
              "    <tr>\n",
              "      <th>543810</th>\n",
              "      <td>2018-12-31 21:50:00</td>\n",
              "      <td>A330-200</td>\n",
              "      <td>2018-12-31 22:27:00</td>\n",
              "      <td>2018-12-31 22:37:00</td>\n",
              "      <td>STAND_120</td>\n",
              "      <td>RUNWAY_1</td>\n",
              "      <td>54.764092</td>\n",
              "      <td>0.004317</td>\n",
              "      <td>54.755307</td>\n",
              "      <td>-0.023040</td>\n",
              "      <td>600.0</td>\n",
              "      <td>2018-12-31 22:00:00</td>\n",
              "      <td>0.0</td>\n",
              "      <td>0.0</td>\n",
              "      <td>48.26</td>\n",
              "      <td>44.18</td>\n",
              "      <td>41.0</td>\n",
              "      <td>0.76</td>\n",
              "      <td>1017.3</td>\n",
              "      <td>9.18</td>\n",
              "      <td>27.73</td>\n",
              "      <td>281.0</td>\n",
              "      <td>1.00</td>\n",
              "      <td>0.0</td>\n",
              "      <td>6.216</td>\n",
              "      <td>0.0</td>\n",
              "      <td>310.4</td>\n",
              "      <td>Windy</td>\n",
              "      <td>None</td>\n",
              "      <td>None</td>\n",
              "      <td>0</td>\n",
              "      <td>0</td>\n",
              "    </tr>\n",
              "    <tr>\n",
              "      <th>543811</th>\n",
              "      <td>2018-12-31 22:10:00</td>\n",
              "      <td>B787-800 Dreamliner</td>\n",
              "      <td>2018-12-31 22:09:00</td>\n",
              "      <td>2018-12-31 22:29:00</td>\n",
              "      <td>STAND_49</td>\n",
              "      <td>RUNWAY_2</td>\n",
              "      <td>54.767357</td>\n",
              "      <td>0.011135</td>\n",
              "      <td>54.757120</td>\n",
              "      <td>-0.024107</td>\n",
              "      <td>1200.0</td>\n",
              "      <td>2018-12-31 22:00:00</td>\n",
              "      <td>0.0</td>\n",
              "      <td>0.0</td>\n",
              "      <td>48.26</td>\n",
              "      <td>44.18</td>\n",
              "      <td>41.0</td>\n",
              "      <td>0.76</td>\n",
              "      <td>1017.3</td>\n",
              "      <td>9.18</td>\n",
              "      <td>27.73</td>\n",
              "      <td>281.0</td>\n",
              "      <td>1.00</td>\n",
              "      <td>0.0</td>\n",
              "      <td>6.216</td>\n",
              "      <td>0.0</td>\n",
              "      <td>310.4</td>\n",
              "      <td>Windy</td>\n",
              "      <td>None</td>\n",
              "      <td>None</td>\n",
              "      <td>0</td>\n",
              "      <td>0</td>\n",
              "    </tr>\n",
              "    <tr>\n",
              "      <th>543812</th>\n",
              "      <td>2018-12-31 23:55:00</td>\n",
              "      <td>B787-900</td>\n",
              "      <td>2018-12-31 23:58:00</td>\n",
              "      <td>2019-01-01 00:11:00</td>\n",
              "      <td>STAND_12</td>\n",
              "      <td>RUNWAY_4</td>\n",
              "      <td>54.764640</td>\n",
              "      <td>0.017864</td>\n",
              "      <td>54.761493</td>\n",
              "      <td>0.008320</td>\n",
              "      <td>780.0</td>\n",
              "      <td>2019-01-01 00:00:00</td>\n",
              "      <td>0.0</td>\n",
              "      <td>0.0</td>\n",
              "      <td>47.73</td>\n",
              "      <td>44.04</td>\n",
              "      <td>41.0</td>\n",
              "      <td>0.77</td>\n",
              "      <td>1017.3</td>\n",
              "      <td>7.91</td>\n",
              "      <td>27.73</td>\n",
              "      <td>287.0</td>\n",
              "      <td>1.00</td>\n",
              "      <td>0.0</td>\n",
              "      <td>6.216</td>\n",
              "      <td>0.0</td>\n",
              "      <td>310.4</td>\n",
              "      <td>Windy</td>\n",
              "      <td>None</td>\n",
              "      <td>None</td>\n",
              "      <td>0</td>\n",
              "      <td>0</td>\n",
              "    </tr>\n",
              "  </tbody>\n",
              "</table>\n",
              "<p>543642 rows × 32 columns</p>\n",
              "</div>"
            ],
            "text/plain": [
              "           Flight Datetime       Aircraft Model  ... Snow Fog\n",
              "0      2015-01-01 06:00:00    B737-800 WINGLETS  ...    0   0\n",
              "1      2015-01-01 06:10:00         A320-100/200  ...    0   0\n",
              "2      2015-01-01 06:15:00         A320-100/200  ...    0   0\n",
              "3      2015-01-01 06:20:00         A320-100/200  ...    0   0\n",
              "4      2015-01-01 06:20:00                 A319  ...    0   0\n",
              "...                    ...                  ...  ...  ...  ..\n",
              "543808 2018-12-31 21:15:00             A350-900  ...    0   0\n",
              "543809 2018-12-31 21:30:00             B787-900  ...    0   0\n",
              "543810 2018-12-31 21:50:00             A330-200  ...    0   0\n",
              "543811 2018-12-31 22:10:00  B787-800 Dreamliner  ...    0   0\n",
              "543812 2018-12-31 23:55:00             B787-900  ...    0   0\n",
              "\n",
              "[543642 rows x 32 columns]"
            ]
          },
          "metadata": {
            "tags": []
          },
          "execution_count": 39
        }
      ]
    },
    {
      "cell_type": "markdown",
      "metadata": {
        "id": "oNO60Qjtjpq1"
      },
      "source": [
        "### Calculating Q and N"
      ]
    },
    {
      "cell_type": "code",
      "metadata": {
        "id": "Oe3CK7OMYnvD"
      },
      "source": [
        "def overlap_taxi(date,date_1,date_2):\r\n",
        "  if date >= date_1 and date <= date_2:\r\n",
        "    return 1\r\n",
        "  else:\r\n",
        "    return 0"
      ],
      "execution_count": 28,
      "outputs": []
    },
    {
      "cell_type": "code",
      "metadata": {
        "id": "ti3r3RWGNnBi"
      },
      "source": [
        "Q = []\r\n",
        "N = []\r\n",
        "\r\n",
        "AOBT_list = list(df['AOBT'])\r\n",
        "ATOT_list = list(df['ATOT'])\r\n",
        "\r\n",
        "# number of stands in use =  number of airplanes taxiing\r\n",
        "airplanes_taxi = len(df['Stand'].unique())\r\n",
        "\r\n",
        "for index in range(len(df)):\r\n",
        "    # AOBT and ATOT of a given index\r\n",
        "    AOBT = AOBT_list[index]\r\n",
        "    ATOT = ATOT_list[index]\r\n",
        "    \r\n",
        "    # min number of iterations for a given index\r\n",
        "    index_min = max(0, index - airplanes_taxi)\r\n",
        "    # max number of iterations for a given index\r\n",
        "    index_max = min(index + airplanes_taxi, len(df))\r\n",
        "    \r\n",
        "    AOBT_range = AOBT_list[index_min : index_max]\r\n",
        "    ATOT_range = ATOT_list[index_min : index_max]\r\n",
        "\r\n",
        "    # check if other airplanes are taxiing when the given airplane taxis\r\n",
        "    N_overlap = map(lambda x, y: overlap_taxi(AOBT, x, y), AOBT_range, ATOT_range)\r\n",
        "    # count the total number of airplanes that are taxiing when the given airplane leaves its stand (including the given airplane)\r\n",
        "    N_count = max(0,sum(list(N_overlap))-1) + 1\r\n",
        "    N.append(N_count)\r\n",
        "\r\n",
        "    # check if other airplanes stop taxiing when the given airplane taxis\r\n",
        "    Q_overlap = map(lambda x: overlap_taxi(x, AOBT, ATOT), ATOT_range)\r\n",
        "    # count the total number of airplanes that stop taxiing\r\n",
        "    Q_count = max(0, sum(list(Q_overlap))-1)\r\n",
        "    Q.append(Q_count)\r\n"
      ],
      "execution_count": 29,
      "outputs": []
    },
    {
      "cell_type": "code",
      "metadata": {
        "id": "qgBn3M6O6Djq"
      },
      "source": [
        "df['N'] = N\r\n",
        "df['Q'] = Q"
      ],
      "execution_count": 30,
      "outputs": []
    },
    {
      "cell_type": "markdown",
      "metadata": {
        "id": "mTDyT2cqjjxE"
      },
      "source": [
        "### Calculating distance and log(distance)"
      ]
    },
    {
      "cell_type": "code",
      "metadata": {
        "id": "TCXjeTjwKiZp"
      },
      "source": [
        "# Calculating the distance between the stand and runway\r\n",
        "def coordinate_dist(lat_1, lng_1, lat_2, lng_2):\r\n",
        "  diff_lat = (lat_1 - lat_2) * np.pi / 180\r\n",
        "  diff_lng = (lng_1 - lng_2) * np.pi / 180\r\n",
        "\r\n",
        "  lat_1 = lat_1 * np.pi / 180\r\n",
        "  lat_2 = lat_2 * np.pi / 180\r\n",
        "\r\n",
        "  a = np.sin(diff_lat/2) * np.sin(diff_lat/2) + np.cos(lat_1) * np.cos(lat_2) * np.sin(diff_lng/2) * np.sin(diff_lng/2)\r\n",
        "  c = 2 * np.arctan2(np.sqrt(a), np.sqrt(1-a))\r\n",
        "  distance = 6371 * c * 1000\r\n",
        "\r\n",
        "  return distance"
      ],
      "execution_count": 31,
      "outputs": []
    },
    {
      "cell_type": "code",
      "metadata": {
        "id": "i7xkhEJSMSiA"
      },
      "source": [
        "df['distance'] = df.apply(lambda x: coordinate_dist(x.Lat_stand, x.Lng_stand, x.Lat_runway, x.Lng_runway), axis=1)\r\n",
        "df['dist_log'] = np.log(df['distance'].apply(lambda x: float(x)))"
      ],
      "execution_count": 32,
      "outputs": []
    },
    {
      "cell_type": "code",
      "metadata": {
        "id": "5aon0mRAZltK"
      },
      "source": [
        "df = df.drop(columns = ['Lat_stand', 'Lng_stand', 'Lat_runway', 'Lng_runway'])"
      ],
      "execution_count": 33,
      "outputs": []
    },
    {
      "cell_type": "markdown",
      "metadata": {
        "id": "IExvlltKlgtA"
      },
      "source": [
        "### Calculating datetime of AOBT"
      ]
    },
    {
      "cell_type": "code",
      "metadata": {
        "id": "RxdTld7aklvF"
      },
      "source": [
        "df['AOBT_year'] = df['AOBT'].dt.year\r\n",
        "df['AOBT_month'] = df['AOBT'].dt.month\r\n",
        "df['AOBT_day'] = df['AOBT'].dt.day\r\n",
        "df['AOBT_hour'] = df['AOBT'].dt.hour\r\n",
        "df['AOBT_min'] = df['AOBT'].dt.minute"
      ],
      "execution_count": 34,
      "outputs": []
    },
    {
      "cell_type": "code",
      "metadata": {
        "id": "gJWyqGftZzHC"
      },
      "source": [
        "df = df.drop(columns = ['Flight Datetime', 'Flight_Datetime_map', 'ATOT'])"
      ],
      "execution_count": 35,
      "outputs": []
    },
    {
      "cell_type": "markdown",
      "metadata": {
        "id": "zBQTIP8LphEl"
      },
      "source": [
        "# Analysis"
      ]
    },
    {
      "cell_type": "code",
      "metadata": {
        "colab": {
          "base_uri": "https://localhost:8080/",
          "height": 832
        },
        "id": "4ml5hrqg6yr8",
        "outputId": "29cb6242-cc6b-43e7-d0ed-732312549ff4"
      },
      "source": [
        "corr = df.corr()\r\n",
        "\r\n",
        "mask = np.zeros_like(corr, dtype=np.bool)\r\n",
        "mask[np.triu_indices_from(mask)] = True\r\n",
        "f, ax = plt.subplots(figsize=(15, 15))\r\n",
        "cmap = sns.diverging_palette(250, 10, as_cmap=True)\r\n",
        "sns.heatmap(corr, mask=mask, cmap=cmap, center=0, square=True, linewidths=.6, cbar_kws={\"shrink\": .5})"
      ],
      "execution_count": 36,
      "outputs": [
        {
          "output_type": "execute_result",
          "data": {
            "text/plain": [
              "<matplotlib.axes._subplots.AxesSubplot at 0x7f3359060cf8>"
            ]
          },
          "metadata": {
            "tags": []
          },
          "execution_count": 36
        },
        {
          "output_type": "display_data",
          "data": {
            "image/png": "[encoded data removed]",
            "text/plain": [
              "<Figure size 1080x1080 with 2 Axes>"
            ]
          },
          "metadata": {
            "tags": [],
            "needs_background": "light"
          }
        }
      ]
    },
    {
      "cell_type": "code",
      "metadata": {
        "colab": {
          "base_uri": "https://localhost:8080/",
          "height": 789
        },
        "id": "k_aJRoQkNnyx",
        "outputId": "cd4de3cf-c813-494f-d4bd-e28da56254cf"
      },
      "source": [
        "df"
      ],
      "execution_count": 37,
      "outputs": [
        {
          "output_type": "execute_result",
          "data": {
            "text/html": [
              "<div>\n",
              "<style scoped>\n",
              "    .dataframe tbody tr th:only-of-type {\n",
              "        vertical-align: middle;\n",
              "    }\n",
              "\n",
              "    .dataframe tbody tr th {\n",
              "        vertical-align: top;\n",
              "    }\n",
              "\n",
              "    .dataframe thead th {\n",
              "        text-align: right;\n",
              "    }\n",
              "</style>\n",
              "<table border=\"1\" class=\"dataframe\">\n",
              "  <thead>\n",
              "    <tr style=\"text-align: right;\">\n",
              "      <th></th>\n",
              "      <th>Aircraft Model</th>\n",
              "      <th>AOBT</th>\n",
              "      <th>Stand</th>\n",
              "      <th>Runway</th>\n",
              "      <th>Taxi_time</th>\n",
              "      <th>temperature</th>\n",
              "      <th>apparentTemperature</th>\n",
              "      <th>dewPoint</th>\n",
              "      <th>humidity</th>\n",
              "      <th>windSpeed</th>\n",
              "      <th>windGust</th>\n",
              "      <th>windBearing</th>\n",
              "      <th>cloudCover</th>\n",
              "      <th>uvIndex</th>\n",
              "      <th>visibility</th>\n",
              "      <th>precipType</th>\n",
              "      <th>precipAccumulation</th>\n",
              "      <th>ozone</th>\n",
              "      <th>N</th>\n",
              "      <th>Q</th>\n",
              "      <th>distance</th>\n",
              "      <th>dist_log</th>\n",
              "      <th>AOBT_year</th>\n",
              "      <th>AOBT_month</th>\n",
              "      <th>AOBT_day</th>\n",
              "      <th>AOBT_hour</th>\n",
              "      <th>AOBT_min</th>\n",
              "    </tr>\n",
              "  </thead>\n",
              "  <tbody>\n",
              "    <tr>\n",
              "      <th>0</th>\n",
              "      <td>B737-800 WINGLETS</td>\n",
              "      <td>2015-01-01 05:56:00</td>\n",
              "      <td>STAND_62</td>\n",
              "      <td>RUNWAY_4</td>\n",
              "      <td>540.0</td>\n",
              "      <td>44.65</td>\n",
              "      <td>39.29</td>\n",
              "      <td>42.8</td>\n",
              "      <td>0.93</td>\n",
              "      <td>10.29</td>\n",
              "      <td>11.39</td>\n",
              "      <td>210.0</td>\n",
              "      <td>0.75</td>\n",
              "      <td>0.0</td>\n",
              "      <td>5.859</td>\n",
              "      <td>None</td>\n",
              "      <td>0.0</td>\n",
              "      <td>310.4</td>\n",
              "      <td>1</td>\n",
              "      <td>0</td>\n",
              "      <td>745.673967</td>\n",
              "      <td>6.614288</td>\n",
              "      <td>2015</td>\n",
              "      <td>1</td>\n",
              "      <td>1</td>\n",
              "      <td>5</td>\n",
              "      <td>56</td>\n",
              "    </tr>\n",
              "    <tr>\n",
              "      <th>1</th>\n",
              "      <td>A320-100/200</td>\n",
              "      <td>2015-01-01 06:08:00</td>\n",
              "      <td>STAND_153</td>\n",
              "      <td>RUNWAY_4</td>\n",
              "      <td>600.0</td>\n",
              "      <td>44.65</td>\n",
              "      <td>39.29</td>\n",
              "      <td>42.8</td>\n",
              "      <td>0.93</td>\n",
              "      <td>10.29</td>\n",
              "      <td>11.39</td>\n",
              "      <td>210.0</td>\n",
              "      <td>0.75</td>\n",
              "      <td>0.0</td>\n",
              "      <td>5.859</td>\n",
              "      <td>None</td>\n",
              "      <td>0.0</td>\n",
              "      <td>310.4</td>\n",
              "      <td>2</td>\n",
              "      <td>0</td>\n",
              "      <td>1061.304683</td>\n",
              "      <td>6.967254</td>\n",
              "      <td>2015</td>\n",
              "      <td>1</td>\n",
              "      <td>1</td>\n",
              "      <td>6</td>\n",
              "      <td>8</td>\n",
              "    </tr>\n",
              "    <tr>\n",
              "      <th>2</th>\n",
              "      <td>A320-100/200</td>\n",
              "      <td>2015-01-01 06:08:00</td>\n",
              "      <td>STAND_44</td>\n",
              "      <td>RUNWAY_2</td>\n",
              "      <td>660.0</td>\n",
              "      <td>44.65</td>\n",
              "      <td>39.29</td>\n",
              "      <td>42.8</td>\n",
              "      <td>0.93</td>\n",
              "      <td>10.29</td>\n",
              "      <td>11.39</td>\n",
              "      <td>210.0</td>\n",
              "      <td>0.75</td>\n",
              "      <td>0.0</td>\n",
              "      <td>5.859</td>\n",
              "      <td>None</td>\n",
              "      <td>0.0</td>\n",
              "      <td>310.4</td>\n",
              "      <td>2</td>\n",
              "      <td>1</td>\n",
              "      <td>3045.847841</td>\n",
              "      <td>8.021535</td>\n",
              "      <td>2015</td>\n",
              "      <td>1</td>\n",
              "      <td>1</td>\n",
              "      <td>6</td>\n",
              "      <td>8</td>\n",
              "    </tr>\n",
              "    <tr>\n",
              "      <th>3</th>\n",
              "      <td>A320-100/200</td>\n",
              "      <td>2015-01-01 06:24:00</td>\n",
              "      <td>STAND_7</td>\n",
              "      <td>RUNWAY_3</td>\n",
              "      <td>720.0</td>\n",
              "      <td>44.65</td>\n",
              "      <td>39.29</td>\n",
              "      <td>42.8</td>\n",
              "      <td>0.93</td>\n",
              "      <td>10.29</td>\n",
              "      <td>11.39</td>\n",
              "      <td>210.0</td>\n",
              "      <td>0.75</td>\n",
              "      <td>0.0</td>\n",
              "      <td>5.859</td>\n",
              "      <td>None</td>\n",
              "      <td>0.0</td>\n",
              "      <td>310.4</td>\n",
              "      <td>4</td>\n",
              "      <td>3</td>\n",
              "      <td>706.838963</td>\n",
              "      <td>6.560803</td>\n",
              "      <td>2015</td>\n",
              "      <td>1</td>\n",
              "      <td>1</td>\n",
              "      <td>6</td>\n",
              "      <td>24</td>\n",
              "    </tr>\n",
              "    <tr>\n",
              "      <th>4</th>\n",
              "      <td>A319</td>\n",
              "      <td>2015-01-01 06:14:00</td>\n",
              "      <td>STAND_17</td>\n",
              "      <td>RUNWAY_2</td>\n",
              "      <td>780.0</td>\n",
              "      <td>44.65</td>\n",
              "      <td>39.29</td>\n",
              "      <td>42.8</td>\n",
              "      <td>0.93</td>\n",
              "      <td>10.29</td>\n",
              "      <td>11.39</td>\n",
              "      <td>210.0</td>\n",
              "      <td>0.75</td>\n",
              "      <td>0.0</td>\n",
              "      <td>5.859</td>\n",
              "      <td>None</td>\n",
              "      <td>0.0</td>\n",
              "      <td>310.4</td>\n",
              "      <td>3</td>\n",
              "      <td>2</td>\n",
              "      <td>2589.209331</td>\n",
              "      <td>7.859108</td>\n",
              "      <td>2015</td>\n",
              "      <td>1</td>\n",
              "      <td>1</td>\n",
              "      <td>6</td>\n",
              "      <td>14</td>\n",
              "    </tr>\n",
              "    <tr>\n",
              "      <th>...</th>\n",
              "      <td>...</td>\n",
              "      <td>...</td>\n",
              "      <td>...</td>\n",
              "      <td>...</td>\n",
              "      <td>...</td>\n",
              "      <td>...</td>\n",
              "      <td>...</td>\n",
              "      <td>...</td>\n",
              "      <td>...</td>\n",
              "      <td>...</td>\n",
              "      <td>...</td>\n",
              "      <td>...</td>\n",
              "      <td>...</td>\n",
              "      <td>...</td>\n",
              "      <td>...</td>\n",
              "      <td>...</td>\n",
              "      <td>...</td>\n",
              "      <td>...</td>\n",
              "      <td>...</td>\n",
              "      <td>...</td>\n",
              "      <td>...</td>\n",
              "      <td>...</td>\n",
              "      <td>...</td>\n",
              "      <td>...</td>\n",
              "      <td>...</td>\n",
              "      <td>...</td>\n",
              "      <td>...</td>\n",
              "    </tr>\n",
              "    <tr>\n",
              "      <th>543808</th>\n",
              "      <td>A350-900</td>\n",
              "      <td>2018-12-31 21:02:00</td>\n",
              "      <td>STAND_150</td>\n",
              "      <td>RUNWAY_3</td>\n",
              "      <td>1080.0</td>\n",
              "      <td>47.88</td>\n",
              "      <td>44.35</td>\n",
              "      <td>41.0</td>\n",
              "      <td>0.77</td>\n",
              "      <td>7.62</td>\n",
              "      <td>27.73</td>\n",
              "      <td>262.0</td>\n",
              "      <td>1.00</td>\n",
              "      <td>0.0</td>\n",
              "      <td>6.216</td>\n",
              "      <td>None</td>\n",
              "      <td>0.0</td>\n",
              "      <td>310.4</td>\n",
              "      <td>2</td>\n",
              "      <td>1</td>\n",
              "      <td>1430.108629</td>\n",
              "      <td>7.265506</td>\n",
              "      <td>2018</td>\n",
              "      <td>12</td>\n",
              "      <td>31</td>\n",
              "      <td>21</td>\n",
              "      <td>2</td>\n",
              "    </tr>\n",
              "    <tr>\n",
              "      <th>543809</th>\n",
              "      <td>B787-900</td>\n",
              "      <td>2018-12-31 21:24:00</td>\n",
              "      <td>STAND_77</td>\n",
              "      <td>RUNWAY_1</td>\n",
              "      <td>840.0</td>\n",
              "      <td>48.26</td>\n",
              "      <td>44.18</td>\n",
              "      <td>41.0</td>\n",
              "      <td>0.76</td>\n",
              "      <td>9.18</td>\n",
              "      <td>27.73</td>\n",
              "      <td>281.0</td>\n",
              "      <td>1.00</td>\n",
              "      <td>0.0</td>\n",
              "      <td>6.216</td>\n",
              "      <td>None</td>\n",
              "      <td>0.0</td>\n",
              "      <td>310.4</td>\n",
              "      <td>1</td>\n",
              "      <td>0</td>\n",
              "      <td>3230.219332</td>\n",
              "      <td>8.080305</td>\n",
              "      <td>2018</td>\n",
              "      <td>12</td>\n",
              "      <td>31</td>\n",
              "      <td>21</td>\n",
              "      <td>24</td>\n",
              "    </tr>\n",
              "    <tr>\n",
              "      <th>543810</th>\n",
              "      <td>A330-200</td>\n",
              "      <td>2018-12-31 22:27:00</td>\n",
              "      <td>STAND_120</td>\n",
              "      <td>RUNWAY_1</td>\n",
              "      <td>600.0</td>\n",
              "      <td>48.26</td>\n",
              "      <td>44.18</td>\n",
              "      <td>41.0</td>\n",
              "      <td>0.76</td>\n",
              "      <td>9.18</td>\n",
              "      <td>27.73</td>\n",
              "      <td>281.0</td>\n",
              "      <td>1.00</td>\n",
              "      <td>0.0</td>\n",
              "      <td>6.216</td>\n",
              "      <td>None</td>\n",
              "      <td>0.0</td>\n",
              "      <td>310.4</td>\n",
              "      <td>2</td>\n",
              "      <td>1</td>\n",
              "      <td>2008.758160</td>\n",
              "      <td>7.605272</td>\n",
              "      <td>2018</td>\n",
              "      <td>12</td>\n",
              "      <td>31</td>\n",
              "      <td>22</td>\n",
              "      <td>27</td>\n",
              "    </tr>\n",
              "    <tr>\n",
              "      <th>543811</th>\n",
              "      <td>B787-800 Dreamliner</td>\n",
              "      <td>2018-12-31 22:09:00</td>\n",
              "      <td>STAND_49</td>\n",
              "      <td>RUNWAY_2</td>\n",
              "      <td>1200.0</td>\n",
              "      <td>48.26</td>\n",
              "      <td>44.18</td>\n",
              "      <td>41.0</td>\n",
              "      <td>0.76</td>\n",
              "      <td>9.18</td>\n",
              "      <td>27.73</td>\n",
              "      <td>281.0</td>\n",
              "      <td>1.00</td>\n",
              "      <td>0.0</td>\n",
              "      <td>6.216</td>\n",
              "      <td>None</td>\n",
              "      <td>0.0</td>\n",
              "      <td>310.4</td>\n",
              "      <td>1</td>\n",
              "      <td>0</td>\n",
              "      <td>2531.339473</td>\n",
              "      <td>7.836504</td>\n",
              "      <td>2018</td>\n",
              "      <td>12</td>\n",
              "      <td>31</td>\n",
              "      <td>22</td>\n",
              "      <td>9</td>\n",
              "    </tr>\n",
              "    <tr>\n",
              "      <th>543812</th>\n",
              "      <td>B787-900</td>\n",
              "      <td>2018-12-31 23:58:00</td>\n",
              "      <td>STAND_12</td>\n",
              "      <td>RUNWAY_4</td>\n",
              "      <td>780.0</td>\n",
              "      <td>47.73</td>\n",
              "      <td>44.04</td>\n",
              "      <td>41.0</td>\n",
              "      <td>0.77</td>\n",
              "      <td>7.91</td>\n",
              "      <td>27.73</td>\n",
              "      <td>287.0</td>\n",
              "      <td>1.00</td>\n",
              "      <td>0.0</td>\n",
              "      <td>6.216</td>\n",
              "      <td>None</td>\n",
              "      <td>0.0</td>\n",
              "      <td>310.4</td>\n",
              "      <td>1</td>\n",
              "      <td>0</td>\n",
              "      <td>705.198521</td>\n",
              "      <td>6.558479</td>\n",
              "      <td>2018</td>\n",
              "      <td>12</td>\n",
              "      <td>31</td>\n",
              "      <td>23</td>\n",
              "      <td>58</td>\n",
              "    </tr>\n",
              "  </tbody>\n",
              "</table>\n",
              "<p>543642 rows × 27 columns</p>\n",
              "</div>"
            ],
            "text/plain": [
              "             Aircraft Model                AOBT  ... AOBT_hour AOBT_min\n",
              "0         B737-800 WINGLETS 2015-01-01 05:56:00  ...         5       56\n",
              "1              A320-100/200 2015-01-01 06:08:00  ...         6        8\n",
              "2              A320-100/200 2015-01-01 06:08:00  ...         6        8\n",
              "3              A320-100/200 2015-01-01 06:24:00  ...         6       24\n",
              "4                      A319 2015-01-01 06:14:00  ...         6       14\n",
              "...                     ...                 ...  ...       ...      ...\n",
              "543808             A350-900 2018-12-31 21:02:00  ...        21        2\n",
              "543809             B787-900 2018-12-31 21:24:00  ...        21       24\n",
              "543810             A330-200 2018-12-31 22:27:00  ...        22       27\n",
              "543811  B787-800 Dreamliner 2018-12-31 22:09:00  ...        22        9\n",
              "543812             B787-900 2018-12-31 23:58:00  ...        23       58\n",
              "\n",
              "[543642 rows x 27 columns]"
            ]
          },
          "metadata": {
            "tags": []
          },
          "execution_count": 37
        }
      ]
    },
    {
      "cell_type": "code",
      "metadata": {
        "id": "aThiLN1COKXl"
      },
      "source": [
        "df.to_csv('train_df_1.csv')"
      ],
      "execution_count": 38,
      "outputs": []
    },
    {
      "cell_type": "markdown",
      "metadata": {
        "id": "7bEOxJpUTZb3"
      },
      "source": [
        "# Test Data"
      ]
    },
    {
      "cell_type": "code",
      "metadata": {
        "colab": {
          "base_uri": "https://localhost:8080/"
        },
        "id": "dg5RxwgrT1TN",
        "outputId": "56ecf986-f561-4259-9274-935149b29942"
      },
      "source": [
        "geographic_test_df = pd.read_csv('geographic_data.csv')\r\n",
        "airport_test_df = pd.read_csv('test_set_airport_data.csv')\r\n",
        "weather_test_df = pd.read_csv('test_set_weather_data.csv')\r\n",
        "# Converted the ACchar.xlsx to a csv file\r\n",
        "AC_test_df = pd.read_csv('ACchar.csv')"
      ],
      "execution_count": 62,
      "outputs": [
        {
          "output_type": "stream",
          "text": [
            "/usr/local/lib/python3.6/dist-packages/IPython/core/interactiveshell.py:2718: DtypeWarning: Columns (3) have mixed types.Specify dtype option on import or set low_memory=False.\n",
            "  interactivity=interactivity, compiler=compiler, result=result)\n"
          ],
          "name": "stderr"
        }
      ]
    },
    {
      "cell_type": "markdown",
      "metadata": {
        "id": "t-oFT6bkTZb9"
      },
      "source": [
        "## Merging Datasets"
      ]
    },
    {
      "cell_type": "markdown",
      "metadata": {
        "id": "I559FV3kTZb-"
      },
      "source": [
        "### Airport Dataset"
      ]
    },
    {
      "cell_type": "code",
      "metadata": {
        "colab": {
          "base_uri": "https://localhost:8080/",
          "height": 200
        },
        "id": "OESK4gCDTZb_",
        "outputId": "2e507e3f-0756-4b62-84dd-5032b4767bb5"
      },
      "source": [
        "airport_test_df.head()"
      ],
      "execution_count": 63,
      "outputs": [
        {
          "output_type": "execute_result",
          "data": {
            "text/html": [
              "<div>\n",
              "<style scoped>\n",
              "    .dataframe tbody tr th:only-of-type {\n",
              "        vertical-align: middle;\n",
              "    }\n",
              "\n",
              "    .dataframe tbody tr th {\n",
              "        vertical-align: top;\n",
              "    }\n",
              "\n",
              "    .dataframe thead th {\n",
              "        text-align: right;\n",
              "    }\n",
              "</style>\n",
              "<table border=\"1\" class=\"dataframe\">\n",
              "  <thead>\n",
              "    <tr style=\"text-align: right;\">\n",
              "      <th></th>\n",
              "      <th>Flight Datetime</th>\n",
              "      <th>Aircraft Model</th>\n",
              "      <th>AOBT</th>\n",
              "      <th>ATOT</th>\n",
              "      <th>Stand</th>\n",
              "      <th>Runway</th>\n",
              "    </tr>\n",
              "  </thead>\n",
              "  <tbody>\n",
              "    <tr>\n",
              "      <th>0</th>\n",
              "      <td>1/1/2019 6:00</td>\n",
              "      <td>B737-800 WINGLETS</td>\n",
              "      <td>1/1/2019 5:56</td>\n",
              "      <td>1/1/2019 6:03</td>\n",
              "      <td>STAND_163</td>\n",
              "      <td>RUNWAY_2</td>\n",
              "    </tr>\n",
              "    <tr>\n",
              "      <th>1</th>\n",
              "      <td>1/1/2019 6:05</td>\n",
              "      <td>A319</td>\n",
              "      <td>1/1/2019 5:58</td>\n",
              "      <td>1/1/2019 6:06</td>\n",
              "      <td>STAND_29</td>\n",
              "      <td>RUNWAY_2</td>\n",
              "    </tr>\n",
              "    <tr>\n",
              "      <th>2</th>\n",
              "      <td>1/1/2019 6:10</td>\n",
              "      <td>A320-100/200</td>\n",
              "      <td>1/1/2019 6:06</td>\n",
              "      <td>1/1/2019 6:19</td>\n",
              "      <td>STAND_82</td>\n",
              "      <td>RUNWAY_2</td>\n",
              "    </tr>\n",
              "    <tr>\n",
              "      <th>3</th>\n",
              "      <td>1/1/2019 6:10</td>\n",
              "      <td>B787-900</td>\n",
              "      <td>1/1/2019 6:05</td>\n",
              "      <td>1/1/2019 6:21</td>\n",
              "      <td>STAND_159</td>\n",
              "      <td>RUNWAY_2</td>\n",
              "    </tr>\n",
              "    <tr>\n",
              "      <th>4</th>\n",
              "      <td>1/1/2019 6:20</td>\n",
              "      <td>A320-100/200</td>\n",
              "      <td>1/1/2019 6:12</td>\n",
              "      <td>1/1/2019 6:24</td>\n",
              "      <td>STAND_94</td>\n",
              "      <td>RUNWAY_2</td>\n",
              "    </tr>\n",
              "  </tbody>\n",
              "</table>\n",
              "</div>"
            ],
            "text/plain": [
              "  Flight Datetime     Aircraft Model  ...      Stand    Runway\n",
              "0   1/1/2019 6:00  B737-800 WINGLETS  ...  STAND_163  RUNWAY_2\n",
              "1   1/1/2019 6:05               A319  ...   STAND_29  RUNWAY_2\n",
              "2   1/1/2019 6:10       A320-100/200  ...   STAND_82  RUNWAY_2\n",
              "3   1/1/2019 6:10           B787-900  ...  STAND_159  RUNWAY_2\n",
              "4   1/1/2019 6:20       A320-100/200  ...   STAND_94  RUNWAY_2\n",
              "\n",
              "[5 rows x 6 columns]"
            ]
          },
          "metadata": {
            "tags": []
          },
          "execution_count": 63
        }
      ]
    },
    {
      "cell_type": "code",
      "metadata": {
        "colab": {
          "base_uri": "https://localhost:8080/",
          "height": 170
        },
        "id": "ui9PkEuKTZcB",
        "outputId": "ebcd7c22-b473-41bb-c490-21a6ca557941"
      },
      "source": [
        "airport_test_df.describe()"
      ],
      "execution_count": 64,
      "outputs": [
        {
          "output_type": "execute_result",
          "data": {
            "text/html": [
              "<div>\n",
              "<style scoped>\n",
              "    .dataframe tbody tr th:only-of-type {\n",
              "        vertical-align: middle;\n",
              "    }\n",
              "\n",
              "    .dataframe tbody tr th {\n",
              "        vertical-align: top;\n",
              "    }\n",
              "\n",
              "    .dataframe thead th {\n",
              "        text-align: right;\n",
              "    }\n",
              "</style>\n",
              "<table border=\"1\" class=\"dataframe\">\n",
              "  <thead>\n",
              "    <tr style=\"text-align: right;\">\n",
              "      <th></th>\n",
              "      <th>Flight Datetime</th>\n",
              "      <th>Aircraft Model</th>\n",
              "      <th>AOBT</th>\n",
              "      <th>ATOT</th>\n",
              "      <th>Stand</th>\n",
              "      <th>Runway</th>\n",
              "    </tr>\n",
              "  </thead>\n",
              "  <tbody>\n",
              "    <tr>\n",
              "      <th>count</th>\n",
              "      <td>135089</td>\n",
              "      <td>135089</td>\n",
              "      <td>135089</td>\n",
              "      <td>135089</td>\n",
              "      <td>135089</td>\n",
              "      <td>135089</td>\n",
              "    </tr>\n",
              "    <tr>\n",
              "      <th>unique</th>\n",
              "      <td>61582</td>\n",
              "      <td>99</td>\n",
              "      <td>116138</td>\n",
              "      <td>133930</td>\n",
              "      <td>167</td>\n",
              "      <td>4</td>\n",
              "    </tr>\n",
              "    <tr>\n",
              "      <th>top</th>\n",
              "      <td>4/11/2019 9:00</td>\n",
              "      <td>A320-100/200</td>\n",
              "      <td>1/24/2019 12:58</td>\n",
              "      <td>12/29/2019 19:20</td>\n",
              "      <td>STAND_130</td>\n",
              "      <td>RUNWAY_2</td>\n",
              "    </tr>\n",
              "    <tr>\n",
              "      <th>freq</th>\n",
              "      <td>8</td>\n",
              "      <td>43373</td>\n",
              "      <td>5</td>\n",
              "      <td>2</td>\n",
              "      <td>870</td>\n",
              "      <td>33989</td>\n",
              "    </tr>\n",
              "  </tbody>\n",
              "</table>\n",
              "</div>"
            ],
            "text/plain": [
              "       Flight Datetime Aircraft Model  ...      Stand    Runway\n",
              "count           135089         135089  ...     135089    135089\n",
              "unique           61582             99  ...        167         4\n",
              "top     4/11/2019 9:00   A320-100/200  ...  STAND_130  RUNWAY_2\n",
              "freq                 8          43373  ...        870     33989\n",
              "\n",
              "[4 rows x 6 columns]"
            ]
          },
          "metadata": {
            "tags": []
          },
          "execution_count": 64
        }
      ]
    },
    {
      "cell_type": "code",
      "metadata": {
        "id": "qK1b2TR1TZcD"
      },
      "source": [
        "airport_test_df['Flight Datetime'] = pd.to_datetime(airport_test_df['Flight Datetime'], format = '%m/%d/%Y %H:%M')\r\n",
        "airport_test_df['AOBT'] =  pd.to_datetime(airport_test_df['AOBT'], format='%m/%d/%Y %H:%M')\r\n",
        "airport_test_df['ATOT'] =  pd.to_datetime(airport_test_df['ATOT'], format='%m/%d/%Y %H:%M')"
      ],
      "execution_count": 65,
      "outputs": []
    },
    {
      "cell_type": "markdown",
      "metadata": {
        "id": "FEDmxcpyTZcD"
      },
      "source": [
        "### Geographic Dataset"
      ]
    },
    {
      "cell_type": "code",
      "metadata": {
        "colab": {
          "base_uri": "https://localhost:8080/",
          "height": 0
        },
        "id": "OdzYX25LTZcE",
        "outputId": "198f38be-18c7-419e-fd64-6b6328e89d8a"
      },
      "source": [
        "geographic_test_df.describe()"
      ],
      "execution_count": 66,
      "outputs": [
        {
          "output_type": "execute_result",
          "data": {
            "text/html": [
              "<div>\n",
              "<style scoped>\n",
              "    .dataframe tbody tr th:only-of-type {\n",
              "        vertical-align: middle;\n",
              "    }\n",
              "\n",
              "    .dataframe tbody tr th {\n",
              "        vertical-align: top;\n",
              "    }\n",
              "\n",
              "    .dataframe thead th {\n",
              "        text-align: right;\n",
              "    }\n",
              "</style>\n",
              "<table border=\"1\" class=\"dataframe\">\n",
              "  <thead>\n",
              "    <tr style=\"text-align: right;\">\n",
              "      <th></th>\n",
              "      <th>Lat_runway</th>\n",
              "      <th>Lng_runway</th>\n",
              "      <th>Lat_stand</th>\n",
              "      <th>Lng_stand</th>\n",
              "    </tr>\n",
              "  </thead>\n",
              "  <tbody>\n",
              "    <tr>\n",
              "      <th>count</th>\n",
              "      <td>19545.000000</td>\n",
              "      <td>19545.000000</td>\n",
              "      <td>19545.000000</td>\n",
              "      <td>19545.000000</td>\n",
              "    </tr>\n",
              "    <tr>\n",
              "      <th>mean</th>\n",
              "      <td>54.757430</td>\n",
              "      <td>-0.007600</td>\n",
              "      <td>54.767112</td>\n",
              "      <td>0.015223</td>\n",
              "    </tr>\n",
              "    <tr>\n",
              "      <th>std</th>\n",
              "      <td>0.002815</td>\n",
              "      <td>0.020570</td>\n",
              "      <td>0.002567</td>\n",
              "      <td>0.006758</td>\n",
              "    </tr>\n",
              "    <tr>\n",
              "      <th>min</th>\n",
              "      <td>54.755307</td>\n",
              "      <td>-0.024107</td>\n",
              "      <td>54.761081</td>\n",
              "      <td>-0.009674</td>\n",
              "    </tr>\n",
              "    <tr>\n",
              "      <th>25%</th>\n",
              "      <td>54.755307</td>\n",
              "      <td>-0.023040</td>\n",
              "      <td>54.765141</td>\n",
              "      <td>0.010050</td>\n",
              "    </tr>\n",
              "    <tr>\n",
              "      <th>50%</th>\n",
              "      <td>54.755307</td>\n",
              "      <td>-0.023040</td>\n",
              "      <td>54.766471</td>\n",
              "      <td>0.016204</td>\n",
              "    </tr>\n",
              "    <tr>\n",
              "      <th>75%</th>\n",
              "      <td>54.761173</td>\n",
              "      <td>0.019840</td>\n",
              "      <td>54.769007</td>\n",
              "      <td>0.020901</td>\n",
              "    </tr>\n",
              "    <tr>\n",
              "      <th>max</th>\n",
              "      <td>54.761493</td>\n",
              "      <td>0.019840</td>\n",
              "      <td>54.773947</td>\n",
              "      <td>0.026379</td>\n",
              "    </tr>\n",
              "  </tbody>\n",
              "</table>\n",
              "</div>"
            ],
            "text/plain": [
              "         Lat_runway    Lng_runway     Lat_stand     Lng_stand\n",
              "count  19545.000000  19545.000000  19545.000000  19545.000000\n",
              "mean      54.757430     -0.007600     54.767112      0.015223\n",
              "std        0.002815      0.020570      0.002567      0.006758\n",
              "min       54.755307     -0.024107     54.761081     -0.009674\n",
              "25%       54.755307     -0.023040     54.765141      0.010050\n",
              "50%       54.755307     -0.023040     54.766471      0.016204\n",
              "75%       54.761173      0.019840     54.769007      0.020901\n",
              "max       54.761493      0.019840     54.773947      0.026379"
            ]
          },
          "metadata": {
            "tags": []
          },
          "execution_count": 66
        }
      ]
    },
    {
      "cell_type": "code",
      "metadata": {
        "id": "bPjGcVvYTZcF"
      },
      "source": [
        "# Merging airport_df with geographic_df on the runway and stand columns\r\n",
        "runway_test_df = np.hsplit(geographic_test_df, 2)[0].drop_duplicates()\r\n",
        "stand_test_df = np.hsplit(geographic_test_df, 2)[1].drop_duplicates()"
      ],
      "execution_count": 67,
      "outputs": []
    },
    {
      "cell_type": "code",
      "metadata": {
        "colab": {
          "base_uri": "https://localhost:8080/",
          "height": 0
        },
        "id": "9niAHPAVTZcF",
        "outputId": "55070e32-74f4-4d87-8b89-9e8f681c6dd8"
      },
      "source": [
        "runway_test_df.describe()"
      ],
      "execution_count": 68,
      "outputs": [
        {
          "output_type": "execute_result",
          "data": {
            "text/html": [
              "<div>\n",
              "<style scoped>\n",
              "    .dataframe tbody tr th:only-of-type {\n",
              "        vertical-align: middle;\n",
              "    }\n",
              "\n",
              "    .dataframe tbody tr th {\n",
              "        vertical-align: top;\n",
              "    }\n",
              "\n",
              "    .dataframe thead th {\n",
              "        text-align: right;\n",
              "    }\n",
              "</style>\n",
              "<table border=\"1\" class=\"dataframe\">\n",
              "  <thead>\n",
              "    <tr style=\"text-align: right;\">\n",
              "      <th></th>\n",
              "      <th>runway</th>\n",
              "      <th>Lat_runway</th>\n",
              "      <th>Lng_runway</th>\n",
              "    </tr>\n",
              "  </thead>\n",
              "  <tbody>\n",
              "    <tr>\n",
              "      <th>count</th>\n",
              "      <td>4</td>\n",
              "      <td>4.000000</td>\n",
              "      <td>4.000000</td>\n",
              "    </tr>\n",
              "    <tr>\n",
              "      <th>unique</th>\n",
              "      <td>4</td>\n",
              "      <td>4.000000</td>\n",
              "      <td>4.000000</td>\n",
              "    </tr>\n",
              "    <tr>\n",
              "      <th>top</th>\n",
              "      <td>Runway_1</td>\n",
              "      <td>54.761173</td>\n",
              "      <td>-0.024107</td>\n",
              "    </tr>\n",
              "    <tr>\n",
              "      <th>freq</th>\n",
              "      <td>1</td>\n",
              "      <td>1.000000</td>\n",
              "      <td>1.000000</td>\n",
              "    </tr>\n",
              "  </tbody>\n",
              "</table>\n",
              "</div>"
            ],
            "text/plain": [
              "          runway  Lat_runway  Lng_runway\n",
              "count          4    4.000000    4.000000\n",
              "unique         4    4.000000    4.000000\n",
              "top     Runway_1   54.761173   -0.024107\n",
              "freq           1    1.000000    1.000000"
            ]
          },
          "metadata": {
            "tags": []
          },
          "execution_count": 68
        }
      ]
    },
    {
      "cell_type": "code",
      "metadata": {
        "colab": {
          "base_uri": "https://localhost:8080/",
          "height": 0
        },
        "id": "VAmcrDmQTZcG",
        "outputId": "27b1cd22-ebc2-4815-be35-873f38dc0aa1"
      },
      "source": [
        "stand_test_df.describe()"
      ],
      "execution_count": 69,
      "outputs": [
        {
          "output_type": "execute_result",
          "data": {
            "text/html": [
              "<div>\n",
              "<style scoped>\n",
              "    .dataframe tbody tr th:only-of-type {\n",
              "        vertical-align: middle;\n",
              "    }\n",
              "\n",
              "    .dataframe tbody tr th {\n",
              "        vertical-align: top;\n",
              "    }\n",
              "\n",
              "    .dataframe thead th {\n",
              "        text-align: right;\n",
              "    }\n",
              "</style>\n",
              "<table border=\"1\" class=\"dataframe\">\n",
              "  <thead>\n",
              "    <tr style=\"text-align: right;\">\n",
              "      <th></th>\n",
              "      <th>stand</th>\n",
              "      <th>Lat_stand</th>\n",
              "      <th>Lng_stand</th>\n",
              "    </tr>\n",
              "  </thead>\n",
              "  <tbody>\n",
              "    <tr>\n",
              "      <th>count</th>\n",
              "      <td>167</td>\n",
              "      <td>167.000000</td>\n",
              "      <td>167.000000</td>\n",
              "    </tr>\n",
              "    <tr>\n",
              "      <th>unique</th>\n",
              "      <td>167</td>\n",
              "      <td>159.000000</td>\n",
              "      <td>165.000000</td>\n",
              "    </tr>\n",
              "    <tr>\n",
              "      <th>top</th>\n",
              "      <td>stand_100</td>\n",
              "      <td>54.770717</td>\n",
              "      <td>-0.001061</td>\n",
              "    </tr>\n",
              "    <tr>\n",
              "      <th>freq</th>\n",
              "      <td>1</td>\n",
              "      <td>2.000000</td>\n",
              "      <td>2.000000</td>\n",
              "    </tr>\n",
              "  </tbody>\n",
              "</table>\n",
              "</div>"
            ],
            "text/plain": [
              "            stand   Lat_stand   Lng_stand\n",
              "count         167  167.000000  167.000000\n",
              "unique        167  159.000000  165.000000\n",
              "top     stand_100   54.770717   -0.001061\n",
              "freq            1    2.000000    2.000000"
            ]
          },
          "metadata": {
            "tags": []
          },
          "execution_count": 69
        }
      ]
    },
    {
      "cell_type": "code",
      "metadata": {
        "id": "jfF0IdJeTZcH"
      },
      "source": [
        "runway_test_df['runway'] = runway_test_df['runway'].str.upper()\r\n",
        "stand_test_df['stand'] = stand_test_df['stand'].str.upper()\r\n",
        "runway_test_df['runway'] = np.where(runway_test_df['runway'] == 'RUNWAY_3', 'RUNWAY_4', runway_test_df['runway'])\r\n",
        "runway_test_df['runway'] = np.where(runway_test_df['runway'] == 'RUNWAY_2', 'RUNWAY_3', runway_test_df['runway'])\r\n",
        "runway_test_df['runway'] = np.where(runway_test_df['runway'] == 'RUNWAY_1', 'RUNWAY_2', runway_test_df['runway'])\r\n",
        "runway_test_df['runway'] = np.where(runway_test_df['runway'] == 'RUNWAY_0', 'RUNWAY_1', runway_test_df['runway'])\r\n",
        "\r\n",
        "test_df = pd.merge(airport_test_df, stand_test_df, left_on='Stand', right_on='stand', how='left')\r\n",
        "test_df = pd.merge(test_df, runway_test_df, left_on='Runway', right_on='runway', how='left')\r\n",
        "test_df = test_df.drop(columns = ['runway','stand'])"
      ],
      "execution_count": 70,
      "outputs": []
    },
    {
      "cell_type": "code",
      "metadata": {
        "id": "gHb5yYnTTZcI"
      },
      "source": [
        "test_df['Taxi_time'] = (test_df['ATOT'] - test_df['AOBT'])/(np.timedelta64(1,'m')) * 60"
      ],
      "execution_count": 71,
      "outputs": []
    },
    {
      "cell_type": "markdown",
      "metadata": {
        "id": "fFZzeQ8jTZcI"
      },
      "source": [
        "### ACchar Dataset"
      ]
    },
    {
      "cell_type": "code",
      "metadata": {
        "id": "MLCa5A-aTZcJ"
      },
      "source": [
        "ac_df = AC_df[['A320-100', 'ICAO Code', 'Wake Category']]\r\n",
        "ac_df = ac_df.drop_duplicates()"
      ],
      "execution_count": 184,
      "outputs": []
    },
    {
      "cell_type": "code",
      "metadata": {
        "colab": {
          "base_uri": "https://localhost:8080/",
          "height": 411
        },
        "id": "7tg7WHrOTZcJ",
        "outputId": "d4c959db-ecc2-43af-883b-afebb8290cff"
      },
      "source": [
        "ac_df"
      ],
      "execution_count": 185,
      "outputs": [
        {
          "output_type": "execute_result",
          "data": {
            "text/html": [
              "<div>\n",
              "<style scoped>\n",
              "    .dataframe tbody tr th:only-of-type {\n",
              "        vertical-align: middle;\n",
              "    }\n",
              "\n",
              "    .dataframe tbody tr th {\n",
              "        vertical-align: top;\n",
              "    }\n",
              "\n",
              "    .dataframe thead th {\n",
              "        text-align: right;\n",
              "    }\n",
              "</style>\n",
              "<table border=\"1\" class=\"dataframe\">\n",
              "  <thead>\n",
              "    <tr style=\"text-align: right;\">\n",
              "      <th></th>\n",
              "      <th>A320-100</th>\n",
              "      <th>ICAO Code</th>\n",
              "      <th>Wake Category</th>\n",
              "    </tr>\n",
              "  </thead>\n",
              "  <tbody>\n",
              "    <tr>\n",
              "      <th>0</th>\n",
              "      <td>Acro Sport</td>\n",
              "      <td>ACRO</td>\n",
              "      <td>L</td>\n",
              "    </tr>\n",
              "    <tr>\n",
              "      <th>1</th>\n",
              "      <td>Acro Sport II</td>\n",
              "      <td>ACR2</td>\n",
              "      <td>L</td>\n",
              "    </tr>\n",
              "    <tr>\n",
              "      <th>2</th>\n",
              "      <td>Cougar</td>\n",
              "      <td>COUG</td>\n",
              "      <td>L</td>\n",
              "    </tr>\n",
              "    <tr>\n",
              "      <th>3</th>\n",
              "      <td>Junior Ace</td>\n",
              "      <td>JACE</td>\n",
              "      <td>L</td>\n",
              "    </tr>\n",
              "    <tr>\n",
              "      <th>4</th>\n",
              "      <td>Super Ace</td>\n",
              "      <td>SACE</td>\n",
              "      <td>L</td>\n",
              "    </tr>\n",
              "    <tr>\n",
              "      <th>...</th>\n",
              "      <td>...</td>\n",
              "      <td>...</td>\n",
              "      <td>...</td>\n",
              "    </tr>\n",
              "    <tr>\n",
              "      <th>2759</th>\n",
              "      <td>Zlin Z-50</td>\n",
              "      <td>BA11</td>\n",
              "      <td>M</td>\n",
              "    </tr>\n",
              "    <tr>\n",
              "      <th>2760</th>\n",
              "      <td>Zlin Z-526 Akrobat</td>\n",
              "      <td>tbd</td>\n",
              "      <td>tbd</td>\n",
              "    </tr>\n",
              "    <tr>\n",
              "      <th>2761</th>\n",
              "      <td>Zlin Z-526 Trener Master</td>\n",
              "      <td>tbd</td>\n",
              "      <td>tbd</td>\n",
              "    </tr>\n",
              "    <tr>\n",
              "      <th>2762</th>\n",
              "      <td>Zlin Z-626</td>\n",
              "      <td>tbd</td>\n",
              "      <td>tbd</td>\n",
              "    </tr>\n",
              "    <tr>\n",
              "      <th>2763</th>\n",
              "      <td>Zlin Z-726 Universal</td>\n",
              "      <td>AC50</td>\n",
              "      <td>tbd</td>\n",
              "    </tr>\n",
              "  </tbody>\n",
              "</table>\n",
              "<p>2655 rows × 3 columns</p>\n",
              "</div>"
            ],
            "text/plain": [
              "                      A320-100 ICAO Code Wake Category\n",
              "0                   Acro Sport      ACRO             L\n",
              "1                Acro Sport II      ACR2             L\n",
              "2                       Cougar      COUG             L\n",
              "3                   Junior Ace      JACE             L\n",
              "4                    Super Ace      SACE             L\n",
              "...                        ...       ...           ...\n",
              "2759                 Zlin Z-50      BA11             M\n",
              "2760        Zlin Z-526 Akrobat       tbd           tbd\n",
              "2761  Zlin Z-526 Trener Master       tbd           tbd\n",
              "2762                Zlin Z-626       tbd           tbd\n",
              "2763      Zlin Z-726 Universal      AC50           tbd\n",
              "\n",
              "[2655 rows x 3 columns]"
            ]
          },
          "metadata": {
            "tags": []
          },
          "execution_count": 185
        }
      ]
    },
    {
      "cell_type": "code",
      "metadata": {
        "id": "L5DwdEhnTZcK"
      },
      "source": [
        "#df = pd.merge(df, ac_df, left_on = 'Aircraft Model', right_on = 'A320-100', how = 'left')"
      ],
      "execution_count": 186,
      "outputs": []
    },
    {
      "cell_type": "code",
      "metadata": {
        "colab": {
          "base_uri": "https://localhost:8080/"
        },
        "id": "A7CNY-1xTZcL",
        "outputId": "f5c8e350-1ef8-4dcb-f69d-cb4f6c22c482"
      },
      "source": [
        "df['Aircraft Model'].unique()"
      ],
      "execution_count": 187,
      "outputs": [
        {
          "output_type": "execute_result",
          "data": {
            "text/plain": [
              "array(['B737-800 WINGLETS', 'A320-100/200', 'A319', 'A321-100/200',\n",
              "       'B737-400', 'A330-300', 'B787-800 Dreamliner', 'B757-200 WINGLETS',\n",
              "       'A330-200', 'B747-400 Passenger', 'B777-300ER', 'B777-200',\n",
              "       'B737-900ER', 'ERJ-195', 'DASH 8-Q400', 'A380-800',\n",
              "       'L-100 HERCULES(C130) Freighter', 'A318', 'ATR 72-500', 'EMB-135',\n",
              "       'B777-200LR', 'B737-700 WINGLETS', 'EMBRAER E75', 'B737-300',\n",
              "       '100', 'B737-300 Freighter', 'B 95 TRAVEL AIR',\n",
              "       'BD700 1A11 GLOBAL EXPRESS', 'B777-200ER', 'LEARJET 60',\n",
              "       'P.180 AVANTI', 'A340-200', 'RJ100/115', 'EMB-170', 'ERJ-190',\n",
              "       'EMB-500 PHENOM 100', 'CITATION 1 (C500)', 'Jet', 'A310-300',\n",
              "       'B757-200 Passenger', 'FALCON 7X', 'G V', 'B737-500',\n",
              "       'SA 365 DAUPHIN 2', 'PREMIER 1', 'C 550 CITATION II / BRAVO',\n",
              "       'A109', 'C 180 SKYWAGON', 'C 510 MUSTANG',\n",
              "       'BD700 1A10 GLOBAL EXPRESS', 'LEARJET 45', 'G IV / IV-SP',\n",
              "       'EMB-145', 'B737-700', 'CHALLENGER 300', ' ', 'A340-600', '340',\n",
              "       'CITATIONJET (C 525)', '146-100', 'Helicopter', 'Twin Prop',\n",
              "       'B757-300', '146-200', 'G II', 'PA-30 / PA-39 TWIN COMANCHE',\n",
              "       'CITATION 560 XL', 'F 50', 'C 560 CITATION V Ultra', 'AW139',\n",
              "       'FALCON 2000', 'CITATION 680 SOVEREIGN', 'A340-300', 'MD-82',\n",
              "       'C 650 CITATION III/VI/VII', 'PC-12', 'REGIONAL JET 100/200',\n",
              "       'JETSTREAM 41', 'B787-900', 'CL 600/601/604 CHALLENGER', '328',\n",
              "       'B737-600', 'AEROSPATIALE AS355 ECUREUIL 2 (TWIN SQ.)',\n",
              "       'G200 (IAI GALAXY)', 'ATR 42-500', 'B767-300ER',\n",
              "       'REGIONAL JET 900', 'HS 125', '2000', 'B777-200 Freighter',\n",
              "       'SA-227 METRO 23', 'B767-200', 'MD-83', 'B737-800', 'B767-300',\n",
              "       'RJ85', 'CITATION X (C750)', 'A340-500', 'TBM 700',\n",
              "       '200 SUPER KINGAIR', '328JET', 'FALCON 900 & 900EX',\n",
              "       'REGIONAL JET', 'BAE125-1000/RAYTHEON 1000', 'HAWKER 850XP/950XP',\n",
              "       'S-76', 'BEECHJET 400', 'LEARJET 55 LONGHORN', '214 ST',\n",
              "       'REGIONAL JET 700', 'EC 120', 'A350-900', 'BN-2A ISLANDER',\n",
              "       'C-17 GLOBEMASTER III', 'F406', 'C 310', 'LEARJET 35A/36A',\n",
              "       'METRO 23', 'PA-24 COMANCHE', '407', 'SUPERJET100-95B', 'A321-200',\n",
              "       'CITATION V', 'BOMBARDIER CS300', 'PROP', 'A400M', 'EC 135T',\n",
              "       'MERLIN IV A', 'DIAMOND DA 42', 'Hawker 4000', 'IL-76 Freighter',\n",
              "       'BD500 1A10', 'B737-8 MAX', 'SA-227 METRO III', 'AN-124 Ruslan',\n",
              "       'A320 NEO', 'C 401/402/411/421', 'CL-44', 'IL-96-300', 'G III',\n",
              "       'DASH 8 - 300', 'EC 155B', 'A321-251NX'], dtype=object)"
            ]
          },
          "metadata": {
            "tags": []
          },
          "execution_count": 187
        }
      ]
    },
    {
      "cell_type": "code",
      "metadata": {
        "colab": {
          "base_uri": "https://localhost:8080/"
        },
        "id": "HKaAgWP8TZcL",
        "outputId": "263fdcae-e44a-4519-d1e4-c85f74588d24"
      },
      "source": [
        "df.isnull().sum()"
      ],
      "execution_count": 188,
      "outputs": [
        {
          "output_type": "execute_result",
          "data": {
            "text/plain": [
              "Aircraft Model         0\n",
              "Stand                  0\n",
              "Runway                 0\n",
              "Taxi_time              0\n",
              "precipIntensity        0\n",
              "precipProbability      0\n",
              "temperature            0\n",
              "apparentTemperature    0\n",
              "dewPoint               0\n",
              "humidity               0\n",
              "pressure               0\n",
              "windSpeed              0\n",
              "windGust               0\n",
              "windBearing            0\n",
              "cloudCover             0\n",
              "uvIndex                0\n",
              "visibility             0\n",
              "precipAccumulation     0\n",
              "ozone                  0\n",
              "Windy                  0\n",
              "Cloudy                 0\n",
              "Rain                   0\n",
              "Snow                   0\n",
              "Fog                    0\n",
              "N                      0\n",
              "Q                      0\n",
              "distance               0\n",
              "dist_log               0\n",
              "AOBT_year              0\n",
              "AOBT_month             0\n",
              "AOBT_day               0\n",
              "AOBT_hour              0\n",
              "AOBT_min               0\n",
              "dtype: int64"
            ]
          },
          "metadata": {
            "tags": []
          },
          "execution_count": 188
        }
      ]
    },
    {
      "cell_type": "markdown",
      "metadata": {
        "id": "op1L8chCnI_L"
      },
      "source": [
        "### Weather Dataset"
      ]
    },
    {
      "cell_type": "code",
      "metadata": {
        "colab": {
          "base_uri": "https://localhost:8080/",
          "height": 311
        },
        "id": "MJJImQurnI_d",
        "outputId": "12e8a1dc-fcd9-48ce-b99f-e7170f73fdc5"
      },
      "source": [
        "weather_test_df.describe()"
      ],
      "execution_count": 74,
      "outputs": [
        {
          "output_type": "execute_result",
          "data": {
            "text/html": [
              "<div>\n",
              "<style scoped>\n",
              "    .dataframe tbody tr th:only-of-type {\n",
              "        vertical-align: middle;\n",
              "    }\n",
              "\n",
              "    .dataframe tbody tr th {\n",
              "        vertical-align: top;\n",
              "    }\n",
              "\n",
              "    .dataframe thead th {\n",
              "        text-align: right;\n",
              "    }\n",
              "</style>\n",
              "<table border=\"1\" class=\"dataframe\">\n",
              "  <thead>\n",
              "    <tr style=\"text-align: right;\">\n",
              "      <th></th>\n",
              "      <th>precipProbability</th>\n",
              "      <th>temperature</th>\n",
              "      <th>apparentTemperature</th>\n",
              "      <th>dewPoint</th>\n",
              "      <th>humidity</th>\n",
              "      <th>pressure</th>\n",
              "      <th>windSpeed</th>\n",
              "      <th>windGust</th>\n",
              "      <th>windBearing</th>\n",
              "      <th>cloudCover</th>\n",
              "      <th>uvIndex</th>\n",
              "      <th>visibility</th>\n",
              "      <th>precipAccumulation</th>\n",
              "      <th>ozone</th>\n",
              "    </tr>\n",
              "  </thead>\n",
              "  <tbody>\n",
              "    <tr>\n",
              "      <th>count</th>\n",
              "      <td>132234.000000</td>\n",
              "      <td>135090.000000</td>\n",
              "      <td>135090.000000</td>\n",
              "      <td>135090.000000</td>\n",
              "      <td>135090.000000</td>\n",
              "      <td>132234.000000</td>\n",
              "      <td>135072.00000</td>\n",
              "      <td>132480.000000</td>\n",
              "      <td>135060.000000</td>\n",
              "      <td>134964.000000</td>\n",
              "      <td>134982.000000</td>\n",
              "      <td>135072.000000</td>\n",
              "      <td>135090.000000</td>\n",
              "      <td>135090.000000</td>\n",
              "    </tr>\n",
              "    <tr>\n",
              "      <th>mean</th>\n",
              "      <td>0.104545</td>\n",
              "      <td>53.871694</td>\n",
              "      <td>52.198201</td>\n",
              "      <td>47.030591</td>\n",
              "      <td>0.797294</td>\n",
              "      <td>1014.518521</td>\n",
              "      <td>9.47534</td>\n",
              "      <td>17.109090</td>\n",
              "      <td>195.411276</td>\n",
              "      <td>0.578384</td>\n",
              "      <td>1.236283</td>\n",
              "      <td>7.502852</td>\n",
              "      <td>0.000015</td>\n",
              "      <td>328.951492</td>\n",
              "    </tr>\n",
              "    <tr>\n",
              "      <th>std</th>\n",
              "      <td>0.185249</td>\n",
              "      <td>10.770997</td>\n",
              "      <td>12.666926</td>\n",
              "      <td>8.631649</td>\n",
              "      <td>0.161783</td>\n",
              "      <td>11.328873</td>\n",
              "      <td>5.08670</td>\n",
              "      <td>9.537596</td>\n",
              "      <td>91.278894</td>\n",
              "      <td>0.317666</td>\n",
              "      <td>1.661616</td>\n",
              "      <td>1.747038</td>\n",
              "      <td>0.000753</td>\n",
              "      <td>43.671716</td>\n",
              "    </tr>\n",
              "    <tr>\n",
              "      <th>min</th>\n",
              "      <td>0.000000</td>\n",
              "      <td>20.350000</td>\n",
              "      <td>14.650000</td>\n",
              "      <td>20.230000</td>\n",
              "      <td>0.270000</td>\n",
              "      <td>972.300000</td>\n",
              "      <td>0.00000</td>\n",
              "      <td>1.090000</td>\n",
              "      <td>0.000000</td>\n",
              "      <td>0.000000</td>\n",
              "      <td>0.000000</td>\n",
              "      <td>0.074000</td>\n",
              "      <td>0.000000</td>\n",
              "      <td>212.500000</td>\n",
              "    </tr>\n",
              "    <tr>\n",
              "      <th>25%</th>\n",
              "      <td>0.000000</td>\n",
              "      <td>46.320000</td>\n",
              "      <td>41.890000</td>\n",
              "      <td>40.930000</td>\n",
              "      <td>0.680000</td>\n",
              "      <td>1007.300000</td>\n",
              "      <td>5.74000</td>\n",
              "      <td>9.140000</td>\n",
              "      <td>130.000000</td>\n",
              "      <td>0.310000</td>\n",
              "      <td>0.000000</td>\n",
              "      <td>7.119000</td>\n",
              "      <td>0.000000</td>\n",
              "      <td>300.300000</td>\n",
              "    </tr>\n",
              "    <tr>\n",
              "      <th>50%</th>\n",
              "      <td>0.010000</td>\n",
              "      <td>53.240000</td>\n",
              "      <td>53.240000</td>\n",
              "      <td>46.930000</td>\n",
              "      <td>0.830000</td>\n",
              "      <td>1015.100000</td>\n",
              "      <td>8.48000</td>\n",
              "      <td>15.950000</td>\n",
              "      <td>216.000000</td>\n",
              "      <td>0.650000</td>\n",
              "      <td>0.000000</td>\n",
              "      <td>7.438000</td>\n",
              "      <td>0.000000</td>\n",
              "      <td>327.800000</td>\n",
              "    </tr>\n",
              "    <tr>\n",
              "      <th>75%</th>\n",
              "      <td>0.110000</td>\n",
              "      <td>61.130000</td>\n",
              "      <td>61.290000</td>\n",
              "      <td>53.730000</td>\n",
              "      <td>0.930000</td>\n",
              "      <td>1022.400000</td>\n",
              "      <td>12.47000</td>\n",
              "      <td>23.670000</td>\n",
              "      <td>252.000000</td>\n",
              "      <td>0.790000</td>\n",
              "      <td>2.000000</td>\n",
              "      <td>7.516000</td>\n",
              "      <td>0.000000</td>\n",
              "      <td>354.900000</td>\n",
              "    </tr>\n",
              "    <tr>\n",
              "      <th>max</th>\n",
              "      <td>0.880000</td>\n",
              "      <td>93.510000</td>\n",
              "      <td>96.700000</td>\n",
              "      <td>69.450000</td>\n",
              "      <td>1.000000</td>\n",
              "      <td>1040.800000</td>\n",
              "      <td>33.12000</td>\n",
              "      <td>51.310000</td>\n",
              "      <td>359.000000</td>\n",
              "      <td>1.000000</td>\n",
              "      <td>8.000000</td>\n",
              "      <td>10.000000</td>\n",
              "      <td>0.137400</td>\n",
              "      <td>480.000000</td>\n",
              "    </tr>\n",
              "  </tbody>\n",
              "</table>\n",
              "</div>"
            ],
            "text/plain": [
              "       precipProbability    temperature  ...  precipAccumulation          ozone\n",
              "count      132234.000000  135090.000000  ...       135090.000000  135090.000000\n",
              "mean            0.104545      53.871694  ...            0.000015     328.951492\n",
              "std             0.185249      10.770997  ...            0.000753      43.671716\n",
              "min             0.000000      20.350000  ...            0.000000     212.500000\n",
              "25%             0.000000      46.320000  ...            0.000000     300.300000\n",
              "50%             0.010000      53.240000  ...            0.000000     327.800000\n",
              "75%             0.110000      61.130000  ...            0.000000     354.900000\n",
              "max             0.880000      93.510000  ...            0.137400     480.000000\n",
              "\n",
              "[8 rows x 14 columns]"
            ]
          },
          "metadata": {
            "tags": []
          },
          "execution_count": 74
        }
      ]
    },
    {
      "cell_type": "code",
      "metadata": {
        "colab": {
          "base_uri": "https://localhost:8080/"
        },
        "id": "uhy7A3LWnI_f",
        "outputId": "bf48943b-2521-449a-e958-a2d82425a5ae"
      },
      "source": [
        "weather_test_df.duplicated().sum()"
      ],
      "execution_count": 73,
      "outputs": [
        {
          "output_type": "execute_result",
          "data": {
            "text/plain": [
              "128317"
            ]
          },
          "metadata": {
            "tags": []
          },
          "execution_count": 73
        }
      ]
    },
    {
      "cell_type": "code",
      "metadata": {
        "id": "I75BIIVnntQX"
      },
      "source": [
        "weather_test_df = weather_test_df.drop_duplicates(keep = 'first')\r\n",
        "weather_test_df = weather_test_df.drop(columns = ['summary', 'icon', 'precipIntensity', 'precipProbability', 'pressure'])\r\n",
        "weather_test_df = weather_test_df.fillna(method = 'ffill')\r\n",
        "weather_test_df = weather_test_df.fillna({\"windGust\": weather_test_df['windGust'].mean()})"
      ],
      "execution_count": 75,
      "outputs": []
    },
    {
      "cell_type": "code",
      "metadata": {
        "colab": {
          "base_uri": "https://localhost:8080/"
        },
        "id": "6bZ5Zkv4nT4F",
        "outputId": "b1a002b2-dd23-4217-f970-2c4d7acc83ce"
      },
      "source": [
        "weather_test_df.isnull().sum()"
      ],
      "execution_count": 81,
      "outputs": [
        {
          "output_type": "execute_result",
          "data": {
            "text/plain": [
              "time_hourly            0\n",
              "temperature            0\n",
              "apparentTemperature    0\n",
              "dewPoint               0\n",
              "humidity               0\n",
              "windSpeed              0\n",
              "windGust               0\n",
              "windBearing            0\n",
              "cloudCover             0\n",
              "uvIndex                0\n",
              "visibility             0\n",
              "precipType             0\n",
              "precipAccumulation     0\n",
              "ozone                  0\n",
              "dtype: int64"
            ]
          },
          "metadata": {
            "tags": []
          },
          "execution_count": 81
        }
      ]
    },
    {
      "cell_type": "code",
      "metadata": {
        "colab": {
          "base_uri": "https://localhost:8080/",
          "height": 601
        },
        "id": "aDKOsGoIo-Wd",
        "outputId": "b6ffbb16-e09e-465c-dc68-aed388703808"
      },
      "source": [
        "weather_test_df"
      ],
      "execution_count": 84,
      "outputs": [
        {
          "output_type": "execute_result",
          "data": {
            "text/html": [
              "<div>\n",
              "<style scoped>\n",
              "    .dataframe tbody tr th:only-of-type {\n",
              "        vertical-align: middle;\n",
              "    }\n",
              "\n",
              "    .dataframe tbody tr th {\n",
              "        vertical-align: top;\n",
              "    }\n",
              "\n",
              "    .dataframe thead th {\n",
              "        text-align: right;\n",
              "    }\n",
              "</style>\n",
              "<table border=\"1\" class=\"dataframe\">\n",
              "  <thead>\n",
              "    <tr style=\"text-align: right;\">\n",
              "      <th></th>\n",
              "      <th>time_hourly</th>\n",
              "      <th>temperature</th>\n",
              "      <th>apparentTemperature</th>\n",
              "      <th>dewPoint</th>\n",
              "      <th>humidity</th>\n",
              "      <th>windSpeed</th>\n",
              "      <th>windGust</th>\n",
              "      <th>windBearing</th>\n",
              "      <th>cloudCover</th>\n",
              "      <th>uvIndex</th>\n",
              "      <th>visibility</th>\n",
              "      <th>precipType</th>\n",
              "      <th>precipAccumulation</th>\n",
              "      <th>ozone</th>\n",
              "    </tr>\n",
              "  </thead>\n",
              "  <tbody>\n",
              "    <tr>\n",
              "      <th>0</th>\n",
              "      <td>1/1/2019 0:00</td>\n",
              "      <td>47.73</td>\n",
              "      <td>44.04</td>\n",
              "      <td>41.00</td>\n",
              "      <td>0.77</td>\n",
              "      <td>7.91</td>\n",
              "      <td>17.220851</td>\n",
              "      <td>287.0</td>\n",
              "      <td>1.00</td>\n",
              "      <td>0.0</td>\n",
              "      <td>6.216</td>\n",
              "      <td>None</td>\n",
              "      <td>0.0</td>\n",
              "      <td>310.4</td>\n",
              "    </tr>\n",
              "    <tr>\n",
              "      <th>1</th>\n",
              "      <td>1/1/2019 6:00</td>\n",
              "      <td>46.46</td>\n",
              "      <td>42.44</td>\n",
              "      <td>41.00</td>\n",
              "      <td>0.81</td>\n",
              "      <td>8.05</td>\n",
              "      <td>17.220851</td>\n",
              "      <td>285.0</td>\n",
              "      <td>0.75</td>\n",
              "      <td>0.0</td>\n",
              "      <td>6.216</td>\n",
              "      <td>None</td>\n",
              "      <td>0.0</td>\n",
              "      <td>310.4</td>\n",
              "    </tr>\n",
              "    <tr>\n",
              "      <th>8</th>\n",
              "      <td>1/1/2019 7:00</td>\n",
              "      <td>46.46</td>\n",
              "      <td>43.56</td>\n",
              "      <td>39.22</td>\n",
              "      <td>0.76</td>\n",
              "      <td>5.82</td>\n",
              "      <td>17.220851</td>\n",
              "      <td>262.0</td>\n",
              "      <td>0.75</td>\n",
              "      <td>0.0</td>\n",
              "      <td>6.216</td>\n",
              "      <td>None</td>\n",
              "      <td>0.0</td>\n",
              "      <td>310.4</td>\n",
              "    </tr>\n",
              "    <tr>\n",
              "      <th>11</th>\n",
              "      <td>1/1/2019 7:00</td>\n",
              "      <td>46.46</td>\n",
              "      <td>43.56</td>\n",
              "      <td>39.22</td>\n",
              "      <td>0.76</td>\n",
              "      <td>5.82</td>\n",
              "      <td>17.220851</td>\n",
              "      <td>262.0</td>\n",
              "      <td>0.75</td>\n",
              "      <td>0.0</td>\n",
              "      <td>6.216</td>\n",
              "      <td>None</td>\n",
              "      <td>0.0</td>\n",
              "      <td>310.4</td>\n",
              "    </tr>\n",
              "    <tr>\n",
              "      <th>35</th>\n",
              "      <td>1/1/2019 8:00</td>\n",
              "      <td>44.30</td>\n",
              "      <td>40.28</td>\n",
              "      <td>40.20</td>\n",
              "      <td>0.85</td>\n",
              "      <td>7.08</td>\n",
              "      <td>17.220851</td>\n",
              "      <td>270.0</td>\n",
              "      <td>0.44</td>\n",
              "      <td>0.0</td>\n",
              "      <td>6.216</td>\n",
              "      <td>None</td>\n",
              "      <td>0.0</td>\n",
              "      <td>310.4</td>\n",
              "    </tr>\n",
              "    <tr>\n",
              "      <th>...</th>\n",
              "      <td>...</td>\n",
              "      <td>...</td>\n",
              "      <td>...</td>\n",
              "      <td>...</td>\n",
              "      <td>...</td>\n",
              "      <td>...</td>\n",
              "      <td>...</td>\n",
              "      <td>...</td>\n",
              "      <td>...</td>\n",
              "      <td>...</td>\n",
              "      <td>...</td>\n",
              "      <td>...</td>\n",
              "      <td>...</td>\n",
              "      <td>...</td>\n",
              "    </tr>\n",
              "    <tr>\n",
              "      <th>135056</th>\n",
              "      <td>12/31/2019 19:00</td>\n",
              "      <td>44.49</td>\n",
              "      <td>38.74</td>\n",
              "      <td>41.55</td>\n",
              "      <td>0.89</td>\n",
              "      <td>11.24</td>\n",
              "      <td>18.590000</td>\n",
              "      <td>91.0</td>\n",
              "      <td>0.75</td>\n",
              "      <td>0.0</td>\n",
              "      <td>6.933</td>\n",
              "      <td>None</td>\n",
              "      <td>0.0</td>\n",
              "      <td>316.3</td>\n",
              "    </tr>\n",
              "    <tr>\n",
              "      <th>135066</th>\n",
              "      <td>12/31/2019 20:00</td>\n",
              "      <td>44.39</td>\n",
              "      <td>39.13</td>\n",
              "      <td>42.47</td>\n",
              "      <td>0.93</td>\n",
              "      <td>9.89</td>\n",
              "      <td>19.320000</td>\n",
              "      <td>92.0</td>\n",
              "      <td>0.51</td>\n",
              "      <td>0.0</td>\n",
              "      <td>7.456</td>\n",
              "      <td>None</td>\n",
              "      <td>0.0</td>\n",
              "      <td>315.5</td>\n",
              "    </tr>\n",
              "    <tr>\n",
              "      <th>135081</th>\n",
              "      <td>12/31/2019 21:00</td>\n",
              "      <td>44.17</td>\n",
              "      <td>39.56</td>\n",
              "      <td>39.23</td>\n",
              "      <td>0.83</td>\n",
              "      <td>8.25</td>\n",
              "      <td>20.270000</td>\n",
              "      <td>102.0</td>\n",
              "      <td>0.26</td>\n",
              "      <td>0.0</td>\n",
              "      <td>6.391</td>\n",
              "      <td>None</td>\n",
              "      <td>0.0</td>\n",
              "      <td>313.3</td>\n",
              "    </tr>\n",
              "    <tr>\n",
              "      <th>135086</th>\n",
              "      <td>12/31/2019 22:00</td>\n",
              "      <td>42.40</td>\n",
              "      <td>37.00</td>\n",
              "      <td>40.55</td>\n",
              "      <td>0.93</td>\n",
              "      <td>9.11</td>\n",
              "      <td>19.940000</td>\n",
              "      <td>93.0</td>\n",
              "      <td>0.08</td>\n",
              "      <td>0.0</td>\n",
              "      <td>10.000</td>\n",
              "      <td>None</td>\n",
              "      <td>0.0</td>\n",
              "      <td>311.6</td>\n",
              "    </tr>\n",
              "    <tr>\n",
              "      <th>135089</th>\n",
              "      <td>12/31/2019 23:00</td>\n",
              "      <td>39.11</td>\n",
              "      <td>33.69</td>\n",
              "      <td>38.90</td>\n",
              "      <td>0.99</td>\n",
              "      <td>7.67</td>\n",
              "      <td>17.220000</td>\n",
              "      <td>114.0</td>\n",
              "      <td>0.37</td>\n",
              "      <td>0.0</td>\n",
              "      <td>10.000</td>\n",
              "      <td>None</td>\n",
              "      <td>0.0</td>\n",
              "      <td>311.7</td>\n",
              "    </tr>\n",
              "  </tbody>\n",
              "</table>\n",
              "<p>6773 rows × 14 columns</p>\n",
              "</div>"
            ],
            "text/plain": [
              "             time_hourly  temperature  ...  precipAccumulation  ozone\n",
              "0          1/1/2019 0:00        47.73  ...                 0.0  310.4\n",
              "1          1/1/2019 6:00        46.46  ...                 0.0  310.4\n",
              "8          1/1/2019 7:00        46.46  ...                 0.0  310.4\n",
              "11         1/1/2019 7:00        46.46  ...                 0.0  310.4\n",
              "35         1/1/2019 8:00        44.30  ...                 0.0  310.4\n",
              "...                  ...          ...  ...                 ...    ...\n",
              "135056  12/31/2019 19:00        44.49  ...                 0.0  316.3\n",
              "135066  12/31/2019 20:00        44.39  ...                 0.0  315.5\n",
              "135081  12/31/2019 21:00        44.17  ...                 0.0  313.3\n",
              "135086  12/31/2019 22:00        42.40  ...                 0.0  311.6\n",
              "135089  12/31/2019 23:00        39.11  ...                 0.0  311.7\n",
              "\n",
              "[6773 rows x 14 columns]"
            ]
          },
          "metadata": {
            "tags": []
          },
          "execution_count": 84
        }
      ]
    },
    {
      "cell_type": "code",
      "metadata": {
        "id": "pdwKTQwnnI_g"
      },
      "source": [
        "#Create new column rounding flight datetime to nearest hour for mapping\r\n",
        "def hour_rounder(t):\r\n",
        "    # Rounds to nearest hour by adding a timedelta hour if minute >= 30\r\n",
        "    return (t.replace(second=0, microsecond=0, minute=0, hour=t.hour)\r\n",
        "               +timedelta(hours=t.minute//30))\r\n",
        "\r\n",
        "test_df[\"Flight_Datetime_map\"] = test_df[\"Flight Datetime\"].map(lambda d: hour_rounder(d))\r\n",
        "\r\n",
        "weather_test_df['time_hourly'] = pd.to_datetime(weather_test_df['time_hourly'])\r\n",
        "#Left join train data with weather data on \"Flight_Datetime_map\" & \"time_hourly\"\r\n",
        "test_df = pd.merge(test_df, weather_test_df, left_on=\"Flight_Datetime_map\", right_on= \"time_hourly\", how='left')\r\n",
        "test_df = test_df.drop(columns = 'time_hourly')"
      ],
      "execution_count": 85,
      "outputs": []
    },
    {
      "cell_type": "code",
      "metadata": {
        "colab": {
          "base_uri": "https://localhost:8080/",
          "height": 789
        },
        "id": "vam54jOleP0T",
        "outputId": "6a73bc61-5fde-465f-c15b-d4dc8f415d0b"
      },
      "source": [
        "test_df"
      ],
      "execution_count": 86,
      "outputs": [
        {
          "output_type": "execute_result",
          "data": {
            "text/html": [
              "<div>\n",
              "<style scoped>\n",
              "    .dataframe tbody tr th:only-of-type {\n",
              "        vertical-align: middle;\n",
              "    }\n",
              "\n",
              "    .dataframe tbody tr th {\n",
              "        vertical-align: top;\n",
              "    }\n",
              "\n",
              "    .dataframe thead th {\n",
              "        text-align: right;\n",
              "    }\n",
              "</style>\n",
              "<table border=\"1\" class=\"dataframe\">\n",
              "  <thead>\n",
              "    <tr style=\"text-align: right;\">\n",
              "      <th></th>\n",
              "      <th>Flight Datetime</th>\n",
              "      <th>Aircraft Model</th>\n",
              "      <th>AOBT</th>\n",
              "      <th>ATOT</th>\n",
              "      <th>Stand</th>\n",
              "      <th>Runway</th>\n",
              "      <th>Lat_stand</th>\n",
              "      <th>Lng_stand</th>\n",
              "      <th>Lat_runway</th>\n",
              "      <th>Lng_runway</th>\n",
              "      <th>Taxi_time</th>\n",
              "      <th>Flight_Datetime_map</th>\n",
              "      <th>temperature</th>\n",
              "      <th>apparentTemperature</th>\n",
              "      <th>dewPoint</th>\n",
              "      <th>humidity</th>\n",
              "      <th>windSpeed</th>\n",
              "      <th>windGust</th>\n",
              "      <th>windBearing</th>\n",
              "      <th>cloudCover</th>\n",
              "      <th>uvIndex</th>\n",
              "      <th>visibility</th>\n",
              "      <th>precipType</th>\n",
              "      <th>precipAccumulation</th>\n",
              "      <th>ozone</th>\n",
              "    </tr>\n",
              "  </thead>\n",
              "  <tbody>\n",
              "    <tr>\n",
              "      <th>0</th>\n",
              "      <td>2019-01-01 06:00:00</td>\n",
              "      <td>B737-800 WINGLETS</td>\n",
              "      <td>2019-01-01 05:56:00</td>\n",
              "      <td>2019-01-01 06:03:00</td>\n",
              "      <td>STAND_163</td>\n",
              "      <td>RUNWAY_2</td>\n",
              "      <td>54.7652</td>\n",
              "      <td>0.00384885</td>\n",
              "      <td>54.7571</td>\n",
              "      <td>-0.0241067</td>\n",
              "      <td>420.0</td>\n",
              "      <td>2019-01-01 06:00:00</td>\n",
              "      <td>46.46</td>\n",
              "      <td>42.44</td>\n",
              "      <td>41.00</td>\n",
              "      <td>0.81</td>\n",
              "      <td>8.05</td>\n",
              "      <td>17.220851</td>\n",
              "      <td>285.0</td>\n",
              "      <td>0.75</td>\n",
              "      <td>0.0</td>\n",
              "      <td>6.216</td>\n",
              "      <td>None</td>\n",
              "      <td>0.0</td>\n",
              "      <td>310.4</td>\n",
              "    </tr>\n",
              "    <tr>\n",
              "      <th>1</th>\n",
              "      <td>2019-01-01 06:05:00</td>\n",
              "      <td>A319</td>\n",
              "      <td>2019-01-01 05:58:00</td>\n",
              "      <td>2019-01-01 06:06:00</td>\n",
              "      <td>STAND_29</td>\n",
              "      <td>RUNWAY_2</td>\n",
              "      <td>54.7731</td>\n",
              "      <td>0.00648597</td>\n",
              "      <td>54.7571</td>\n",
              "      <td>-0.0241067</td>\n",
              "      <td>480.0</td>\n",
              "      <td>2019-01-01 06:00:00</td>\n",
              "      <td>46.46</td>\n",
              "      <td>42.44</td>\n",
              "      <td>41.00</td>\n",
              "      <td>0.81</td>\n",
              "      <td>8.05</td>\n",
              "      <td>17.220851</td>\n",
              "      <td>285.0</td>\n",
              "      <td>0.75</td>\n",
              "      <td>0.0</td>\n",
              "      <td>6.216</td>\n",
              "      <td>None</td>\n",
              "      <td>0.0</td>\n",
              "      <td>310.4</td>\n",
              "    </tr>\n",
              "    <tr>\n",
              "      <th>2</th>\n",
              "      <td>2019-01-01 06:10:00</td>\n",
              "      <td>A320-100/200</td>\n",
              "      <td>2019-01-01 06:06:00</td>\n",
              "      <td>2019-01-01 06:19:00</td>\n",
              "      <td>STAND_82</td>\n",
              "      <td>RUNWAY_2</td>\n",
              "      <td>54.7623</td>\n",
              "      <td>-0.00032</td>\n",
              "      <td>54.7571</td>\n",
              "      <td>-0.0241067</td>\n",
              "      <td>780.0</td>\n",
              "      <td>2019-01-01 06:00:00</td>\n",
              "      <td>46.46</td>\n",
              "      <td>42.44</td>\n",
              "      <td>41.00</td>\n",
              "      <td>0.81</td>\n",
              "      <td>8.05</td>\n",
              "      <td>17.220851</td>\n",
              "      <td>285.0</td>\n",
              "      <td>0.75</td>\n",
              "      <td>0.0</td>\n",
              "      <td>6.216</td>\n",
              "      <td>None</td>\n",
              "      <td>0.0</td>\n",
              "      <td>310.4</td>\n",
              "    </tr>\n",
              "    <tr>\n",
              "      <th>3</th>\n",
              "      <td>2019-01-01 06:10:00</td>\n",
              "      <td>B787-900</td>\n",
              "      <td>2019-01-01 06:05:00</td>\n",
              "      <td>2019-01-01 06:21:00</td>\n",
              "      <td>STAND_159</td>\n",
              "      <td>RUNWAY_2</td>\n",
              "      <td>54.7698</td>\n",
              "      <td>0.00756736</td>\n",
              "      <td>54.7571</td>\n",
              "      <td>-0.0241067</td>\n",
              "      <td>960.0</td>\n",
              "      <td>2019-01-01 06:00:00</td>\n",
              "      <td>46.46</td>\n",
              "      <td>42.44</td>\n",
              "      <td>41.00</td>\n",
              "      <td>0.81</td>\n",
              "      <td>8.05</td>\n",
              "      <td>17.220851</td>\n",
              "      <td>285.0</td>\n",
              "      <td>0.75</td>\n",
              "      <td>0.0</td>\n",
              "      <td>6.216</td>\n",
              "      <td>None</td>\n",
              "      <td>0.0</td>\n",
              "      <td>310.4</td>\n",
              "    </tr>\n",
              "    <tr>\n",
              "      <th>4</th>\n",
              "      <td>2019-01-01 06:20:00</td>\n",
              "      <td>A320-100/200</td>\n",
              "      <td>2019-01-01 06:12:00</td>\n",
              "      <td>2019-01-01 06:24:00</td>\n",
              "      <td>STAND_94</td>\n",
              "      <td>RUNWAY_2</td>\n",
              "      <td>54.769</td>\n",
              "      <td>0.010717</td>\n",
              "      <td>54.7571</td>\n",
              "      <td>-0.0241067</td>\n",
              "      <td>720.0</td>\n",
              "      <td>2019-01-01 06:00:00</td>\n",
              "      <td>46.46</td>\n",
              "      <td>42.44</td>\n",
              "      <td>41.00</td>\n",
              "      <td>0.81</td>\n",
              "      <td>8.05</td>\n",
              "      <td>17.220851</td>\n",
              "      <td>285.0</td>\n",
              "      <td>0.75</td>\n",
              "      <td>0.0</td>\n",
              "      <td>6.216</td>\n",
              "      <td>None</td>\n",
              "      <td>0.0</td>\n",
              "      <td>310.4</td>\n",
              "    </tr>\n",
              "    <tr>\n",
              "      <th>...</th>\n",
              "      <td>...</td>\n",
              "      <td>...</td>\n",
              "      <td>...</td>\n",
              "      <td>...</td>\n",
              "      <td>...</td>\n",
              "      <td>...</td>\n",
              "      <td>...</td>\n",
              "      <td>...</td>\n",
              "      <td>...</td>\n",
              "      <td>...</td>\n",
              "      <td>...</td>\n",
              "      <td>...</td>\n",
              "      <td>...</td>\n",
              "      <td>...</td>\n",
              "      <td>...</td>\n",
              "      <td>...</td>\n",
              "      <td>...</td>\n",
              "      <td>...</td>\n",
              "      <td>...</td>\n",
              "      <td>...</td>\n",
              "      <td>...</td>\n",
              "      <td>...</td>\n",
              "      <td>...</td>\n",
              "      <td>...</td>\n",
              "      <td>...</td>\n",
              "    </tr>\n",
              "    <tr>\n",
              "      <th>135134</th>\n",
              "      <td>2019-12-31 21:25:00</td>\n",
              "      <td>A320-100/200</td>\n",
              "      <td>2019-12-31 21:04:00</td>\n",
              "      <td>2019-12-31 21:17:00</td>\n",
              "      <td>STAND_154</td>\n",
              "      <td>RUNWAY_3</td>\n",
              "      <td>54.7631</td>\n",
              "      <td>-0.00880299</td>\n",
              "      <td>54.7612</td>\n",
              "      <td>0.01984</td>\n",
              "      <td>780.0</td>\n",
              "      <td>2019-12-31 21:00:00</td>\n",
              "      <td>44.17</td>\n",
              "      <td>39.56</td>\n",
              "      <td>39.23</td>\n",
              "      <td>0.83</td>\n",
              "      <td>8.25</td>\n",
              "      <td>20.270000</td>\n",
              "      <td>102.0</td>\n",
              "      <td>0.26</td>\n",
              "      <td>0.0</td>\n",
              "      <td>6.391</td>\n",
              "      <td>None</td>\n",
              "      <td>0.0</td>\n",
              "      <td>313.3</td>\n",
              "    </tr>\n",
              "    <tr>\n",
              "      <th>135135</th>\n",
              "      <td>2019-12-31 21:30:00</td>\n",
              "      <td>B787-900</td>\n",
              "      <td>2019-12-31 21:16:00</td>\n",
              "      <td>2019-12-31 21:34:00</td>\n",
              "      <td>STAND_142</td>\n",
              "      <td>RUNWAY_2</td>\n",
              "      <td>54.7634</td>\n",
              "      <td>0.0113452</td>\n",
              "      <td>54.7571</td>\n",
              "      <td>-0.0241067</td>\n",
              "      <td>1080.0</td>\n",
              "      <td>2019-12-31 22:00:00</td>\n",
              "      <td>42.40</td>\n",
              "      <td>37.00</td>\n",
              "      <td>40.55</td>\n",
              "      <td>0.93</td>\n",
              "      <td>9.11</td>\n",
              "      <td>19.940000</td>\n",
              "      <td>93.0</td>\n",
              "      <td>0.08</td>\n",
              "      <td>0.0</td>\n",
              "      <td>10.000</td>\n",
              "      <td>None</td>\n",
              "      <td>0.0</td>\n",
              "      <td>311.6</td>\n",
              "    </tr>\n",
              "    <tr>\n",
              "      <th>135136</th>\n",
              "      <td>2019-12-31 21:40:00</td>\n",
              "      <td>A320 NEO</td>\n",
              "      <td>2019-12-31 21:38:00</td>\n",
              "      <td>2019-12-31 21:56:00</td>\n",
              "      <td>STAND_145</td>\n",
              "      <td>RUNWAY_1</td>\n",
              "      <td>54.7647</td>\n",
              "      <td>0.00846219</td>\n",
              "      <td>54.7553</td>\n",
              "      <td>-0.02304</td>\n",
              "      <td>1080.0</td>\n",
              "      <td>2019-12-31 22:00:00</td>\n",
              "      <td>42.40</td>\n",
              "      <td>37.00</td>\n",
              "      <td>40.55</td>\n",
              "      <td>0.93</td>\n",
              "      <td>9.11</td>\n",
              "      <td>19.940000</td>\n",
              "      <td>93.0</td>\n",
              "      <td>0.08</td>\n",
              "      <td>0.0</td>\n",
              "      <td>10.000</td>\n",
              "      <td>None</td>\n",
              "      <td>0.0</td>\n",
              "      <td>311.6</td>\n",
              "    </tr>\n",
              "    <tr>\n",
              "      <th>135137</th>\n",
              "      <td>2019-12-31 21:55:00</td>\n",
              "      <td>A321-100/200</td>\n",
              "      <td>2019-12-31 21:47:00</td>\n",
              "      <td>2019-12-31 22:01:00</td>\n",
              "      <td>STAND_164</td>\n",
              "      <td>RUNWAY_3</td>\n",
              "      <td>54.7697</td>\n",
              "      <td>0.00762667</td>\n",
              "      <td>54.7612</td>\n",
              "      <td>0.01984</td>\n",
              "      <td>840.0</td>\n",
              "      <td>2019-12-31 22:00:00</td>\n",
              "      <td>42.40</td>\n",
              "      <td>37.00</td>\n",
              "      <td>40.55</td>\n",
              "      <td>0.93</td>\n",
              "      <td>9.11</td>\n",
              "      <td>19.940000</td>\n",
              "      <td>93.0</td>\n",
              "      <td>0.08</td>\n",
              "      <td>0.0</td>\n",
              "      <td>10.000</td>\n",
              "      <td>None</td>\n",
              "      <td>0.0</td>\n",
              "      <td>311.6</td>\n",
              "    </tr>\n",
              "    <tr>\n",
              "      <th>135138</th>\n",
              "      <td>2019-12-31 23:00:00</td>\n",
              "      <td>ERJ-190</td>\n",
              "      <td>2019-12-31 22:48:00</td>\n",
              "      <td>2019-12-31 23:01:00</td>\n",
              "      <td>STAND_121</td>\n",
              "      <td>RUNWAY_3</td>\n",
              "      <td>54.7707</td>\n",
              "      <td>0.0180207</td>\n",
              "      <td>54.7612</td>\n",
              "      <td>0.01984</td>\n",
              "      <td>780.0</td>\n",
              "      <td>2019-12-31 23:00:00</td>\n",
              "      <td>39.11</td>\n",
              "      <td>33.69</td>\n",
              "      <td>38.90</td>\n",
              "      <td>0.99</td>\n",
              "      <td>7.67</td>\n",
              "      <td>17.220000</td>\n",
              "      <td>114.0</td>\n",
              "      <td>0.37</td>\n",
              "      <td>0.0</td>\n",
              "      <td>10.000</td>\n",
              "      <td>None</td>\n",
              "      <td>0.0</td>\n",
              "      <td>311.7</td>\n",
              "    </tr>\n",
              "  </tbody>\n",
              "</table>\n",
              "<p>135139 rows × 25 columns</p>\n",
              "</div>"
            ],
            "text/plain": [
              "           Flight Datetime     Aircraft Model  ... precipAccumulation  ozone\n",
              "0      2019-01-01 06:00:00  B737-800 WINGLETS  ...                0.0  310.4\n",
              "1      2019-01-01 06:05:00               A319  ...                0.0  310.4\n",
              "2      2019-01-01 06:10:00       A320-100/200  ...                0.0  310.4\n",
              "3      2019-01-01 06:10:00           B787-900  ...                0.0  310.4\n",
              "4      2019-01-01 06:20:00       A320-100/200  ...                0.0  310.4\n",
              "...                    ...                ...  ...                ...    ...\n",
              "135134 2019-12-31 21:25:00       A320-100/200  ...                0.0  313.3\n",
              "135135 2019-12-31 21:30:00           B787-900  ...                0.0  311.6\n",
              "135136 2019-12-31 21:40:00           A320 NEO  ...                0.0  311.6\n",
              "135137 2019-12-31 21:55:00       A321-100/200  ...                0.0  311.6\n",
              "135138 2019-12-31 23:00:00            ERJ-190  ...                0.0  311.7\n",
              "\n",
              "[135139 rows x 25 columns]"
            ]
          },
          "metadata": {
            "tags": []
          },
          "execution_count": 86
        }
      ]
    },
    {
      "cell_type": "markdown",
      "metadata": {
        "id": "_1PV4UuOTZcP"
      },
      "source": [
        "## Preprocessing"
      ]
    },
    {
      "cell_type": "code",
      "metadata": {
        "colab": {
          "base_uri": "https://localhost:8080/"
        },
        "id": "6n7pHaoPTZcP",
        "outputId": "2b77a892-5500-4180-90e8-a1a040a2cc65"
      },
      "source": [
        "test_df.isnull().sum()"
      ],
      "execution_count": 87,
      "outputs": [
        {
          "output_type": "execute_result",
          "data": {
            "text/plain": [
              "Flight Datetime          0\n",
              "Aircraft Model           0\n",
              "AOBT                     0\n",
              "ATOT                     0\n",
              "Stand                    0\n",
              "Runway                   0\n",
              "Lat_stand              734\n",
              "Lng_stand              734\n",
              "Lat_runway               0\n",
              "Lng_runway               0\n",
              "Taxi_time                0\n",
              "Flight_Datetime_map      0\n",
              "temperature             25\n",
              "apparentTemperature     25\n",
              "dewPoint                25\n",
              "humidity                25\n",
              "windSpeed               25\n",
              "windGust                25\n",
              "windBearing             25\n",
              "cloudCover              25\n",
              "uvIndex                 25\n",
              "visibility              25\n",
              "precipType              25\n",
              "precipAccumulation      25\n",
              "ozone                   25\n",
              "dtype: int64"
            ]
          },
          "metadata": {
            "tags": []
          },
          "execution_count": 87
        }
      ]
    },
    {
      "cell_type": "code",
      "metadata": {
        "id": "_UCSTmBbTZcQ"
      },
      "source": [
        "test_df = test_df.fillna(method = 'ffill')"
      ],
      "execution_count": 88,
      "outputs": []
    },
    {
      "cell_type": "code",
      "metadata": {
        "colab": {
          "base_uri": "https://localhost:8080/"
        },
        "id": "YNhEKbffTZcQ",
        "outputId": "c9b478c8-649b-4644-99cb-457d82db0c9f"
      },
      "source": [
        "# filled all NA values\r\n",
        "test_df.isnull().sum()"
      ],
      "execution_count": 89,
      "outputs": [
        {
          "output_type": "execute_result",
          "data": {
            "text/plain": [
              "Flight Datetime        0\n",
              "Aircraft Model         0\n",
              "AOBT                   0\n",
              "ATOT                   0\n",
              "Stand                  0\n",
              "Runway                 0\n",
              "Lat_stand              0\n",
              "Lng_stand              0\n",
              "Lat_runway             0\n",
              "Lng_runway             0\n",
              "Taxi_time              0\n",
              "Flight_Datetime_map    0\n",
              "temperature            0\n",
              "apparentTemperature    0\n",
              "dewPoint               0\n",
              "humidity               0\n",
              "windSpeed              0\n",
              "windGust               0\n",
              "windBearing            0\n",
              "cloudCover             0\n",
              "uvIndex                0\n",
              "visibility             0\n",
              "precipType             0\n",
              "precipAccumulation     0\n",
              "ozone                  0\n",
              "dtype: int64"
            ]
          },
          "metadata": {
            "tags": []
          },
          "execution_count": 89
        }
      ]
    },
    {
      "cell_type": "code",
      "metadata": {
        "colab": {
          "base_uri": "https://localhost:8080/"
        },
        "id": "IT-O5FdnTZcQ",
        "outputId": "6b3e507e-9042-4ad5-fce2-916ed2c69a0d"
      },
      "source": [
        "df.duplicated().sum()"
      ],
      "execution_count": 90,
      "outputs": [
        {
          "output_type": "execute_result",
          "data": {
            "text/plain": [
              "0"
            ]
          },
          "metadata": {
            "tags": []
          },
          "execution_count": 90
        }
      ]
    },
    {
      "cell_type": "markdown",
      "metadata": {
        "id": "mvYx3YyhTZcS"
      },
      "source": [
        "## Feature Engineering"
      ]
    },
    {
      "cell_type": "markdown",
      "metadata": {
        "id": "0PltpEipTZcW"
      },
      "source": [
        "### Calculating Q and N"
      ]
    },
    {
      "cell_type": "code",
      "metadata": {
        "id": "fOSwz5YJTZcX"
      },
      "source": [
        "def overlap_taxi(date,date_1,date_2):\r\n",
        "  if date >= date_1 and date <= date_2:\r\n",
        "    return 1\r\n",
        "  else:\r\n",
        "    return 0"
      ],
      "execution_count": 91,
      "outputs": []
    },
    {
      "cell_type": "code",
      "metadata": {
        "id": "U0vAD1iZTZcX"
      },
      "source": [
        "Q = []\r\n",
        "N = []\r\n",
        "\r\n",
        "AOBT_list = list(test_df['AOBT'])\r\n",
        "ATOT_list = list(test_df['ATOT'])\r\n",
        "\r\n",
        "# number of stands in use =  number of airplanes taxiing\r\n",
        "airplanes_taxi = len(test_df['Stand'].unique())\r\n",
        "\r\n",
        "for index in range(len(test_df)):\r\n",
        "    # AOBT and ATOT of a given index\r\n",
        "    AOBT = AOBT_list[index]\r\n",
        "    ATOT = ATOT_list[index]\r\n",
        "    \r\n",
        "    # min number of iterations for a given index\r\n",
        "    index_min = max(0, index - airplanes_taxi)\r\n",
        "    # max number of iterations for a given index\r\n",
        "    index_max = min(index + airplanes_taxi, len(df))\r\n",
        "    \r\n",
        "    AOBT_range = AOBT_list[index_min : index_max]\r\n",
        "    ATOT_range = ATOT_list[index_min : index_max]\r\n",
        "\r\n",
        "    # check if other airplanes are taxiing when the given airplane taxis\r\n",
        "    N_overlap = map(lambda x, y: overlap_taxi(AOBT, x, y), AOBT_range, ATOT_range)\r\n",
        "    # count the total number of airplanes that are taxiing when the given airplane leaves its stand (including the given airplane)\r\n",
        "    N_count = max(0,sum(list(N_overlap))-1) + 1\r\n",
        "    N.append(N_count)\r\n",
        "\r\n",
        "    # check if other airplanes stop taxiing when the given airplane taxis\r\n",
        "    Q_overlap = map(lambda x: overlap_taxi(x, AOBT, ATOT), ATOT_range)\r\n",
        "    # count the total number of airplanes that stop taxiing\r\n",
        "    Q_count = max(0, sum(list(Q_overlap))-1)\r\n",
        "    Q.append(Q_count)\r\n"
      ],
      "execution_count": 93,
      "outputs": []
    },
    {
      "cell_type": "code",
      "metadata": {
        "id": "-jUKzJcNTZcX"
      },
      "source": [
        "test_df['N'] = N\r\n",
        "test_df['Q'] = Q"
      ],
      "execution_count": 94,
      "outputs": []
    },
    {
      "cell_type": "markdown",
      "metadata": {
        "id": "wwaKzliwTZcX"
      },
      "source": [
        "### Calculating distance and log(distance)"
      ]
    },
    {
      "cell_type": "code",
      "metadata": {
        "id": "S_rn4wwrTZcY"
      },
      "source": [
        "# Calculating the distance between the stand and runway\r\n",
        "def coordinate_dist(lat_1, lng_1, lat_2, lng_2):\r\n",
        "  diff_lat = (lat_1 - lat_2) * np.pi / 180\r\n",
        "  diff_lng = (lng_1 - lng_2) * np.pi / 180\r\n",
        "\r\n",
        "  lat_1 = lat_1 * np.pi / 180\r\n",
        "  lat_2 = lat_2 * np.pi / 180\r\n",
        "\r\n",
        "  a = np.sin(diff_lat/2) * np.sin(diff_lat/2) + np.cos(lat_1) * np.cos(lat_2) * np.sin(diff_lng/2) * np.sin(diff_lng/2)\r\n",
        "  c = 2 * np.arctan2(np.sqrt(a), np.sqrt(1-a))\r\n",
        "  distance = 6371 * c * 1000\r\n",
        "\r\n",
        "  return distance"
      ],
      "execution_count": 95,
      "outputs": []
    },
    {
      "cell_type": "code",
      "metadata": {
        "id": "eo_MIpKlTZcc"
      },
      "source": [
        "test_df['distance'] = test_df.apply(lambda x: coordinate_dist(x.Lat_stand, x.Lng_stand, x.Lat_runway, x.Lng_runway), axis=1)\r\n",
        "test_df['dist_log'] = np.log(test_df['distance'].apply(lambda x: float(x)))"
      ],
      "execution_count": 96,
      "outputs": []
    },
    {
      "cell_type": "code",
      "metadata": {
        "id": "xRuRNBeCTZcd"
      },
      "source": [
        "test_df = test_df.drop(columns = ['Lat_stand', 'Lng_stand', 'Lat_runway', 'Lng_runway'])"
      ],
      "execution_count": 97,
      "outputs": []
    },
    {
      "cell_type": "markdown",
      "metadata": {
        "id": "MNNfgfT0TZcd"
      },
      "source": [
        "### Calculating datetime of AOBT"
      ]
    },
    {
      "cell_type": "code",
      "metadata": {
        "id": "aUNcSgApTZcd"
      },
      "source": [
        "test_df['AOBT_year'] = test_df['AOBT'].dt.year\r\n",
        "test_df['AOBT_month'] = test_df['AOBT'].dt.month\r\n",
        "test_df['AOBT_day'] = test_df['AOBT'].dt.day\r\n",
        "test_df['AOBT_hour'] = test_df['AOBT'].dt.hour\r\n",
        "test_df['AOBT_min'] = test_df['AOBT'].dt.minute"
      ],
      "execution_count": 98,
      "outputs": []
    },
    {
      "cell_type": "code",
      "metadata": {
        "id": "vsvNuMTgTZcd"
      },
      "source": [
        "test_df = test_df.drop(columns = ['Flight Datetime', 'Flight_Datetime_map', 'ATOT'])"
      ],
      "execution_count": 99,
      "outputs": []
    },
    {
      "cell_type": "code",
      "metadata": {
        "colab": {
          "base_uri": "https://localhost:8080/",
          "height": 789
        },
        "id": "_ibrKGG8qj0M",
        "outputId": "dd43869b-a4c2-44c7-abe6-5430eae53771"
      },
      "source": [
        "test_df"
      ],
      "execution_count": 100,
      "outputs": [
        {
          "output_type": "execute_result",
          "data": {
            "text/html": [
              "<div>\n",
              "<style scoped>\n",
              "    .dataframe tbody tr th:only-of-type {\n",
              "        vertical-align: middle;\n",
              "    }\n",
              "\n",
              "    .dataframe tbody tr th {\n",
              "        vertical-align: top;\n",
              "    }\n",
              "\n",
              "    .dataframe thead th {\n",
              "        text-align: right;\n",
              "    }\n",
              "</style>\n",
              "<table border=\"1\" class=\"dataframe\">\n",
              "  <thead>\n",
              "    <tr style=\"text-align: right;\">\n",
              "      <th></th>\n",
              "      <th>Aircraft Model</th>\n",
              "      <th>AOBT</th>\n",
              "      <th>Stand</th>\n",
              "      <th>Runway</th>\n",
              "      <th>Taxi_time</th>\n",
              "      <th>temperature</th>\n",
              "      <th>apparentTemperature</th>\n",
              "      <th>dewPoint</th>\n",
              "      <th>humidity</th>\n",
              "      <th>windSpeed</th>\n",
              "      <th>windGust</th>\n",
              "      <th>windBearing</th>\n",
              "      <th>cloudCover</th>\n",
              "      <th>uvIndex</th>\n",
              "      <th>visibility</th>\n",
              "      <th>precipType</th>\n",
              "      <th>precipAccumulation</th>\n",
              "      <th>ozone</th>\n",
              "      <th>N</th>\n",
              "      <th>Q</th>\n",
              "      <th>distance</th>\n",
              "      <th>dist_log</th>\n",
              "      <th>AOBT_year</th>\n",
              "      <th>AOBT_month</th>\n",
              "      <th>AOBT_day</th>\n",
              "      <th>AOBT_hour</th>\n",
              "      <th>AOBT_min</th>\n",
              "    </tr>\n",
              "  </thead>\n",
              "  <tbody>\n",
              "    <tr>\n",
              "      <th>0</th>\n",
              "      <td>B737-800 WINGLETS</td>\n",
              "      <td>2019-01-01 05:56:00</td>\n",
              "      <td>STAND_163</td>\n",
              "      <td>RUNWAY_2</td>\n",
              "      <td>420.0</td>\n",
              "      <td>46.46</td>\n",
              "      <td>42.44</td>\n",
              "      <td>41.00</td>\n",
              "      <td>0.81</td>\n",
              "      <td>8.05</td>\n",
              "      <td>17.220851</td>\n",
              "      <td>285.0</td>\n",
              "      <td>0.75</td>\n",
              "      <td>0.0</td>\n",
              "      <td>6.216</td>\n",
              "      <td>None</td>\n",
              "      <td>0.0</td>\n",
              "      <td>310.4</td>\n",
              "      <td>1</td>\n",
              "      <td>0</td>\n",
              "      <td>2004.252900</td>\n",
              "      <td>7.603027</td>\n",
              "      <td>2019</td>\n",
              "      <td>1</td>\n",
              "      <td>1</td>\n",
              "      <td>5</td>\n",
              "      <td>56</td>\n",
              "    </tr>\n",
              "    <tr>\n",
              "      <th>1</th>\n",
              "      <td>A319</td>\n",
              "      <td>2019-01-01 05:58:00</td>\n",
              "      <td>STAND_29</td>\n",
              "      <td>RUNWAY_2</td>\n",
              "      <td>480.0</td>\n",
              "      <td>46.46</td>\n",
              "      <td>42.44</td>\n",
              "      <td>41.00</td>\n",
              "      <td>0.81</td>\n",
              "      <td>8.05</td>\n",
              "      <td>17.220851</td>\n",
              "      <td>285.0</td>\n",
              "      <td>0.75</td>\n",
              "      <td>0.0</td>\n",
              "      <td>6.216</td>\n",
              "      <td>None</td>\n",
              "      <td>0.0</td>\n",
              "      <td>310.4</td>\n",
              "      <td>2</td>\n",
              "      <td>1</td>\n",
              "      <td>2646.514731</td>\n",
              "      <td>7.880999</td>\n",
              "      <td>2019</td>\n",
              "      <td>1</td>\n",
              "      <td>1</td>\n",
              "      <td>5</td>\n",
              "      <td>58</td>\n",
              "    </tr>\n",
              "    <tr>\n",
              "      <th>2</th>\n",
              "      <td>A320-100/200</td>\n",
              "      <td>2019-01-01 06:06:00</td>\n",
              "      <td>STAND_82</td>\n",
              "      <td>RUNWAY_2</td>\n",
              "      <td>780.0</td>\n",
              "      <td>46.46</td>\n",
              "      <td>42.44</td>\n",
              "      <td>41.00</td>\n",
              "      <td>0.81</td>\n",
              "      <td>8.05</td>\n",
              "      <td>17.220851</td>\n",
              "      <td>285.0</td>\n",
              "      <td>0.75</td>\n",
              "      <td>0.0</td>\n",
              "      <td>6.216</td>\n",
              "      <td>None</td>\n",
              "      <td>0.0</td>\n",
              "      <td>310.4</td>\n",
              "      <td>3</td>\n",
              "      <td>1</td>\n",
              "      <td>1629.695742</td>\n",
              "      <td>7.396149</td>\n",
              "      <td>2019</td>\n",
              "      <td>1</td>\n",
              "      <td>1</td>\n",
              "      <td>6</td>\n",
              "      <td>6</td>\n",
              "    </tr>\n",
              "    <tr>\n",
              "      <th>3</th>\n",
              "      <td>B787-900</td>\n",
              "      <td>2019-01-01 06:05:00</td>\n",
              "      <td>STAND_159</td>\n",
              "      <td>RUNWAY_2</td>\n",
              "      <td>960.0</td>\n",
              "      <td>46.46</td>\n",
              "      <td>42.44</td>\n",
              "      <td>41.00</td>\n",
              "      <td>0.81</td>\n",
              "      <td>8.05</td>\n",
              "      <td>17.220851</td>\n",
              "      <td>285.0</td>\n",
              "      <td>0.75</td>\n",
              "      <td>0.0</td>\n",
              "      <td>6.216</td>\n",
              "      <td>None</td>\n",
              "      <td>0.0</td>\n",
              "      <td>310.4</td>\n",
              "      <td>2</td>\n",
              "      <td>2</td>\n",
              "      <td>2475.432954</td>\n",
              "      <td>7.814171</td>\n",
              "      <td>2019</td>\n",
              "      <td>1</td>\n",
              "      <td>1</td>\n",
              "      <td>6</td>\n",
              "      <td>5</td>\n",
              "    </tr>\n",
              "    <tr>\n",
              "      <th>4</th>\n",
              "      <td>A320-100/200</td>\n",
              "      <td>2019-01-01 06:12:00</td>\n",
              "      <td>STAND_94</td>\n",
              "      <td>RUNWAY_2</td>\n",
              "      <td>720.0</td>\n",
              "      <td>46.46</td>\n",
              "      <td>42.44</td>\n",
              "      <td>41.00</td>\n",
              "      <td>0.81</td>\n",
              "      <td>8.05</td>\n",
              "      <td>17.220851</td>\n",
              "      <td>285.0</td>\n",
              "      <td>0.75</td>\n",
              "      <td>0.0</td>\n",
              "      <td>6.216</td>\n",
              "      <td>None</td>\n",
              "      <td>0.0</td>\n",
              "      <td>310.4</td>\n",
              "      <td>3</td>\n",
              "      <td>2</td>\n",
              "      <td>2595.850587</td>\n",
              "      <td>7.861670</td>\n",
              "      <td>2019</td>\n",
              "      <td>1</td>\n",
              "      <td>1</td>\n",
              "      <td>6</td>\n",
              "      <td>12</td>\n",
              "    </tr>\n",
              "    <tr>\n",
              "      <th>...</th>\n",
              "      <td>...</td>\n",
              "      <td>...</td>\n",
              "      <td>...</td>\n",
              "      <td>...</td>\n",
              "      <td>...</td>\n",
              "      <td>...</td>\n",
              "      <td>...</td>\n",
              "      <td>...</td>\n",
              "      <td>...</td>\n",
              "      <td>...</td>\n",
              "      <td>...</td>\n",
              "      <td>...</td>\n",
              "      <td>...</td>\n",
              "      <td>...</td>\n",
              "      <td>...</td>\n",
              "      <td>...</td>\n",
              "      <td>...</td>\n",
              "      <td>...</td>\n",
              "      <td>...</td>\n",
              "      <td>...</td>\n",
              "      <td>...</td>\n",
              "      <td>...</td>\n",
              "      <td>...</td>\n",
              "      <td>...</td>\n",
              "      <td>...</td>\n",
              "      <td>...</td>\n",
              "      <td>...</td>\n",
              "    </tr>\n",
              "    <tr>\n",
              "      <th>135134</th>\n",
              "      <td>A320-100/200</td>\n",
              "      <td>2019-12-31 21:04:00</td>\n",
              "      <td>STAND_154</td>\n",
              "      <td>RUNWAY_3</td>\n",
              "      <td>780.0</td>\n",
              "      <td>44.17</td>\n",
              "      <td>39.56</td>\n",
              "      <td>39.23</td>\n",
              "      <td>0.83</td>\n",
              "      <td>8.25</td>\n",
              "      <td>20.270000</td>\n",
              "      <td>102.0</td>\n",
              "      <td>0.26</td>\n",
              "      <td>0.0</td>\n",
              "      <td>6.391</td>\n",
              "      <td>None</td>\n",
              "      <td>0.0</td>\n",
              "      <td>313.3</td>\n",
              "      <td>2</td>\n",
              "      <td>1</td>\n",
              "      <td>1850.722625</td>\n",
              "      <td>7.523331</td>\n",
              "      <td>2019</td>\n",
              "      <td>12</td>\n",
              "      <td>31</td>\n",
              "      <td>21</td>\n",
              "      <td>4</td>\n",
              "    </tr>\n",
              "    <tr>\n",
              "      <th>135135</th>\n",
              "      <td>B787-900</td>\n",
              "      <td>2019-12-31 21:16:00</td>\n",
              "      <td>STAND_142</td>\n",
              "      <td>RUNWAY_2</td>\n",
              "      <td>1080.0</td>\n",
              "      <td>42.40</td>\n",
              "      <td>37.00</td>\n",
              "      <td>40.55</td>\n",
              "      <td>0.93</td>\n",
              "      <td>9.11</td>\n",
              "      <td>19.940000</td>\n",
              "      <td>93.0</td>\n",
              "      <td>0.08</td>\n",
              "      <td>0.0</td>\n",
              "      <td>10.000</td>\n",
              "      <td>None</td>\n",
              "      <td>0.0</td>\n",
              "      <td>311.6</td>\n",
              "      <td>3</td>\n",
              "      <td>2</td>\n",
              "      <td>2377.947990</td>\n",
              "      <td>7.773993</td>\n",
              "      <td>2019</td>\n",
              "      <td>12</td>\n",
              "      <td>31</td>\n",
              "      <td>21</td>\n",
              "      <td>16</td>\n",
              "    </tr>\n",
              "    <tr>\n",
              "      <th>135136</th>\n",
              "      <td>A320 NEO</td>\n",
              "      <td>2019-12-31 21:38:00</td>\n",
              "      <td>STAND_145</td>\n",
              "      <td>RUNWAY_1</td>\n",
              "      <td>1080.0</td>\n",
              "      <td>42.40</td>\n",
              "      <td>37.00</td>\n",
              "      <td>40.55</td>\n",
              "      <td>0.93</td>\n",
              "      <td>9.11</td>\n",
              "      <td>19.940000</td>\n",
              "      <td>93.0</td>\n",
              "      <td>0.08</td>\n",
              "      <td>0.0</td>\n",
              "      <td>10.000</td>\n",
              "      <td>None</td>\n",
              "      <td>0.0</td>\n",
              "      <td>311.6</td>\n",
              "      <td>2</td>\n",
              "      <td>1</td>\n",
              "      <td>2272.955421</td>\n",
              "      <td>7.728836</td>\n",
              "      <td>2019</td>\n",
              "      <td>12</td>\n",
              "      <td>31</td>\n",
              "      <td>21</td>\n",
              "      <td>38</td>\n",
              "    </tr>\n",
              "    <tr>\n",
              "      <th>135137</th>\n",
              "      <td>A321-100/200</td>\n",
              "      <td>2019-12-31 21:47:00</td>\n",
              "      <td>STAND_164</td>\n",
              "      <td>RUNWAY_3</td>\n",
              "      <td>840.0</td>\n",
              "      <td>42.40</td>\n",
              "      <td>37.00</td>\n",
              "      <td>40.55</td>\n",
              "      <td>0.93</td>\n",
              "      <td>9.11</td>\n",
              "      <td>19.940000</td>\n",
              "      <td>93.0</td>\n",
              "      <td>0.08</td>\n",
              "      <td>0.0</td>\n",
              "      <td>10.000</td>\n",
              "      <td>None</td>\n",
              "      <td>0.0</td>\n",
              "      <td>311.6</td>\n",
              "      <td>3</td>\n",
              "      <td>2</td>\n",
              "      <td>1226.979593</td>\n",
              "      <td>7.112311</td>\n",
              "      <td>2019</td>\n",
              "      <td>12</td>\n",
              "      <td>31</td>\n",
              "      <td>21</td>\n",
              "      <td>47</td>\n",
              "    </tr>\n",
              "    <tr>\n",
              "      <th>135138</th>\n",
              "      <td>ERJ-190</td>\n",
              "      <td>2019-12-31 22:48:00</td>\n",
              "      <td>STAND_121</td>\n",
              "      <td>RUNWAY_3</td>\n",
              "      <td>780.0</td>\n",
              "      <td>39.11</td>\n",
              "      <td>33.69</td>\n",
              "      <td>38.90</td>\n",
              "      <td>0.99</td>\n",
              "      <td>7.67</td>\n",
              "      <td>17.220000</td>\n",
              "      <td>114.0</td>\n",
              "      <td>0.37</td>\n",
              "      <td>0.0</td>\n",
              "      <td>10.000</td>\n",
              "      <td>None</td>\n",
              "      <td>0.0</td>\n",
              "      <td>311.7</td>\n",
              "      <td>1</td>\n",
              "      <td>0</td>\n",
              "      <td>1067.607204</td>\n",
              "      <td>6.973175</td>\n",
              "      <td>2019</td>\n",
              "      <td>12</td>\n",
              "      <td>31</td>\n",
              "      <td>22</td>\n",
              "      <td>48</td>\n",
              "    </tr>\n",
              "  </tbody>\n",
              "</table>\n",
              "<p>135139 rows × 27 columns</p>\n",
              "</div>"
            ],
            "text/plain": [
              "           Aircraft Model                AOBT  ... AOBT_hour AOBT_min\n",
              "0       B737-800 WINGLETS 2019-01-01 05:56:00  ...         5       56\n",
              "1                    A319 2019-01-01 05:58:00  ...         5       58\n",
              "2            A320-100/200 2019-01-01 06:06:00  ...         6        6\n",
              "3                B787-900 2019-01-01 06:05:00  ...         6        5\n",
              "4            A320-100/200 2019-01-01 06:12:00  ...         6       12\n",
              "...                   ...                 ...  ...       ...      ...\n",
              "135134       A320-100/200 2019-12-31 21:04:00  ...        21        4\n",
              "135135           B787-900 2019-12-31 21:16:00  ...        21       16\n",
              "135136           A320 NEO 2019-12-31 21:38:00  ...        21       38\n",
              "135137       A321-100/200 2019-12-31 21:47:00  ...        21       47\n",
              "135138            ERJ-190 2019-12-31 22:48:00  ...        22       48\n",
              "\n",
              "[135139 rows x 27 columns]"
            ]
          },
          "metadata": {
            "tags": []
          },
          "execution_count": 100
        }
      ]
    },
    {
      "cell_type": "code",
      "metadata": {
        "id": "-HZ18NGDq0rG"
      },
      "source": [
        "test_df.to_csv('test_df_1.csv')"
      ],
      "execution_count": 102,
      "outputs": []
    },
    {
      "cell_type": "code",
      "metadata": {
        "colab": {
          "base_uri": "https://localhost:8080/",
          "height": 832
        },
        "id": "m4E-bp8-rJZV",
        "outputId": "dbbf52cd-c62a-4c56-e76d-fc0e9d45bdb6"
      },
      "source": [
        "corr = test_df.corr()\r\n",
        "\r\n",
        "mask = np.zeros_like(corr, dtype=np.bool)\r\n",
        "mask[np.triu_indices_from(mask)] = True\r\n",
        "f, ax = plt.subplots(figsize=(15, 15))\r\n",
        "cmap = sns.diverging_palette(250, 10, as_cmap=True)\r\n",
        "sns.heatmap(corr, mask=mask, cmap=cmap, center=0, square=True, linewidths=.6, cbar_kws={\"shrink\": .5})"
      ],
      "execution_count": 103,
      "outputs": [
        {
          "output_type": "execute_result",
          "data": {
            "text/plain": [
              "<matplotlib.axes._subplots.AxesSubplot at 0x7f333e145128>"
            ]
          },
          "metadata": {
            "tags": []
          },
          "execution_count": 103
        },
        {
          "output_type": "display_data",
          "data": {
            "image/png": "[encoded data removed]",
            "text/plain": [
              "<Figure size 1080x1080 with 2 Axes>"
            ]
          },
          "metadata": {
            "tags": [],
            "needs_background": "light"
          }
        }
      ]
    },
    {
      "cell_type": "markdown",
      "metadata": {
        "id": "sdpInCHoDHWA"
      },
      "source": [
        "# Full Weather Set"
      ]
    },
    {
      "cell_type": "code",
      "metadata": {
        "id": "22VvmqBD33Gs"
      },
      "source": [
        "train_weather_df = pd.read_csv('training_set_weather_data.csv')"
      ],
      "execution_count": null,
      "outputs": []
    },
    {
      "cell_type": "code",
      "metadata": {
        "colab": {
          "base_uri": "https://localhost:8080/",
          "height": 407
        },
        "id": "-iT0qVBUEyEt",
        "outputId": "be2f5c8b-7a34-428f-da5b-c0187de6fa9f"
      },
      "source": [
        "train_weather_df.head()"
      ],
      "execution_count": null,
      "outputs": [
        {
          "output_type": "execute_result",
          "data": {
            "text/html": [
              "<div>\n",
              "<style scoped>\n",
              "    .dataframe tbody tr th:only-of-type {\n",
              "        vertical-align: middle;\n",
              "    }\n",
              "\n",
              "    .dataframe tbody tr th {\n",
              "        vertical-align: top;\n",
              "    }\n",
              "\n",
              "    .dataframe thead th {\n",
              "        text-align: right;\n",
              "    }\n",
              "</style>\n",
              "<table border=\"1\" class=\"dataframe\">\n",
              "  <thead>\n",
              "    <tr style=\"text-align: right;\">\n",
              "      <th></th>\n",
              "      <th>Flight Number</th>\n",
              "      <th>Flight Datetime</th>\n",
              "      <th>Aircraft Model</th>\n",
              "      <th>Aircraft Length</th>\n",
              "      <th>Aircraft Span</th>\n",
              "      <th>No. Engines</th>\n",
              "      <th>Airport Arrival/Departure</th>\n",
              "      <th>Movement Type</th>\n",
              "      <th>AOBT</th>\n",
              "      <th>ATOT</th>\n",
              "      <th>Distance_proxy_m</th>\n",
              "      <th>Log_distance_m</th>\n",
              "      <th>actual_taxi_out_sec</th>\n",
              "      <th>Year</th>\n",
              "      <th>Month</th>\n",
              "      <th>Weekday</th>\n",
              "      <th>Hour</th>\n",
              "      <th>N_dep_dep</th>\n",
              "      <th>N_dep_arr</th>\n",
              "      <th>Q_dep_dep</th>\n",
              "      <th>Q_dep_arr</th>\n",
              "      <th>time_hourly</th>\n",
              "      <th>summary</th>\n",
              "      <th>icon</th>\n",
              "      <th>precipIntensity</th>\n",
              "      <th>precipProbability</th>\n",
              "      <th>temperature</th>\n",
              "      <th>apparentTemperature</th>\n",
              "      <th>dewPoint</th>\n",
              "      <th>humidity</th>\n",
              "      <th>pressure</th>\n",
              "      <th>windSpeed</th>\n",
              "      <th>windGust</th>\n",
              "      <th>windBearing</th>\n",
              "      <th>cloudCover</th>\n",
              "      <th>uvIndex</th>\n",
              "      <th>visibility</th>\n",
              "      <th>precipType</th>\n",
              "      <th>precipAccumulation</th>\n",
              "      <th>ozone</th>\n",
              "    </tr>\n",
              "  </thead>\n",
              "  <tbody>\n",
              "    <tr>\n",
              "      <th>0</th>\n",
              "      <td>DY2434</td>\n",
              "      <td>1/1/2015 6:00</td>\n",
              "      <td>B737-800 WINGLETS</td>\n",
              "      <td>39.50</td>\n",
              "      <td>35.70</td>\n",
              "      <td>2</td>\n",
              "      <td>TFS</td>\n",
              "      <td>D</td>\n",
              "      <td>1/1/2015 5:56</td>\n",
              "      <td>1/1/2015 6:05</td>\n",
              "      <td>3276.655443</td>\n",
              "      <td>8.094578</td>\n",
              "      <td>540.0</td>\n",
              "      <td>2015.0</td>\n",
              "      <td>1.0</td>\n",
              "      <td>3.0</td>\n",
              "      <td>6.0</td>\n",
              "      <td>3.0</td>\n",
              "      <td>2.0</td>\n",
              "      <td>0.0</td>\n",
              "      <td>1.0</td>\n",
              "      <td>1/1/2015 6:00</td>\n",
              "      <td>Mostly Cloudy</td>\n",
              "      <td>partly-cloudy-night</td>\n",
              "      <td>0.0</td>\n",
              "      <td>0.0</td>\n",
              "      <td>44.65</td>\n",
              "      <td>39.29</td>\n",
              "      <td>42.8</td>\n",
              "      <td>0.93</td>\n",
              "      <td>1031.6</td>\n",
              "      <td>10.29</td>\n",
              "      <td>11.39</td>\n",
              "      <td>210.0</td>\n",
              "      <td>0.75</td>\n",
              "      <td>0.0</td>\n",
              "      <td>5.859</td>\n",
              "      <td>None</td>\n",
              "      <td>0.0</td>\n",
              "      <td>310.4</td>\n",
              "    </tr>\n",
              "    <tr>\n",
              "      <th>1</th>\n",
              "      <td>EZY8869</td>\n",
              "      <td>1/1/2015 6:10</td>\n",
              "      <td>A320-100/200</td>\n",
              "      <td>56.70</td>\n",
              "      <td>60.00</td>\n",
              "      <td>2</td>\n",
              "      <td>AMS</td>\n",
              "      <td>D</td>\n",
              "      <td>1/1/2015 6:08</td>\n",
              "      <td>1/1/2015 6:18</td>\n",
              "      <td>2777.685343</td>\n",
              "      <td>7.929373</td>\n",
              "      <td>600.0</td>\n",
              "      <td>2015.0</td>\n",
              "      <td>1.0</td>\n",
              "      <td>3.0</td>\n",
              "      <td>6.0</td>\n",
              "      <td>6.0</td>\n",
              "      <td>1.0</td>\n",
              "      <td>1.0</td>\n",
              "      <td>1.0</td>\n",
              "      <td>1/1/2015 6:00</td>\n",
              "      <td>Mostly Cloudy</td>\n",
              "      <td>partly-cloudy-night</td>\n",
              "      <td>0.0</td>\n",
              "      <td>0.0</td>\n",
              "      <td>44.65</td>\n",
              "      <td>39.29</td>\n",
              "      <td>42.8</td>\n",
              "      <td>0.93</td>\n",
              "      <td>1031.6</td>\n",
              "      <td>10.29</td>\n",
              "      <td>11.39</td>\n",
              "      <td>210.0</td>\n",
              "      <td>0.75</td>\n",
              "      <td>0.0</td>\n",
              "      <td>5.859</td>\n",
              "      <td>None</td>\n",
              "      <td>0.0</td>\n",
              "      <td>310.4</td>\n",
              "    </tr>\n",
              "    <tr>\n",
              "      <th>2</th>\n",
              "      <td>EZY8462</td>\n",
              "      <td>1/1/2015 6:15</td>\n",
              "      <td>A320-100/200</td>\n",
              "      <td>37.56</td>\n",
              "      <td>34.09</td>\n",
              "      <td>2</td>\n",
              "      <td>GVA</td>\n",
              "      <td>D</td>\n",
              "      <td>1/1/2015 6:08</td>\n",
              "      <td>1/1/2015 6:19</td>\n",
              "      <td>2729.133359</td>\n",
              "      <td>7.911739</td>\n",
              "      <td>660.0</td>\n",
              "      <td>2015.0</td>\n",
              "      <td>1.0</td>\n",
              "      <td>3.0</td>\n",
              "      <td>6.0</td>\n",
              "      <td>6.0</td>\n",
              "      <td>1.0</td>\n",
              "      <td>2.0</td>\n",
              "      <td>2.0</td>\n",
              "      <td>1/1/2015 6:00</td>\n",
              "      <td>Mostly Cloudy</td>\n",
              "      <td>partly-cloudy-night</td>\n",
              "      <td>0.0</td>\n",
              "      <td>0.0</td>\n",
              "      <td>44.65</td>\n",
              "      <td>39.29</td>\n",
              "      <td>42.8</td>\n",
              "      <td>0.93</td>\n",
              "      <td>1031.6</td>\n",
              "      <td>10.29</td>\n",
              "      <td>11.39</td>\n",
              "      <td>210.0</td>\n",
              "      <td>0.75</td>\n",
              "      <td>0.0</td>\n",
              "      <td>5.859</td>\n",
              "      <td>None</td>\n",
              "      <td>0.0</td>\n",
              "      <td>310.4</td>\n",
              "    </tr>\n",
              "    <tr>\n",
              "      <th>3</th>\n",
              "      <td>BA2632</td>\n",
              "      <td>1/1/2015 6:20</td>\n",
              "      <td>A320-100/200</td>\n",
              "      <td>37.56</td>\n",
              "      <td>34.09</td>\n",
              "      <td>2</td>\n",
              "      <td>ALC</td>\n",
              "      <td>D</td>\n",
              "      <td>1/1/2015 6:24</td>\n",
              "      <td>1/1/2015 6:36</td>\n",
              "      <td>2292.070065</td>\n",
              "      <td>7.737211</td>\n",
              "      <td>720.0</td>\n",
              "      <td>2015.0</td>\n",
              "      <td>1.0</td>\n",
              "      <td>3.0</td>\n",
              "      <td>6.0</td>\n",
              "      <td>9.0</td>\n",
              "      <td>2.0</td>\n",
              "      <td>5.0</td>\n",
              "      <td>1.0</td>\n",
              "      <td>1/1/2015 6:00</td>\n",
              "      <td>Mostly Cloudy</td>\n",
              "      <td>partly-cloudy-night</td>\n",
              "      <td>0.0</td>\n",
              "      <td>0.0</td>\n",
              "      <td>44.65</td>\n",
              "      <td>39.29</td>\n",
              "      <td>42.8</td>\n",
              "      <td>0.93</td>\n",
              "      <td>1031.6</td>\n",
              "      <td>10.29</td>\n",
              "      <td>11.39</td>\n",
              "      <td>210.0</td>\n",
              "      <td>0.75</td>\n",
              "      <td>0.0</td>\n",
              "      <td>5.859</td>\n",
              "      <td>None</td>\n",
              "      <td>0.0</td>\n",
              "      <td>310.4</td>\n",
              "    </tr>\n",
              "    <tr>\n",
              "      <th>4</th>\n",
              "      <td>EZY5381</td>\n",
              "      <td>1/1/2015 6:20</td>\n",
              "      <td>A319</td>\n",
              "      <td>33.84</td>\n",
              "      <td>34.09</td>\n",
              "      <td>2</td>\n",
              "      <td>MUC</td>\n",
              "      <td>D</td>\n",
              "      <td>1/1/2015 6:14</td>\n",
              "      <td>1/1/2015 6:27</td>\n",
              "      <td>3194.416489</td>\n",
              "      <td>8.069160</td>\n",
              "      <td>780.0</td>\n",
              "      <td>2015.0</td>\n",
              "      <td>1.0</td>\n",
              "      <td>3.0</td>\n",
              "      <td>6.0</td>\n",
              "      <td>6.0</td>\n",
              "      <td>1.0</td>\n",
              "      <td>2.0</td>\n",
              "      <td>2.0</td>\n",
              "      <td>1/1/2015 6:00</td>\n",
              "      <td>Mostly Cloudy</td>\n",
              "      <td>partly-cloudy-night</td>\n",
              "      <td>0.0</td>\n",
              "      <td>0.0</td>\n",
              "      <td>44.65</td>\n",
              "      <td>39.29</td>\n",
              "      <td>42.8</td>\n",
              "      <td>0.93</td>\n",
              "      <td>1031.6</td>\n",
              "      <td>10.29</td>\n",
              "      <td>11.39</td>\n",
              "      <td>210.0</td>\n",
              "      <td>0.75</td>\n",
              "      <td>0.0</td>\n",
              "      <td>5.859</td>\n",
              "      <td>None</td>\n",
              "      <td>0.0</td>\n",
              "      <td>310.4</td>\n",
              "    </tr>\n",
              "  </tbody>\n",
              "</table>\n",
              "</div>"
            ],
            "text/plain": [
              "  Flight Number Flight Datetime  ... precipAccumulation  ozone\n",
              "0        DY2434   1/1/2015 6:00  ...                0.0  310.4\n",
              "1       EZY8869   1/1/2015 6:10  ...                0.0  310.4\n",
              "2       EZY8462   1/1/2015 6:15  ...                0.0  310.4\n",
              "3        BA2632   1/1/2015 6:20  ...                0.0  310.4\n",
              "4       EZY5381   1/1/2015 6:20  ...                0.0  310.4\n",
              "\n",
              "[5 rows x 40 columns]"
            ]
          },
          "metadata": {
            "tags": []
          },
          "execution_count": 6
        }
      ]
    },
    {
      "cell_type": "code",
      "metadata": {
        "id": "IzULh1cJr8EG"
      },
      "source": [
        "corr = train_weather_df.corr()\r\n",
        "\r\n",
        "mask = np.zeros_like(corr, dtype=np.bool)\r\n",
        "mask[np.triu_indices_from(mask)] = True\r\n",
        "f, ax = plt.subplots(figsize=(15, 15))\r\n",
        "cmap = sns.diverging_palette(250, 10, as_cmap=True)\r\n",
        "sns.heatmap(corr, mask=mask, cmap=cmap, center=0, square=True, linewidths=.6, cbar_kws={\"shrink\": .5})"
      ],
      "execution_count": null,
      "outputs": []
    }
  ]
}